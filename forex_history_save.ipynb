{
 "cells": [
  {
   "cell_type": "code",
   "execution_count": 2,
   "metadata": {
    "scrolled": false
   },
   "outputs": [
    {
     "name": "stderr",
     "output_type": "stream",
     "text": [
      "|WARNING|2023-01-19 23:01:22,474|Default account set to 1342146, to change use set_default_account().\n"
     ]
    },
    {
     "name": "stdout",
     "output_type": "stream",
     "text": [
      "                     bidopen  bidclose  bidhigh   bidlow  askopen  askclose  \\\n",
      "date                                                                          \n",
      "2023-01-19 21:58:00  1.08305   1.08304  1.08311  1.08296  1.08313   1.08315   \n",
      "2023-01-19 21:59:00  1.08303   1.08307  1.08307  1.08264  1.08315   1.08349   \n",
      "2023-01-19 22:00:00  1.08306   1.08273  1.08317  1.08273  1.08349   1.08347   \n",
      "\n",
      "                     askhigh   asklow  tickqty  \n",
      "date                                            \n",
      "2023-01-19 21:58:00  1.08320  1.08307       86  \n",
      "2023-01-19 21:59:00  1.08369  1.08300      152  \n",
      "2023-01-19 22:00:00  1.08383  1.08347       10  \n"
     ]
    }
   ],
   "source": [
    "import fxcmpy\n",
    "\n",
    "con = fxcmpy.fxcmpy(config_file='fxcm.cfg')\n",
    "print(con.get_candles('EUR/USD', period='m1', number=3))\n",
    "\n",
    "con.close()\n"
   ]
  },
  {
   "cell_type": "code",
   "execution_count": 1,
   "metadata": {},
   "outputs": [
    {
     "name": "stdout",
     "output_type": "stream",
     "text": [
      "1.3.3\n"
     ]
    }
   ],
   "source": [
    "import fxcmpy\n",
    "print(fxcmpy.__version__)"
   ]
  },
  {
   "cell_type": "markdown",
   "metadata": {},
   "source": [
    "### get_candles"
   ]
  },
  {
   "cell_type": "code",
   "execution_count": 3,
   "metadata": {},
   "outputs": [
    {
     "name": "stdout",
     "output_type": "stream",
     "text": [
      "[{'askclose': 1.10961,\n",
      "  'askhigh': 1.10964,\n",
      "  'asklow': 1.1095,\n",
      "  'askopen': 1.1095,\n",
      "  'bidclose': 1.10955,\n",
      "  'bidhigh': 1.10958,\n",
      "  'bidlow': 1.10944,\n",
      "  'bidopen': 1.10945,\n",
      "  'date': datetime.datetime(2020, 1, 22, 23, 55),\n",
      "  'tickqty': 283},\n",
      " {'_id': ObjectId('63cb33c63a25a7383d77475d'),\n",
      "  'askclose': 1.1095,\n",
      "  'askhigh': 1.10958,\n",
      "  'asklow': 1.10947,\n",
      "  'askopen': 1.10948,\n",
      "  'bidclose': 1.10945,\n",
      "  'bidhigh': 1.10952,\n",
      "  'bidlow': 1.10939,\n",
      "  'bidopen': 1.10942,\n",
      "  'date': datetime.datetime(2020, 1, 22, 23, 50),\n",
      "  'tickqty': 164}]\n"
     ]
    }
   ],
   "source": [
    "import kragle.kdb as kdb\n",
    "import datetime as dt\n",
    "import pprint as pp\n",
    "\n",
    "date_start = dt.datetime(2020, 1, 22, 23, 50)\n",
    "date_end = dt.datetime(2020, 1, 22, 23, 59)\n",
    "\n",
    "db = kdb.KragleDB('FX_2020_GEN_22')\n",
    "v = db.get_candles('EUR/USD', 'm5', date_end, 2)\n",
    "pp.pprint(v)"
   ]
  },
  {
   "cell_type": "markdown",
   "metadata": {},
   "source": [
    "### calc_mean_stddev"
   ]
  },
  {
   "cell_type": "code",
   "execution_count": 2,
   "metadata": {},
   "outputs": [
    {
     "name": "stdout",
     "output_type": "stream",
     "text": [
      "{'bidopen-mean': 0.00011594279860246181,\n",
      " 'bidopen-stddev': 0.8242580674716756,\n",
      " 'tickqty-mean': 0.40272353284787743,\n",
      " 'tickqty-stddev': 0.3762696817328249}\n"
     ]
    }
   ],
   "source": [
    "import kragle.kdb as kdb\n",
    "import datetime as dt\n",
    "import pprint as pp\n",
    "\n",
    "date_start = dt.datetime(2021, 1, 1)\n",
    "date_end = dt.datetime(2021, 5, 31,)\n",
    "\n",
    "db = kdb.KragleDB('FX_2020_2021')\n",
    "v = db.calc_mean_stddev('EUR/USD', 'm1', date_start, date_end)\n",
    "pp.pprint(v)"
   ]
  },
  {
   "cell_type": "markdown",
   "metadata": {},
   "source": [
    "### get_sample"
   ]
  },
  {
   "cell_type": "code",
   "execution_count": 1,
   "metadata": {},
   "outputs": [
    {
     "name": "stdout",
     "output_type": "stream",
     "text": [
      "{'date': datetime.datetime(2021, 1, 5, 14, 57),\n",
      " 'x': [[[1.4999999999998348, 1.1525],\n",
      "        [-1.9999999999997797, 1.1425],\n",
      "        [-0.5999999999994898, 0.765],\n",
      "        [-2.100000000000435, 1.115],\n",
      "        [-0.2999999999997449, 0.92]],\n",
      "       [[-0.8666666666664232, 1.0075],\n",
      "        [-1.1333333333333566, 1.352],\n",
      "        [-0.3000000000004851, 1.7275],\n",
      "        [-0.23333333333338166, 1.8015],\n",
      "        [-0.4666666666660232, 1.331]],\n",
      "       [[1.4666666666665051, 0.6108333333333333],\n",
      "        [-0.8133333333333326, 0.873],\n",
      "        [-0.5199999999998539, 0.6958333333333333],\n",
      "        [0.10666666666647728, 0.7219166666666667],\n",
      "        [-1.5333333333333126, 0.6241666666666666]],\n",
      "       [[-1.3800000000000108, 0.874475],\n",
      "        [0.7199999999999799, 0.60045],\n",
      "        [0.9333333333333785, 0.865125],\n",
      "        [-0.9266666666666682, 0.54995],\n",
      "        [-0.04666666666667633, 0.35945]],\n",
      "       [[-0.3266666666666603, 0.7225],\n",
      "        [0.963333333333353, 0.3125875],\n",
      "        [-1.8566666666666916, 0.84705625],\n",
      "        [1.4600000000000168, 0.77996875],\n",
      "        [0.5399999999999849, 0.4076375]],\n",
      "       [[0.6133333333333053, 0.0009175],\n",
      "        [-1.7111111111111201, 0.4998325],\n",
      "        [1.0288888888889187, 0.5658225],\n",
      "        [0.7266666666666409, 0.5132],\n",
      "        [0.7622222222222321, 0.53083]]],\n",
      " 'y': 1}\n"
     ]
    }
   ],
   "source": [
    "import kragle.kdb as kdb\n",
    "import datetime as dt\n",
    "import pprint as pp\n",
    "\n",
    "date_end = dt.datetime(2021, 1, 5, 14, 57)\n",
    "\n",
    "db = kdb.KragleDB('FX_2020_2021')\n",
    "v = db.get_sample(to_date = date_end, n= 5)\n",
    "pp.pprint(v)"
   ]
  },
  {
   "cell_type": "markdown",
   "metadata": {},
   "source": [
    "### duplicate_db"
   ]
  },
  {
   "cell_type": "code",
   "execution_count": 3,
   "metadata": {},
   "outputs": [
    {
     "data": {
      "text/plain": [
       "['D1', 'H2', 'm1', 'm30', 'm5', 'H8']"
      ]
     },
     "execution_count": 3,
     "metadata": {},
     "output_type": "execute_result"
    }
   ],
   "source": [
    "import kragle.kdb as kdb\n",
    "import datetime as dt\n",
    "import kragle.utils as kutils\n",
    "\n",
    "date_start = dt.datetime(2019, 1, 1)\n",
    "date_end = dt.datetime(2021, 12, 31)\n",
    "\n",
    "dbname = 'FX_2019_2022'\n",
    "db = kdb.KragleDB('FX_RAW')\n",
    "olddb = kdb.KragleDB(dbname)\n",
    "olddb.drop_db()\n",
    "newdb = db.duplicate_db(dbname, from_date=date_start, to_date=date_end, fields=kutils.FIELDS)\n",
    "newdb.get_periods()"
   ]
  },
  {
   "cell_type": "markdown",
   "metadata": {},
   "source": [
    "## Create Dataset"
   ]
  },
  {
   "cell_type": "code",
   "execution_count": 7,
   "metadata": {},
   "outputs": [
    {
     "name": "stdout",
     "output_type": "stream",
     "text": [
      "Dataset len: 50/1000\n",
      "Dataset len: 50/1000\n",
      "Dataset len: 100/1000\n",
      "Dataset len: 150/1000\n",
      "Dataset len: 200/1000\n",
      "Dataset len: 250/1000\n",
      "Dataset len: 300/1000\n",
      "Dataset len: 350/1000\n",
      "Dataset len: 400/1000\n",
      "Dataset len: 450/1000\n",
      "Dataset len: 500/1000\n",
      "Dataset len: 500/1000\n",
      "Dataset len: 500/1000\n",
      "Dataset len: 550/1000\n",
      "Dataset len: 550/1000\n",
      "Dataset len: 600/1000\n",
      "Dataset len: 650/1000\n",
      "Dataset len: 650/1000\n",
      "Dataset len: 700/1000\n",
      "Dataset len: 700/1000\n",
      "Dataset len: 750/1000\n",
      "Dataset len: 800/1000\n",
      "Dataset len: 800/1000\n",
      "Dataset len: 850/1000\n",
      "Dataset len: 900/1000\n",
      "Dataset len: 950/1000\n",
      "Dataset len: 1000/1000\n",
      "END\n"
     ]
    }
   ],
   "source": [
    "import kragle.kdb as kdb\n",
    "import datetime as dt\n",
    "import pprint as pp\n",
    "\n",
    "from_date = dt.datetime(2019, 2, 1)\n",
    "to_date = dt.datetime(2022, 12, 1)\n",
    "periods=['m1', 'm5', 'm30', 'H2', 'H8', 'D1']\n",
    "db = kdb.KragleDB('FX_2019_2022')\n",
    "db.create_dataset( 1000, from_date, to_date, \n",
    "                  periods=periods, history_len=10, pips=15, limit_future=600,distribution=[0.7, 0.2, 0.1])\n",
    "print('END')\n"
   ]
  },
  {
   "cell_type": "code",
   "execution_count": 17,
   "metadata": {
    "scrolled": true
   },
   "outputs": [
    {
     "name": "stdout",
     "output_type": "stream",
     "text": [
      "WARNING | Default account set to 1342146, to change use set_default_account().\n",
      "END\n"
     ]
    }
   ],
   "source": [
    "import kragle.fxcm_utils as fxutils\n",
    "import datetime as dt\n",
    "import logging.config\n",
    "\n",
    "logging.config.fileConfig('log.cfg')\n",
    "\n",
    "start = dt.datetime(2015, 1, 1)\n",
    "end = dt.datetime(2016, 1, 1)\n",
    "\n",
    "\n",
    "m = fxutils.FxcmManager(dbname='FX_RAW')\n",
    "m.fetch_instrument(start, end)\n",
    "m.close()\n",
    "\n",
    "print('END')\n"
   ]
  },
  {
   "cell_type": "markdown",
   "metadata": {},
   "source": [
    "### Tensorflow"
   ]
  },
  {
   "cell_type": "code",
   "execution_count": 4,
   "metadata": {},
   "outputs": [
    {
     "name": "stdout",
     "output_type": "stream",
     "text": [
      "Model: \"sequential\"\n",
      "_________________________________________________________________\n",
      " Layer (type)                Output Shape              Param #   \n",
      "=================================================================\n",
      " conv2d (Conv2D)             (None, 6, 10, 32)         224       \n",
      "                                                                 \n",
      " conv2d_1 (Conv2D)           (None, 6, 10, 32)         9248      \n",
      "                                                                 \n",
      " conv2d_2 (Conv2D)           (None, 6, 10, 64)         18496     \n",
      "                                                                 \n",
      " dropout (Dropout)           (None, 6, 10, 64)         0         \n",
      "                                                                 \n",
      " conv2d_3 (Conv2D)           (None, 6, 10, 64)         36928     \n",
      "                                                                 \n",
      " conv2d_4 (Conv2D)           (None, 6, 10, 64)         36928     \n",
      "                                                                 \n",
      " flatten (Flatten)           (None, 3840)              0         \n",
      "                                                                 \n",
      " dense (Dense)               (None, 64)                245824    \n",
      "                                                                 \n",
      " dense_1 (Dense)             (None, 3)                 195       \n",
      "                                                                 \n",
      "=================================================================\n",
      "Total params: 347,843\n",
      "Trainable params: 347,843\n",
      "Non-trainable params: 0\n",
      "_________________________________________________________________\n"
     ]
    }
   ],
   "source": [
    "import tensorflow as tf\n",
    "\n",
    "from tensorflow.keras import datasets, layers, models\n",
    "\n",
    "\n",
    "model = models.Sequential()\n",
    "model.add(layers.Conv2D(32, (1, 3), activation='relu', input_shape=(6, 10, 2), padding='same'))\n",
    "model.add(layers.Conv2D(32, (3, 3), activation='relu', padding='same'))\n",
    "model.add(layers.Conv2D(64, (3, 3), activation='relu', padding='same'))\n",
    "model.add(layers.Dropout(0.25))\n",
    "model.add(layers.Conv2D(64, (3, 3), activation='relu', padding='same'))\n",
    "model.add(layers.Conv2D(64, (3, 3), activation='relu', padding='same'))\n",
    "#model.add(layers.BatchNormalization())\n",
    "\n",
    "\n",
    "model.add(layers.Flatten())\n",
    "model.add(layers.Dense(64, activation='relu'))\n",
    "model.add(layers.Dense(3, activation='softmax'))\n",
    "\n",
    "model.summary()"
   ]
  },
  {
   "cell_type": "markdown",
   "metadata": {},
   "source": [
    "### Compiling Model"
   ]
  },
  {
   "cell_type": "code",
   "execution_count": 5,
   "metadata": {},
   "outputs": [],
   "source": [
    "model.compile(optimizer='adam',\n",
    "              loss=tf.keras.losses.SparseCategoricalCrossentropy(from_logits=False),\n",
    "              metrics=['accuracy'],\n",
    "              run_eagerly=True)\n",
    "\n"
   ]
  },
  {
   "cell_type": "markdown",
   "metadata": {},
   "source": [
    "### Training Model"
   ]
  },
  {
   "cell_type": "code",
   "execution_count": 6,
   "metadata": {},
   "outputs": [
    {
     "name": "stdout",
     "output_type": "stream",
     "text": [
      "Epoch 1/50\n",
      "341/341 [==============================] - 25s 72ms/step - loss: 5.5478 - accuracy: 0.4561 - val_loss: 1.0463 - val_accuracy: 0.4897\n",
      "Epoch 2/50\n",
      "341/341 [==============================] - 24s 71ms/step - loss: 5.4633 - accuracy: 0.4843 - val_loss: 1.0175 - val_accuracy: 0.4992\n",
      "Epoch 3/50\n",
      "341/341 [==============================] - 24s 72ms/step - loss: 5.3234 - accuracy: 0.5182 - val_loss: 0.9846 - val_accuracy: 0.5070\n",
      "Epoch 4/50\n",
      "341/341 [==============================] - 25s 72ms/step - loss: 5.1542 - accuracy: 0.5514 - val_loss: 0.9906 - val_accuracy: 0.5331\n",
      "Epoch 5/50\n",
      "341/341 [==============================] - 25s 72ms/step - loss: 4.8485 - accuracy: 0.5975 - val_loss: 0.9758 - val_accuracy: 0.5353\n",
      "Epoch 6/50\n",
      "341/341 [==============================] - 25s 72ms/step - loss: 4.4570 - accuracy: 0.6432 - val_loss: 0.9058 - val_accuracy: 0.5718\n",
      "Epoch 7/50\n",
      "341/341 [==============================] - 25s 72ms/step - loss: 4.0168 - accuracy: 0.6790 - val_loss: 0.9685 - val_accuracy: 0.5812\n",
      "Epoch 8/50\n",
      "341/341 [==============================] - 25s 72ms/step - loss: 3.5615 - accuracy: 0.7187 - val_loss: 1.0084 - val_accuracy: 0.5764\n",
      "Epoch 9/50\n",
      "341/341 [==============================] - 25s 73ms/step - loss: 3.2183 - accuracy: 0.7434 - val_loss: 0.9305 - val_accuracy: 0.6099\n",
      "Epoch 10/50\n",
      "341/341 [==============================] - 25s 72ms/step - loss: 2.7889 - accuracy: 0.7695 - val_loss: 0.9985 - val_accuracy: 0.6044\n",
      "Epoch 11/50\n",
      "341/341 [==============================] - 25s 72ms/step - loss: 2.5139 - accuracy: 0.7879 - val_loss: 0.9887 - val_accuracy: 0.6138\n",
      "Epoch 12/50\n",
      "341/341 [==============================] - 25s 72ms/step - loss: 2.1820 - accuracy: 0.8068 - val_loss: 1.0367 - val_accuracy: 0.6190\n",
      "Epoch 13/50\n",
      "341/341 [==============================] - 25s 73ms/step - loss: 1.9459 - accuracy: 0.8191 - val_loss: 1.1792 - val_accuracy: 0.6223\n",
      "Epoch 14/50\n",
      "341/341 [==============================] - 25s 72ms/step - loss: 1.8342 - accuracy: 0.8265 - val_loss: 1.1192 - val_accuracy: 0.6210\n",
      "Epoch 15/50\n",
      "341/341 [==============================] - 25s 72ms/step - loss: 1.6464 - accuracy: 0.8408 - val_loss: 1.1145 - val_accuracy: 0.6236\n",
      "Epoch 16/50\n",
      "341/341 [==============================] - 25s 72ms/step - loss: 1.5343 - accuracy: 0.8493 - val_loss: 1.0985 - val_accuracy: 0.6203\n",
      "Epoch 17/50\n",
      "341/341 [==============================] - 25s 72ms/step - loss: 1.3992 - accuracy: 0.8572 - val_loss: 1.1773 - val_accuracy: 0.6268\n",
      "Epoch 18/50\n",
      "341/341 [==============================] - 25s 72ms/step - loss: 1.2986 - accuracy: 0.8656 - val_loss: 1.2605 - val_accuracy: 0.6301\n",
      "Epoch 19/50\n",
      "341/341 [==============================] - 25s 72ms/step - loss: 1.2413 - accuracy: 0.8719 - val_loss: 1.2619 - val_accuracy: 0.6174\n",
      "Epoch 20/50\n",
      "341/341 [==============================] - 25s 72ms/step - loss: 1.2272 - accuracy: 0.8717 - val_loss: 1.2827 - val_accuracy: 0.6259\n",
      "Epoch 21/50\n",
      "341/341 [==============================] - 25s 72ms/step - loss: 1.1831 - accuracy: 0.8752 - val_loss: 1.2314 - val_accuracy: 0.6350\n",
      "Epoch 22/50\n",
      "341/341 [==============================] - 24s 72ms/step - loss: 1.0400 - accuracy: 0.8860 - val_loss: 1.3265 - val_accuracy: 0.6340\n",
      "Epoch 23/50\n",
      "341/341 [==============================] - 24s 72ms/step - loss: 1.0537 - accuracy: 0.8873 - val_loss: 1.3362 - val_accuracy: 0.6386\n",
      "Epoch 24/50\n",
      "341/341 [==============================] - 24s 72ms/step - loss: 0.9920 - accuracy: 0.8916 - val_loss: 1.3468 - val_accuracy: 0.6382\n",
      "Epoch 25/50\n",
      "341/341 [==============================] - 25s 72ms/step - loss: 0.9793 - accuracy: 0.8955 - val_loss: 1.3427 - val_accuracy: 0.6324\n",
      "Epoch 26/50\n",
      "341/341 [==============================] - 25s 72ms/step - loss: 0.9929 - accuracy: 0.8953 - val_loss: 1.4180 - val_accuracy: 0.6288\n",
      "Epoch 27/50\n",
      "341/341 [==============================] - 25s 72ms/step - loss: 0.8731 - accuracy: 0.9016 - val_loss: 1.4258 - val_accuracy: 0.6389\n",
      "Epoch 28/50\n",
      "341/341 [==============================] - 25s 72ms/step - loss: 0.9517 - accuracy: 0.8981 - val_loss: 1.4113 - val_accuracy: 0.6350\n",
      "Epoch 29/50\n",
      "341/341 [==============================] - 25s 72ms/step - loss: 0.8828 - accuracy: 0.9066 - val_loss: 1.4192 - val_accuracy: 0.6327\n",
      "Epoch 30/50\n",
      "341/341 [==============================] - 25s 72ms/step - loss: 0.8663 - accuracy: 0.9088 - val_loss: 1.4755 - val_accuracy: 0.6343\n",
      "Epoch 31/50\n",
      "341/341 [==============================] - 25s 73ms/step - loss: 0.7637 - accuracy: 0.9151 - val_loss: 1.4927 - val_accuracy: 0.6350\n",
      "Epoch 32/50\n",
      "341/341 [==============================] - 25s 72ms/step - loss: 0.8218 - accuracy: 0.9141 - val_loss: 1.3536 - val_accuracy: 0.6402\n",
      "Epoch 33/50\n",
      "341/341 [==============================] - 25s 73ms/step - loss: 0.7901 - accuracy: 0.9176 - val_loss: 1.4421 - val_accuracy: 0.6304\n",
      "Epoch 34/50\n",
      "341/341 [==============================] - 25s 72ms/step - loss: 0.7465 - accuracy: 0.9197 - val_loss: 1.6084 - val_accuracy: 0.6265\n",
      "Epoch 35/50\n",
      "341/341 [==============================] - 25s 72ms/step - loss: 0.7249 - accuracy: 0.9215 - val_loss: 1.6106 - val_accuracy: 0.6467\n",
      "Epoch 36/50\n",
      "341/341 [==============================] - 25s 72ms/step - loss: 0.7350 - accuracy: 0.9211 - val_loss: 1.5643 - val_accuracy: 0.6415\n",
      "Epoch 37/50\n",
      "341/341 [==============================] - 25s 73ms/step - loss: 0.7523 - accuracy: 0.9233 - val_loss: 1.5881 - val_accuracy: 0.6369\n",
      "Epoch 38/50\n",
      "341/341 [==============================] - 24s 72ms/step - loss: 0.7493 - accuracy: 0.9255 - val_loss: 1.4781 - val_accuracy: 0.6421\n",
      "Epoch 39/50\n",
      "341/341 [==============================] - 25s 72ms/step - loss: 0.6689 - accuracy: 0.9324 - val_loss: 1.5547 - val_accuracy: 0.6470\n",
      "Epoch 40/50\n",
      "341/341 [==============================] - 25s 72ms/step - loss: 0.7223 - accuracy: 0.9266 - val_loss: 1.4368 - val_accuracy: 0.6434\n",
      "Epoch 41/50\n",
      "341/341 [==============================] - 25s 72ms/step - loss: 0.6489 - accuracy: 0.9358 - val_loss: 1.5017 - val_accuracy: 0.6513\n",
      "Epoch 42/50\n",
      "341/341 [==============================] - 25s 72ms/step - loss: 0.5993 - accuracy: 0.9400 - val_loss: 1.7519 - val_accuracy: 0.6405\n",
      "Epoch 43/50\n",
      "341/341 [==============================] - 25s 72ms/step - loss: 0.7194 - accuracy: 0.9321 - val_loss: 1.6056 - val_accuracy: 0.6486\n",
      "Epoch 44/50\n",
      "341/341 [==============================] - 25s 72ms/step - loss: 0.6622 - accuracy: 0.9381 - val_loss: 1.5608 - val_accuracy: 0.6444\n",
      "Epoch 45/50\n",
      "341/341 [==============================] - 25s 73ms/step - loss: 0.6260 - accuracy: 0.9394 - val_loss: 1.5783 - val_accuracy: 0.6363\n",
      "Epoch 46/50\n",
      "341/341 [==============================] - 25s 72ms/step - loss: 0.6206 - accuracy: 0.9401 - val_loss: 1.6261 - val_accuracy: 0.6389\n",
      "Epoch 47/50\n",
      "341/341 [==============================] - 25s 72ms/step - loss: 0.5564 - accuracy: 0.9430 - val_loss: 1.7981 - val_accuracy: 0.6438\n",
      "Epoch 48/50\n",
      "341/341 [==============================] - 25s 72ms/step - loss: 0.5886 - accuracy: 0.9443 - val_loss: 1.6832 - val_accuracy: 0.6389\n",
      "Epoch 49/50\n",
      "341/341 [==============================] - 25s 72ms/step - loss: 0.5087 - accuracy: 0.9479 - val_loss: 1.7594 - val_accuracy: 0.6486\n",
      "Epoch 50/50\n",
      "341/341 [==============================] - 25s 72ms/step - loss: 0.5909 - accuracy: 0.9464 - val_loss: 1.5549 - val_accuracy: 0.6438\n"
     ]
    }
   ],
   "source": [
    "history = model.fit(train_set, train_labels, epochs=50, validation_data=valid, class_weight={0:8, 1:1, 2:8})"
   ]
  },
  {
   "cell_type": "markdown",
   "metadata": {},
   "source": [
    "### Plotting Accuracy"
   ]
  },
  {
   "cell_type": "code",
   "execution_count": 8,
   "metadata": {},
   "outputs": [
    {
     "name": "stdout",
     "output_type": "stream",
     "text": [
      "49/49 - 1s - loss: 1.4871 - accuracy: 0.6524 - 779ms/epoch - 16ms/step\n",
      "0.6524234414100647\n"
     ]
    },
    {
     "data": {
      "image/png": "[encoded data removed]",
      "text/plain": [
       "<Figure size 640x480 with 1 Axes>"
      ]
     },
     "metadata": {},
     "output_type": "display_data"
    }
   ],
   "source": [
    "import matplotlib.pyplot as plt\n",
    "\n",
    "plt.plot(history.history['loss'], label='loss')\n",
    "plt.plot(history.history['accuracy'], label='accuracy')\n",
    "plt.plot(history.history['val_loss'], label = 'val_loss')\n",
    "plt.plot(history.history['val_accuracy'], label = 'val_accuracy')\n",
    "plt.xlabel('Epoch')\n",
    "plt.ylabel('Accuracy / Loss')\n",
    "plt.ylim([0, 4])\n",
    "plt.legend(loc='lower right')\n",
    "\n",
    "test_loss, test_acc = model.evaluate(test[0],  test[1], verbose=2)\n",
    "\n",
    "print(test_acc)"
   ]
  },
  {
   "cell_type": "code",
   "execution_count": 12,
   "metadata": {},
   "outputs": [
    {
     "name": "stdout",
     "output_type": "stream",
     "text": [
      "Evaluate on test data on BUY\n",
      "24/24 [==============================] - 0s 16ms/step - loss: 1.4411 - accuracy: 0.6503\n",
      "test loss, test acc: [1.4411362409591675, 0.6502659320831299]\n",
      "Evaluate on test data on SELL\n",
      "21/21 [==============================] - 0s 17ms/step - loss: 1.0838 - accuracy: 0.7104\n",
      "test loss, test acc: [1.0837801694869995, 0.7104477882385254]\n",
      "Evaluate on test data on HOLD\n",
      "5/5 [==============================] - 0s 16ms/step - loss: 3.5751 - accuracy: 0.3973\n",
      "test loss, test acc: [3.575082778930664, 0.39726027846336365]\n"
     ]
    }
   ],
   "source": [
    "print(\"Evaluate on test data on BUY\")\n",
    "results = model.evaluate(test_BUY[0],test_BUY[1])\n",
    "print(\"test loss, test acc:\", results)\n",
    "print(\"Evaluate on test data on SELL\")\n",
    "results = model.evaluate(test_SELL[0],test_SELL[1])\n",
    "print(\"test loss, test acc:\", results)\n",
    "print(\"Evaluate on test data on HOLD\")\n",
    "results = model.evaluate(test_HOLD[0],test_HOLD[1])\n",
    "print(\"test loss, test acc:\", results)\n"
   ]
  },
  {
   "cell_type": "markdown",
   "metadata": {},
   "source": [
    "### Load Dataset"
   ]
  },
  {
   "cell_type": "code",
   "execution_count": 1,
   "metadata": {},
   "outputs": [],
   "source": [
    "import numpy\n",
    "\n",
    "import kragle.kdb as kdb\n",
    "import pprint as pp\n",
    "db = kdb.KragleDB('Datasets')\n",
    "(train_set, train_labels), valid, test = db.get_dataset(ds_name='pips15hist10fut600')\n"
   ]
  },
  {
   "cell_type": "code",
   "execution_count": 2,
   "metadata": {},
   "outputs": [
    {
     "name": "stdout",
     "output_type": "stream",
     "text": [
      "10893\n",
      "array([2, 0, 0, ..., 0, 1, 0])\n"
     ]
    }
   ],
   "source": [
    "print(len(train_labels))\n",
    "pp.pprint((train_labels))\n",
    "    "
   ]
  },
  {
   "cell_type": "code",
   "execution_count": 10,
   "metadata": {},
   "outputs": [],
   "source": [
    "import numpy\n",
    "\n",
    "import kragle.kdb as kdb\n",
    "import pprint as pp\n",
    "db = kdb.KragleDB('Datasets')\n",
    "test_SELL = db.get_dataset_bytype(ds_name='pips12hist10fut600', nclass=-1)\n",
    "test_HOLD = db.get_dataset_bytype(ds_name='pips12hist10fut600', nclass=0)\n",
    "test_BUY = db.get_dataset_bytype(ds_name='pips12hist10fut600', nclass=1)\n"
   ]
  },
  {
   "cell_type": "code",
   "execution_count": 11,
   "metadata": {},
   "outputs": [
    {
     "name": "stdout",
     "output_type": "stream",
     "text": [
      "[0 0 0 0 0 0 0 0 0 0 0 0 0 0 0 0 0 0 0 0 0 0 0 0 0 0 0 0 0 0 0 0 0 0 0 0 0\n",
      " 0 0 0 0 0 0 0 0 0 0 0 0 0 0 0 0 0 0 0 0 0 0 0 0 0 0 0 0 0 0 0 0 0 0 0 0 0\n",
      " 0 0 0 0 0 0 0 0 0 0 0 0 0 0 0 0 0 0 0 0 0 0 0 0 0 0 0 0 0 0 0 0 0 0 0 0 0\n",
      " 0 0 0 0 0 0 0 0 0 0 0 0 0 0 0 0 0 0 0 0 0 0 0 0 0 0 0 0 0 0 0 0 0 0 0 0 0\n",
      " 0 0 0 0 0 0 0 0 0 0 0 0 0 0 0 0 0 0 0 0 0 0 0 0 0 0 0 0 0 0 0 0 0 0 0 0 0\n",
      " 0 0 0 0 0 0 0 0 0 0 0 0 0 0 0 0 0 0 0 0 0 0 0 0 0 0 0 0 0 0 0 0 0 0 0 0 0\n",
      " 0 0 0 0 0 0 0 0 0 0 0 0 0 0 0 0 0 0 0 0 0 0 0 0 0 0 0 0 0 0 0 0 0 0 0 0 0\n",
      " 0 0 0 0 0 0 0 0 0 0 0 0 0 0 0 0 0 0 0 0 0 0 0 0 0 0 0 0 0 0 0 0 0 0 0 0 0\n",
      " 0 0 0 0 0 0 0 0 0 0 0 0 0 0 0 0 0 0 0 0 0 0 0 0 0 0 0 0 0 0 0 0 0 0 0 0 0\n",
      " 0 0 0 0 0 0 0 0 0 0 0 0 0 0 0 0 0 0 0 0 0 0 0 0 0 0 0 0 0 0 0 0 0 0 0 0 0\n",
      " 0 0 0 0 0 0 0 0 0 0 0 0 0 0 0 0 0 0 0 0 0 0 0 0 0 0 0 0 0 0 0 0 0 0 0 0 0\n",
      " 0 0 0 0 0 0 0 0 0 0 0 0 0 0 0 0 0 0 0 0 0 0 0 0 0 0 0 0 0 0 0 0 0 0 0 0 0\n",
      " 0 0 0 0 0 0 0 0 0 0 0 0 0 0 0 0 0 0 0 0 0 0 0 0 0 0 0 0 0 0 0 0 0 0 0 0 0\n",
      " 0 0 0 0 0 0 0 0 0 0 0 0 0 0 0 0 0 0 0 0 0 0 0 0 0 0 0 0 0 0 0 0 0 0 0 0 0\n",
      " 0 0 0 0 0 0 0 0 0 0 0 0 0 0 0 0 0 0 0 0 0 0 0 0 0 0 0 0 0 0 0 0 0 0 0 0 0\n",
      " 0 0 0 0 0 0 0 0 0 0 0 0 0 0 0 0 0 0 0 0 0 0 0 0 0 0 0 0 0 0 0 0 0 0 0 0 0\n",
      " 0 0 0 0 0 0 0 0 0 0 0 0 0 0 0 0 0 0 0 0 0 0 0 0 0 0 0 0 0 0 0 0 0 0 0 0 0\n",
      " 0 0 0 0 0 0 0 0 0 0 0 0 0 0 0 0 0 0 0 0 0 0 0 0 0 0 0 0 0 0 0 0 0 0 0 0 0\n",
      " 0 0 0 0]\n",
      "[1 1 1 1 1 1 1 1 1 1 1 1 1 1 1 1 1 1 1 1 1 1 1 1 1 1 1 1 1 1 1 1 1 1 1 1 1\n",
      " 1 1 1 1 1 1 1 1 1 1 1 1 1 1 1 1 1 1 1 1 1 1 1 1 1 1 1 1 1 1 1 1 1 1 1 1 1\n",
      " 1 1 1 1 1 1 1 1 1 1 1 1 1 1 1 1 1 1 1 1 1 1 1 1 1 1 1 1 1 1 1 1 1 1 1 1 1\n",
      " 1 1 1 1 1 1 1 1 1 1 1 1 1 1 1 1 1 1 1 1 1 1 1 1 1 1 1 1 1 1 1 1 1 1 1]\n",
      "[2 2 2 2 2 2 2 2 2 2 2 2 2 2 2 2 2 2 2 2 2 2 2 2 2 2 2 2 2 2 2 2 2 2 2 2 2\n",
      " 2 2 2 2 2 2 2 2 2 2 2 2 2 2 2 2 2 2 2 2 2 2 2 2 2 2 2 2 2 2 2 2 2 2 2 2 2\n",
      " 2 2 2 2 2 2 2 2 2 2 2 2 2 2 2 2 2 2 2 2 2 2 2 2 2 2 2 2 2 2 2 2 2 2 2 2 2\n",
      " 2 2 2 2 2 2 2 2 2 2 2 2 2 2 2 2 2 2 2 2 2 2 2 2 2 2 2 2 2 2 2 2 2 2 2 2 2\n",
      " 2 2 2 2 2 2 2 2 2 2 2 2 2 2 2 2 2 2 2 2 2 2 2 2 2 2 2 2 2 2 2 2 2 2 2 2 2\n",
      " 2 2 2 2 2 2 2 2 2 2 2 2 2 2 2 2 2 2 2 2 2 2 2 2 2 2 2 2 2 2 2 2 2 2 2 2 2\n",
      " 2 2 2 2 2 2 2 2 2 2 2 2 2 2 2 2 2 2 2 2 2 2 2 2 2 2 2 2 2 2 2 2 2 2 2 2 2\n",
      " 2 2 2 2 2 2 2 2 2 2 2 2 2 2 2 2 2 2 2 2 2 2 2 2 2 2 2 2 2 2 2 2 2 2 2 2 2\n",
      " 2 2 2 2 2 2 2 2 2 2 2 2 2 2 2 2 2 2 2 2 2 2 2 2 2 2 2 2 2 2 2 2 2 2 2 2 2\n",
      " 2 2 2 2 2 2 2 2 2 2 2 2 2 2 2 2 2 2 2 2 2 2 2 2 2 2 2 2 2 2 2 2 2 2 2 2 2\n",
      " 2 2 2 2 2 2 2 2 2 2 2 2 2 2 2 2 2 2 2 2 2 2 2 2 2 2 2 2 2 2 2 2 2 2 2 2 2\n",
      " 2 2 2 2 2 2 2 2 2 2 2 2 2 2 2 2 2 2 2 2 2 2 2 2 2 2 2 2 2 2 2 2 2 2 2 2 2\n",
      " 2 2 2 2 2 2 2 2 2 2 2 2 2 2 2 2 2 2 2 2 2 2 2 2 2 2 2 2 2 2 2 2 2 2 2 2 2\n",
      " 2 2 2 2 2 2 2 2 2 2 2 2 2 2 2 2 2 2 2 2 2 2 2 2 2 2 2 2 2 2 2 2 2 2 2 2 2\n",
      " 2 2 2 2 2 2 2 2 2 2 2 2 2 2 2 2 2 2 2 2 2 2 2 2 2 2 2 2 2 2 2 2 2 2 2 2 2\n",
      " 2 2 2 2 2 2 2 2 2 2 2 2 2 2 2 2 2 2 2 2 2 2 2 2 2 2 2 2 2 2 2 2 2 2 2 2 2\n",
      " 2 2 2 2 2 2 2 2 2 2 2 2 2 2 2 2 2 2 2 2 2 2 2 2 2 2 2 2 2 2 2 2 2 2 2 2 2\n",
      " 2 2 2 2 2 2 2 2 2 2 2 2 2 2 2 2 2 2 2 2 2 2 2 2 2 2 2 2 2 2 2 2 2 2 2 2 2\n",
      " 2 2 2 2 2 2 2 2 2 2 2 2 2 2 2 2 2 2 2 2 2 2 2 2 2 2 2 2 2 2 2 2 2 2 2 2 2\n",
      " 2 2 2 2 2 2 2 2 2 2 2 2 2 2 2 2 2 2 2 2 2 2 2 2 2 2 2 2 2 2 2 2 2 2 2 2 2\n",
      " 2 2 2 2 2 2 2 2 2 2 2 2]\n"
     ]
    }
   ],
   "source": [
    "print(test_SELL[1])\n",
    "print(test_HOLD[1])\n",
    "print(test_BUY[1])"
   ]
  },
  {
   "cell_type": "markdown",
   "metadata": {},
   "source": [
    "### Percentuale"
   ]
  },
  {
   "cell_type": "code",
   "execution_count": 13,
   "metadata": {},
   "outputs": [
    {
     "name": "stdout",
     "output_type": "stream",
     "text": [
      "Sell: 35.82089552238806%   Hold: 20.8955223880597%   Buy: 43.28358208955223%\n"
     ]
    }
   ],
   "source": [
    "import kragle.kdb as kdb\n",
    "import pprint as pp\n",
    "db = kdb.KragleDB()\n",
    "\n",
    "s, h, b = db.get_dataset_percentage('pips15hist10fut600', type='test')\n",
    "print('Sell: {}%   Hold: {}%   Buy: {}%'.format(s*100, h*100, b*100))"
   ]
  }
 ],
 "metadata": {
  "colab": {
   "name": "forex history.ipynb",
   "provenance": []
  },
  "kernelspec": {
   "display_name": "Python 3 (ipykernel)",
   "language": "python",
   "name": "python3"
  },
  "language_info": {
   "codemirror_mode": {
    "name": "ipython",
    "version": 3
   },
   "file_extension": ".py",
   "mimetype": "text/x-python",
   "name": "python",
   "nbconvert_exporter": "python",
   "pygments_lexer": "ipython3",
   "version": "3.9.1"
  }
 },
 "nbformat": 4,
 "nbformat_minor": 1
}
