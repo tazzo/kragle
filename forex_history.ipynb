{
 "cells": [
  {
   "cell_type": "code",
   "execution_count": 1,
   "metadata": {
    "scrolled": false
   },
   "outputs": [
    {
     "name": "stderr",
     "output_type": "stream",
     "text": [
      "|ERROR|2023-04-25 00:26:05,081|Connection error: {'message': 'Your token is not authorized, please contact admin@fxcm.com'}\n"
     ]
    },
    {
     "ename": "ServerError",
     "evalue": "Can not find FXCM Server.",
     "output_type": "error",
     "traceback": [
      "\u001b[1;31m---------------------------------------------------------------------------\u001b[0m",
      "\u001b[1;31mServerError\u001b[0m                               Traceback (most recent call last)",
      "Cell \u001b[1;32mIn[1], line 3\u001b[0m\n\u001b[0;32m      1\u001b[0m \u001b[38;5;28;01mimport\u001b[39;00m \u001b[38;5;21;01mfxcmpy\u001b[39;00m\n\u001b[0;32m      2\u001b[0m \u001b[38;5;28;01mimport\u001b[39;00m \u001b[38;5;21;01mpprint\u001b[39;00m \u001b[38;5;28;01mas\u001b[39;00m \u001b[38;5;21;01mpp\u001b[39;00m\n\u001b[1;32m----> 3\u001b[0m con \u001b[38;5;241m=\u001b[39m \u001b[43mfxcmpy\u001b[49m\u001b[38;5;241;43m.\u001b[39;49m\u001b[43mfxcmpy\u001b[49m\u001b[43m(\u001b[49m\u001b[43mconfig_file\u001b[49m\u001b[38;5;241;43m=\u001b[39;49m\u001b[38;5;124;43m'\u001b[39;49m\u001b[38;5;124;43mfxcm.cfg\u001b[39;49m\u001b[38;5;124;43m'\u001b[39;49m\u001b[43m)\u001b[49m\n\u001b[0;32m      4\u001b[0m pp\u001b[38;5;241m.\u001b[39mpprint(con\u001b[38;5;241m.\u001b[39mget_candles(\u001b[38;5;124m'\u001b[39m\u001b[38;5;124mEUR/USD\u001b[39m\u001b[38;5;124m'\u001b[39m, period\u001b[38;5;241m=\u001b[39m\u001b[38;5;124m'\u001b[39m\u001b[38;5;124mH1\u001b[39m\u001b[38;5;124m'\u001b[39m, number\u001b[38;5;241m=\u001b[39m\u001b[38;5;241m3\u001b[39m, with_index\u001b[38;5;241m=\u001b[39m\u001b[38;5;28;01mFalse\u001b[39;00m)\u001b[38;5;241m.\u001b[39mto_dict(\u001b[38;5;124m'\u001b[39m\u001b[38;5;124mrecords\u001b[39m\u001b[38;5;124m'\u001b[39m)[::\u001b[38;5;241m-\u001b[39m\u001b[38;5;241m1\u001b[39m])\n\u001b[0;32m      7\u001b[0m con\u001b[38;5;241m.\u001b[39mclose()\n",
      "File \u001b[1;32mc:\\users\\tazzo\\.virtualenvs\\kragle-zgkb3__s\\lib\\site-packages\\fxcmpy\\fxcmpy.py:217\u001b[0m, in \u001b[0;36mfxcmpy.__init__\u001b[1;34m(self, access_token, config_file, log_file, log_level, server, proxy_url, proxy_port, proxy_type)\u001b[0m\n\u001b[0;32m    215\u001b[0m \u001b[38;5;28;01mif\u001b[39;00m \u001b[38;5;28mself\u001b[39m\u001b[38;5;241m.\u001b[39mconnection_status \u001b[38;5;241m==\u001b[39m \u001b[38;5;124m'\u001b[39m\u001b[38;5;124mpending\u001b[39m\u001b[38;5;124m'\u001b[39m \u001b[38;5;129;01mand\u001b[39;00m count \u001b[38;5;241m==\u001b[39m \u001b[38;5;241m50\u001b[39m:\n\u001b[0;32m    216\u001b[0m     \u001b[38;5;28mself\u001b[39m\u001b[38;5;241m.\u001b[39mclose()\n\u001b[1;32m--> 217\u001b[0m     \u001b[38;5;28;01mraise\u001b[39;00m ServerError(\u001b[38;5;124m'\u001b[39m\u001b[38;5;124mCan not find FXCM Server.\u001b[39m\u001b[38;5;124m'\u001b[39m)\n\u001b[0;32m    218\u001b[0m \u001b[38;5;28;01melif\u001b[39;00m \u001b[38;5;28mself\u001b[39m\u001b[38;5;241m.\u001b[39mconnection_status \u001b[38;5;241m==\u001b[39m \u001b[38;5;124m'\u001b[39m\u001b[38;5;124maborted\u001b[39m\u001b[38;5;124m'\u001b[39m:\n\u001b[0;32m    219\u001b[0m     \u001b[38;5;28mself\u001b[39m\u001b[38;5;241m.\u001b[39mclose()\n",
      "\u001b[1;31mServerError\u001b[0m: Can not find FXCM Server."
     ]
    }
   ],
   "source": [
    "import fxcmpy\n",
    "import pprint as pp\n",
    "con = fxcmpy.fxcmpy(config_file='fxcm.cfg')\n",
    "pp.pprint(con.get_candles('EUR/USD', period='H1', number=3, with_index=False).to_dict('records')[::-1])\n",
    "\n",
    "\n",
    "con.close()\n"
   ]
  },
  {
   "cell_type": "code",
   "execution_count": 1,
   "metadata": {},
   "outputs": [
    {
     "name": "stdout",
     "output_type": "stream",
     "text": [
      "1.3.3\n"
     ]
    }
   ],
   "source": [
    "import fxcmpy\n",
    "print(fxcmpy.__version__)"
   ]
  },
  {
   "cell_type": "code",
   "execution_count": 2,
   "metadata": {},
   "outputs": [
    {
     "name": "stdout",
     "output_type": "stream",
     "text": [
      "Num GPUs Available:  0\n"
     ]
    },
    {
     "data": {
      "text/plain": [
       "False"
      ]
     },
     "execution_count": 2,
     "metadata": {},
     "output_type": "execute_result"
    }
   ],
   "source": [
    "import tensorflow as tf\n",
    "print(\"Num GPUs Available: \", len(tf.config.list_physical_devices('GPU')))\n",
    "tf.test.is_built_with_cuda()"
   ]
  },
  {
   "cell_type": "markdown",
   "metadata": {},
   "source": [
    "### get_normalized_periods_fcxm"
   ]
  },
  {
   "cell_type": "code",
   "execution_count": 2,
   "metadata": {},
   "outputs": [
    {
     "name": "stderr",
     "output_type": "stream",
     "text": [
      "|WARNING|2023-02-02 16:55:58,010|Default account set to 1342146, to change use set_default_account().\n"
     ]
    },
    {
     "name": "stdout",
     "output_type": "stream",
     "text": [
      "[[[0.40000000000040004, 1.1875],\n",
      "  [-0.6499999999998174, 1.385],\n",
      "  [-0.40000000000040004, 1.4225],\n",
      "  [0.8500000000000174, 1.4175],\n",
      "  [-1.40000000000029, 1.6825],\n",
      "  [-0.5999999999994898, 1.2925],\n",
      "  [0.4499999999996174, 1.7525],\n",
      "  [-3.4999999999996145, 1.595],\n",
      "  [-0.0999999999995449, 1.2375],\n",
      "  [-1.300000000000745, 1.4475]],\n",
      " [[5.066666666666553, 1.841],\n",
      "  [-1.4333333333331015, 1.8965],\n",
      "  [-7.299999999999715, 1.5445],\n",
      "  [0.7333333333329566, 1.239],\n",
      "  [2.2333333333331615, 1.725],\n",
      "  [-4.833333333333171, 1.195],\n",
      "  [-0.4333333333332116, 1.074],\n",
      "  [-1.1666666666669083, 1.2695],\n",
      "  [-0.80000000000006, 1.512],\n",
      "  [-3.3666666666665184, 0.1765]],\n",
      " [[0.14666666666644326, 0.5018333333333334],\n",
      "  [-1.706666666666597, 0.52375],\n",
      "  [-0.4533333333333426, 1.339],\n",
      "  [0.05333333333338667, 1.2264166666666667],\n",
      "  [1.9733333333332344, 1.8110833333333334],\n",
      "  [1.4800000000002218, 2.004],\n",
      "  [3.6666666666664107, 2.2816666666666667],\n",
      "  [-0.5466666666663992, 2.2005],\n",
      "  [5.879999999999737, 1.8726666666666667],\n",
      "  [0.13333333333331865, 1.1586666666666667]],\n",
      " [[-4.646666666666614, 1.280325],\n",
      "  [-0.6733333333333036, 0.359875],\n",
      "  [-1.6466666666667962, 0.589475],\n",
      "  [-0.05999999999994898, 0.38195],\n",
      "  [-0.27333333333334764, 0.29755],\n",
      "  [-0.1666666666665743, 0.5684],\n",
      "  [1.7733333333332564, 0.855725],\n",
      "  [-0.35999999999998994, 0.656125],\n",
      "  [-0.026666666666693335, 1.91415],\n",
      "  [3.586666666666627, 2.25405]],\n",
      " [[-0.5766666666666698, 0.6830125],\n",
      "  [1.26333333333332, 0.27048125],\n",
      "  [0.4499999999999874, 0.81379375],\n",
      "  [-0.5433333333333401, 0.79414375],\n",
      "  [-0.33000000000001545, 0.18139375],\n",
      "  [-0.3533333333332796, 0.63664375],\n",
      "  [-1.083333333333325, 1.51036875],\n",
      "  [-2.789999999999996, 0.4072125],\n",
      "  [-1.0733333333333335, 0.9986],\n",
      "  [2.4866666666666, 0.5635125]],\n",
      " [[-0.19333333333331698, 0.620635],\n",
      "  [-0.053333333333337334, 0.5802475],\n",
      "  [-0.2911111111110939, 0.587285],\n",
      "  [-0.7466666666666734, 0.60569],\n",
      "  [0.5977777777777465, 0.5041475],\n",
      "  [0.4911111111111212, 0.0004475],\n",
      "  [0.022222222222219777, 0.6669675],\n",
      "  [0.3866666666666833, 0.7513675],\n",
      "  [-0.2822222222222454, 0.9313625],\n",
      "  [-2.817777777777734, 0.78773]]]\n"
     ]
    }
   ],
   "source": [
    "import kragle.kdb as kdb\n",
    "import datetime as dt\n",
    "import pprint as pp\n",
    "\n",
    "date_start = dt.datetime(2021, 1, 1)\n",
    "date_end = dt.datetime(2021, 5, 31,)\n",
    "\n",
    "db = kdb.KragleDB('FX_2020_2021')\n",
    "v = db.get_normalized_periods_fcxm( periods=['m1', 'm5', 'm30', 'H2', 'H8', 'D1'], history_len=10)\n",
    "pp.pprint(v)"
   ]
  },
  {
   "cell_type": "markdown",
   "metadata": {},
   "source": [
    "### get_candles"
   ]
  },
  {
   "cell_type": "code",
   "execution_count": 3,
   "metadata": {},
   "outputs": [
    {
     "name": "stdout",
     "output_type": "stream",
     "text": [
      "[{'askclose': 1.10961,\n",
      "  'askhigh': 1.10964,\n",
      "  'asklow': 1.1095,\n",
      "  'askopen': 1.1095,\n",
      "  'bidclose': 1.10955,\n",
      "  'bidhigh': 1.10958,\n",
      "  'bidlow': 1.10944,\n",
      "  'bidopen': 1.10945,\n",
      "  'date': datetime.datetime(2020, 1, 22, 23, 55),\n",
      "  'tickqty': 283},\n",
      " {'_id': ObjectId('63cb33c63a25a7383d77475d'),\n",
      "  'askclose': 1.1095,\n",
      "  'askhigh': 1.10958,\n",
      "  'asklow': 1.10947,\n",
      "  'askopen': 1.10948,\n",
      "  'bidclose': 1.10945,\n",
      "  'bidhigh': 1.10952,\n",
      "  'bidlow': 1.10939,\n",
      "  'bidopen': 1.10942,\n",
      "  'date': datetime.datetime(2020, 1, 22, 23, 50),\n",
      "  'tickqty': 164}]\n"
     ]
    }
   ],
   "source": [
    "import kragle.kdb as kdb\n",
    "import datetime as dt\n",
    "import pprint as pp\n",
    "\n",
    "date_start = dt.datetime(2020, 1, 22, 23, 50)\n",
    "date_end = dt.datetime(2020, 1, 22, 23, 59)\n",
    "\n",
    "db = kdb.KragleDB('FX_2020_GEN_22')\n",
    "v = db.get_candles('EUR/USD', 'm5', date_end, 2)\n",
    "pp.pprint(v)"
   ]
  },
  {
   "cell_type": "markdown",
   "metadata": {},
   "source": [
    "### calc_mean_stddev"
   ]
  },
  {
   "cell_type": "code",
   "execution_count": 2,
   "metadata": {},
   "outputs": [
    {
     "name": "stdout",
     "output_type": "stream",
     "text": [
      "{'bidopen-mean': 0.00011594279860246181,\n",
      " 'bidopen-stddev': 0.8242580674716756,\n",
      " 'tickqty-mean': 0.40272353284787743,\n",
      " 'tickqty-stddev': 0.3762696817328249}\n"
     ]
    }
   ],
   "source": [
    "import kragle.kdb as kdb\n",
    "import datetime as dt\n",
    "import pprint as pp\n",
    "\n",
    "date_start = dt.datetime(2021, 1, 1)\n",
    "date_end = dt.datetime(2021, 5, 31,)\n",
    "\n",
    "db = kdb.KragleDB('FX_2020_2021')\n",
    "v = db.calc_mean_stddev('EUR/USD', 'm1', date_start, date_end)\n",
    "pp.pprint(v)"
   ]
  },
  {
   "cell_type": "markdown",
   "metadata": {},
   "source": [
    "### get_sample"
   ]
  },
  {
   "cell_type": "code",
   "execution_count": 1,
   "metadata": {},
   "outputs": [
    {
     "name": "stdout",
     "output_type": "stream",
     "text": [
      "{'date': datetime.datetime(2021, 1, 5, 14, 57),\n",
      " 'x': [[[1.4999999999998348, 1.1525],\n",
      "        [-1.9999999999997797, 1.1425],\n",
      "        [-0.5999999999994898, 0.765],\n",
      "        [-2.100000000000435, 1.115],\n",
      "        [-0.2999999999997449, 0.92]],\n",
      "       [[-0.8666666666664232, 1.0075],\n",
      "        [-1.1333333333333566, 1.352],\n",
      "        [-0.3000000000004851, 1.7275],\n",
      "        [-0.23333333333338166, 1.8015],\n",
      "        [-0.4666666666660232, 1.331]],\n",
      "       [[1.4666666666665051, 0.6108333333333333],\n",
      "        [-0.8133333333333326, 0.873],\n",
      "        [-0.5199999999998539, 0.6958333333333333],\n",
      "        [0.10666666666647728, 0.7219166666666667],\n",
      "        [-1.5333333333333126, 0.6241666666666666]],\n",
      "       [[-1.3800000000000108, 0.874475],\n",
      "        [0.7199999999999799, 0.60045],\n",
      "        [0.9333333333333785, 0.865125],\n",
      "        [-0.9266666666666682, 0.54995],\n",
      "        [-0.04666666666667633, 0.35945]],\n",
      "       [[-0.3266666666666603, 0.7225],\n",
      "        [0.963333333333353, 0.3125875],\n",
      "        [-1.8566666666666916, 0.84705625],\n",
      "        [1.4600000000000168, 0.77996875],\n",
      "        [0.5399999999999849, 0.4076375]],\n",
      "       [[0.6133333333333053, 0.0009175],\n",
      "        [-1.7111111111111201, 0.4998325],\n",
      "        [1.0288888888889187, 0.5658225],\n",
      "        [0.7266666666666409, 0.5132],\n",
      "        [0.7622222222222321, 0.53083]]],\n",
      " 'y': 1}\n"
     ]
    }
   ],
   "source": [
    "import kragle.kdb as kdb\n",
    "import datetime as dt\n",
    "import pprint as pp\n",
    "\n",
    "date_end = dt.datetime(2021, 1, 5, 14, 57)\n",
    "\n",
    "db = kdb.KragleDB('FX_2020_2021')\n",
    "v = db.get_sample(to_date = date_end, n= 5)\n",
    "pp.pprint(v)"
   ]
  },
  {
   "cell_type": "markdown",
   "metadata": {},
   "source": [
    "### duplicate_db"
   ]
  },
  {
   "cell_type": "code",
   "execution_count": 3,
   "metadata": {},
   "outputs": [
    {
     "data": {
      "text/plain": [
       "['D1', 'H2', 'm1', 'm30', 'm5', 'H8']"
      ]
     },
     "execution_count": 3,
     "metadata": {},
     "output_type": "execute_result"
    }
   ],
   "source": [
    "import kragle.kdb as kdb\n",
    "import datetime as dt\n",
    "import kragle.utils as kutils\n",
    "\n",
    "date_start = dt.datetime(2019, 1, 1)\n",
    "date_end = dt.datetime(2021, 12, 31)\n",
    "\n",
    "dbname = 'FX_2019_2022'\n",
    "db = kdb.KragleDB('FX_RAW')\n",
    "olddb = kdb.KragleDB(dbname)\n",
    "olddb.drop_db()\n",
    "newdb = db.duplicate_db(dbname, from_date=date_start, to_date=date_end, fields=kutils.FIELDS)\n",
    "newdb.get_periods()"
   ]
  },
  {
   "cell_type": "markdown",
   "metadata": {},
   "source": [
    "## Create Dataset"
   ]
  },
  {
   "cell_type": "code",
   "execution_count": 1,
   "metadata": {},
   "outputs": [
    {
     "name": "stdout",
     "output_type": "stream",
     "text": [
      "+++++++++++++++++++++++++++++++++\n",
      ">>>>>>>>  history_len 10  <<<<<<<\n",
      "+++++++++++++++++++++++++++++++++\n",
      "pips15 valid from 2022-06-02 00:00:00 to 2022-09-30 00:00:00\n",
      "Dataset len: 500  date: 2022-06-06 13:15:00\n",
      "Dataset len: 1000  date: 2022-06-09 02:47:00\n",
      "Dataset len: 1500  date: 2022-06-13 16:52:00\n",
      "Dataset len: 2000  date: 2022-06-16 08:32:00\n",
      "Dataset len: 2500  date: 2022-06-21 00:31:00\n",
      "Dataset len: 3000  date: 2022-06-23 13:59:00\n",
      "Dataset len: 3500  date: 2022-06-28 04:05:00\n",
      "Dataset len: 4000  date: 2022-06-30 17:34:00\n",
      "Dataset len: 4500  date: 2022-07-05 08:38:00\n",
      "Dataset len: 5000  date: 2022-07-07 23:52:00\n",
      "Dataset len: 5500  date: 2022-07-12 13:53:00\n",
      "Dataset len: 6000  date: 2022-07-15 05:37:00\n",
      "Dataset len: 6500  date: 2022-07-19 20:08:00\n",
      "Dataset len: 7000  date: 2022-07-22 11:46:00\n",
      "Dataset len: 7500  date: 2022-07-27 03:32:00\n",
      "Dataset len: 8000  date: 2022-07-29 18:09:00\n",
      "Dataset len: 8500  date: 2022-08-03 11:00:00\n",
      "Dataset len: 9000  date: 2022-08-08 03:03:00\n",
      "Dataset len: 9500  date: 2022-08-10 15:59:00\n",
      "Dataset len: 10000  date: 2022-08-15 06:18:00\n",
      "Dataset len: 10500  date: 2022-08-17 19:51:00\n",
      "Dataset len: 11000  date: 2022-08-22 10:02:00\n",
      "Dataset len: 11500  date: 2022-08-24 23:57:00\n",
      "Dataset len: 12000  date: 2022-08-29 14:32:00\n",
      "Dataset len: 12500  date: 2022-09-01 04:24:00\n",
      "Dataset len: 13000  date: 2022-09-05 18:29:00\n",
      "Dataset len: 13500  date: 2022-09-08 08:45:00\n",
      "Dataset len: 14000  date: 2022-09-12 23:09:00\n",
      "Dataset len: 14500  date: 2022-09-15 12:39:00\n",
      "Dataset len: 15000  date: 2022-09-20 02:54:00\n",
      "Dataset len: 15500  date: 2022-09-22 17:04:00\n",
      "Dataset len: 16000  date: 2022-09-27 09:02:00\n",
      "Dataset len: 16500  date: 2022-09-29 23:47:00\n",
      "pips15 test from 2022-10-01 00:00:00 to 2022-12-01 00:00:00\n",
      "Dataset len: 500  date: 2022-10-05 11:55:00\n",
      "Dataset len: 1000  date: 2022-10-10 04:14:00\n",
      "Dataset len: 1500  date: 2022-10-12 19:15:00\n",
      "Dataset len: 2000  date: 2022-10-17 11:11:00\n",
      "Dataset len: 2500  date: 2022-10-20 02:40:00\n",
      "Dataset len: 3000  date: 2022-10-24 17:20:00\n",
      "Dataset len: 3500  date: 2022-10-27 08:57:00\n",
      "Dataset len: 4000  date: 2022-11-01 00:14:00\n",
      "Dataset len: 4500  date: 2022-11-03 13:24:00\n",
      "Dataset len: 5000  date: 2022-11-08 05:30:00\n",
      "Dataset len: 5500  date: 2022-11-10 18:05:00\n",
      "Dataset len: 6000  date: 2022-11-15 07:54:00\n",
      "Dataset len: 6500  date: 2022-11-17 20:59:00\n",
      "Dataset len: 7000  date: 2022-11-22 11:49:00\n",
      "Dataset len: 7500  date: 2022-11-25 02:12:00\n",
      "Dataset len: 8000  date: 2022-11-29 17:55:00\n",
      "END\n"
     ]
    }
   ],
   "source": [
    "import kragle.kdb as kdb\n",
    "import datetime as dt\n",
    "import pprint as pp\n",
    "\n",
    "\n",
    "periods=['m1', 'm5', 'm30', 'H2', 'H8']\n",
    "db = kdb.KragleDB('FX_RAW')\n",
    "\n",
    "pips=12\n",
    "limit_future=600\n",
    "\n",
    "history_len_list=[10]\n",
    "\n",
    "for history_len in history_len_list:\n",
    "    print('+++++++++++++++++++++++++++++++++')\n",
    "    print('>>>>>>>>  history_len {}  <<<<<<<'.format(history_len))\n",
    "    print('+++++++++++++++++++++++++++++++++')\n",
    "    \n",
    "   \n",
    "#    from_date = dt.datetime(2018, 2, 1)\n",
    "#    to_date = dt.datetime(2022, 5, 1)\n",
    "#    print('pips15 train from {} to {}'.format(from_date, to_date))\n",
    "#    db.create_dataset(  from_date, to_date, \n",
    "#                      periods=periods, history_len=history_len, pips=pips, limit_future=limit_future, dtype='train', skip=33)\n",
    "\n",
    "    from_date = dt.datetime(2022, 6, 2)\n",
    "    to_date = dt.datetime(2022, 9, 30)\n",
    "    print('pips15 valid from {} to {}'.format(from_date, to_date))\n",
    "    db.create_dataset(  from_date, to_date, \n",
    "                      periods=periods, history_len=history_len, pips=pips, limit_future=limit_future, dtype='valid', skip=7)\n",
    "\n",
    "    from_date = dt.datetime(2022, 10, 1)\n",
    "    to_date = dt.datetime(2022, 12, 1)\n",
    "    print('pips15 test from {} to {}'.format(from_date, to_date))\n",
    "    db.create_dataset( from_date, to_date, \n",
    "                      periods=periods, history_len=history_len, pips=pips, limit_future=limit_future, dtype='test', skip=7)\n",
    "\n",
    "print('END')\n"
   ]
  },
  {
   "cell_type": "markdown",
   "metadata": {},
   "source": [
    "### Raw Data from FXCM"
   ]
  },
  {
   "cell_type": "code",
   "execution_count": 1,
   "metadata": {
    "scrolled": true
   },
   "outputs": [
    {
     "name": "stdout",
     "output_type": "stream",
     "text": [
      "WARNING | Default account set to 1342146, to change use set_default_account().\n"
     ]
    },
    {
     "ename": "ConnectionError",
     "evalue": "('Connection aborted.', ConnectionResetError(10054, \"Connessione in corso interrotta forzatamente dall'host remoto\", None, 10054, None))",
     "output_type": "error",
     "traceback": [
      "\u001b[1;31m---------------------------------------------------------------------------\u001b[0m",
      "\u001b[1;31mConnectionResetError\u001b[0m                      Traceback (most recent call last)",
      "File \u001b[1;32mc:\\users\\tazzo\\.virtualenvs\\kragle-zgkb3__s\\lib\\site-packages\\urllib3\\connectionpool.py:703\u001b[0m, in \u001b[0;36mHTTPConnectionPool.urlopen\u001b[1;34m(self, method, url, body, headers, retries, redirect, assert_same_host, timeout, pool_timeout, release_conn, chunked, body_pos, **response_kw)\u001b[0m\n\u001b[0;32m    702\u001b[0m \u001b[38;5;66;03m# Make the request on the httplib connection object.\u001b[39;00m\n\u001b[1;32m--> 703\u001b[0m httplib_response \u001b[38;5;241m=\u001b[39m \u001b[38;5;28;43mself\u001b[39;49m\u001b[38;5;241;43m.\u001b[39;49m\u001b[43m_make_request\u001b[49m\u001b[43m(\u001b[49m\n\u001b[0;32m    704\u001b[0m \u001b[43m    \u001b[49m\u001b[43mconn\u001b[49m\u001b[43m,\u001b[49m\n\u001b[0;32m    705\u001b[0m \u001b[43m    \u001b[49m\u001b[43mmethod\u001b[49m\u001b[43m,\u001b[49m\n\u001b[0;32m    706\u001b[0m \u001b[43m    \u001b[49m\u001b[43murl\u001b[49m\u001b[43m,\u001b[49m\n\u001b[0;32m    707\u001b[0m \u001b[43m    \u001b[49m\u001b[43mtimeout\u001b[49m\u001b[38;5;241;43m=\u001b[39;49m\u001b[43mtimeout_obj\u001b[49m\u001b[43m,\u001b[49m\n\u001b[0;32m    708\u001b[0m \u001b[43m    \u001b[49m\u001b[43mbody\u001b[49m\u001b[38;5;241;43m=\u001b[39;49m\u001b[43mbody\u001b[49m\u001b[43m,\u001b[49m\n\u001b[0;32m    709\u001b[0m \u001b[43m    \u001b[49m\u001b[43mheaders\u001b[49m\u001b[38;5;241;43m=\u001b[39;49m\u001b[43mheaders\u001b[49m\u001b[43m,\u001b[49m\n\u001b[0;32m    710\u001b[0m \u001b[43m    \u001b[49m\u001b[43mchunked\u001b[49m\u001b[38;5;241;43m=\u001b[39;49m\u001b[43mchunked\u001b[49m\u001b[43m,\u001b[49m\n\u001b[0;32m    711\u001b[0m \u001b[43m\u001b[49m\u001b[43m)\u001b[49m\n\u001b[0;32m    713\u001b[0m \u001b[38;5;66;03m# If we're going to release the connection in ``finally:``, then\u001b[39;00m\n\u001b[0;32m    714\u001b[0m \u001b[38;5;66;03m# the response doesn't need to know about the connection. Otherwise\u001b[39;00m\n\u001b[0;32m    715\u001b[0m \u001b[38;5;66;03m# it will also try to release it and we'll have a double-release\u001b[39;00m\n\u001b[0;32m    716\u001b[0m \u001b[38;5;66;03m# mess.\u001b[39;00m\n",
      "File \u001b[1;32mc:\\users\\tazzo\\.virtualenvs\\kragle-zgkb3__s\\lib\\site-packages\\urllib3\\connectionpool.py:449\u001b[0m, in \u001b[0;36mHTTPConnectionPool._make_request\u001b[1;34m(self, conn, method, url, timeout, chunked, **httplib_request_kw)\u001b[0m\n\u001b[0;32m    445\u001b[0m         \u001b[38;5;28;01mexcept\u001b[39;00m \u001b[38;5;167;01mBaseException\u001b[39;00m \u001b[38;5;28;01mas\u001b[39;00m e:\n\u001b[0;32m    446\u001b[0m             \u001b[38;5;66;03m# Remove the TypeError from the exception chain in\u001b[39;00m\n\u001b[0;32m    447\u001b[0m             \u001b[38;5;66;03m# Python 3 (including for exceptions like SystemExit).\u001b[39;00m\n\u001b[0;32m    448\u001b[0m             \u001b[38;5;66;03m# Otherwise it looks like a bug in the code.\u001b[39;00m\n\u001b[1;32m--> 449\u001b[0m             \u001b[43msix\u001b[49m\u001b[38;5;241;43m.\u001b[39;49m\u001b[43mraise_from\u001b[49m\u001b[43m(\u001b[49m\u001b[43me\u001b[49m\u001b[43m,\u001b[49m\u001b[43m \u001b[49m\u001b[38;5;28;43;01mNone\u001b[39;49;00m\u001b[43m)\u001b[49m\n\u001b[0;32m    450\u001b[0m \u001b[38;5;28;01mexcept\u001b[39;00m (SocketTimeout, BaseSSLError, SocketError) \u001b[38;5;28;01mas\u001b[39;00m e:\n",
      "File \u001b[1;32m<string>:3\u001b[0m, in \u001b[0;36mraise_from\u001b[1;34m(value, from_value)\u001b[0m\n",
      "File \u001b[1;32mc:\\users\\tazzo\\.virtualenvs\\kragle-zgkb3__s\\lib\\site-packages\\urllib3\\connectionpool.py:444\u001b[0m, in \u001b[0;36mHTTPConnectionPool._make_request\u001b[1;34m(self, conn, method, url, timeout, chunked, **httplib_request_kw)\u001b[0m\n\u001b[0;32m    443\u001b[0m \u001b[38;5;28;01mtry\u001b[39;00m:\n\u001b[1;32m--> 444\u001b[0m     httplib_response \u001b[38;5;241m=\u001b[39m \u001b[43mconn\u001b[49m\u001b[38;5;241;43m.\u001b[39;49m\u001b[43mgetresponse\u001b[49m\u001b[43m(\u001b[49m\u001b[43m)\u001b[49m\n\u001b[0;32m    445\u001b[0m \u001b[38;5;28;01mexcept\u001b[39;00m \u001b[38;5;167;01mBaseException\u001b[39;00m \u001b[38;5;28;01mas\u001b[39;00m e:\n\u001b[0;32m    446\u001b[0m     \u001b[38;5;66;03m# Remove the TypeError from the exception chain in\u001b[39;00m\n\u001b[0;32m    447\u001b[0m     \u001b[38;5;66;03m# Python 3 (including for exceptions like SystemExit).\u001b[39;00m\n\u001b[0;32m    448\u001b[0m     \u001b[38;5;66;03m# Otherwise it looks like a bug in the code.\u001b[39;00m\n",
      "File \u001b[1;32m~\\AppData\\Local\\Programs\\Python\\Python39\\Lib\\http\\client.py:1347\u001b[0m, in \u001b[0;36mHTTPConnection.getresponse\u001b[1;34m(self)\u001b[0m\n\u001b[0;32m   1346\u001b[0m \u001b[38;5;28;01mtry\u001b[39;00m:\n\u001b[1;32m-> 1347\u001b[0m     \u001b[43mresponse\u001b[49m\u001b[38;5;241;43m.\u001b[39;49m\u001b[43mbegin\u001b[49m\u001b[43m(\u001b[49m\u001b[43m)\u001b[49m\n\u001b[0;32m   1348\u001b[0m \u001b[38;5;28;01mexcept\u001b[39;00m \u001b[38;5;167;01mConnectionError\u001b[39;00m:\n",
      "File \u001b[1;32m~\\AppData\\Local\\Programs\\Python\\Python39\\Lib\\http\\client.py:307\u001b[0m, in \u001b[0;36mHTTPResponse.begin\u001b[1;34m(self)\u001b[0m\n\u001b[0;32m    306\u001b[0m \u001b[38;5;28;01mwhile\u001b[39;00m \u001b[38;5;28;01mTrue\u001b[39;00m:\n\u001b[1;32m--> 307\u001b[0m     version, status, reason \u001b[38;5;241m=\u001b[39m \u001b[38;5;28;43mself\u001b[39;49m\u001b[38;5;241;43m.\u001b[39;49m\u001b[43m_read_status\u001b[49m\u001b[43m(\u001b[49m\u001b[43m)\u001b[49m\n\u001b[0;32m    308\u001b[0m     \u001b[38;5;28;01mif\u001b[39;00m status \u001b[38;5;241m!=\u001b[39m CONTINUE:\n",
      "File \u001b[1;32m~\\AppData\\Local\\Programs\\Python\\Python39\\Lib\\http\\client.py:268\u001b[0m, in \u001b[0;36mHTTPResponse._read_status\u001b[1;34m(self)\u001b[0m\n\u001b[0;32m    267\u001b[0m \u001b[38;5;28;01mdef\u001b[39;00m \u001b[38;5;21m_read_status\u001b[39m(\u001b[38;5;28mself\u001b[39m):\n\u001b[1;32m--> 268\u001b[0m     line \u001b[38;5;241m=\u001b[39m \u001b[38;5;28mstr\u001b[39m(\u001b[38;5;28;43mself\u001b[39;49m\u001b[38;5;241;43m.\u001b[39;49m\u001b[43mfp\u001b[49m\u001b[38;5;241;43m.\u001b[39;49m\u001b[43mreadline\u001b[49m\u001b[43m(\u001b[49m\u001b[43m_MAXLINE\u001b[49m\u001b[43m \u001b[49m\u001b[38;5;241;43m+\u001b[39;49m\u001b[43m \u001b[49m\u001b[38;5;241;43m1\u001b[39;49m\u001b[43m)\u001b[49m, \u001b[38;5;124m\"\u001b[39m\u001b[38;5;124miso-8859-1\u001b[39m\u001b[38;5;124m\"\u001b[39m)\n\u001b[0;32m    269\u001b[0m     \u001b[38;5;28;01mif\u001b[39;00m \u001b[38;5;28mlen\u001b[39m(line) \u001b[38;5;241m>\u001b[39m _MAXLINE:\n",
      "File \u001b[1;32m~\\AppData\\Local\\Programs\\Python\\Python39\\Lib\\socket.py:704\u001b[0m, in \u001b[0;36mSocketIO.readinto\u001b[1;34m(self, b)\u001b[0m\n\u001b[0;32m    703\u001b[0m \u001b[38;5;28;01mtry\u001b[39;00m:\n\u001b[1;32m--> 704\u001b[0m     \u001b[38;5;28;01mreturn\u001b[39;00m \u001b[38;5;28;43mself\u001b[39;49m\u001b[38;5;241;43m.\u001b[39;49m\u001b[43m_sock\u001b[49m\u001b[38;5;241;43m.\u001b[39;49m\u001b[43mrecv_into\u001b[49m\u001b[43m(\u001b[49m\u001b[43mb\u001b[49m\u001b[43m)\u001b[49m\n\u001b[0;32m    705\u001b[0m \u001b[38;5;28;01mexcept\u001b[39;00m timeout:\n",
      "File \u001b[1;32m~\\AppData\\Local\\Programs\\Python\\Python39\\Lib\\ssl.py:1241\u001b[0m, in \u001b[0;36mSSLSocket.recv_into\u001b[1;34m(self, buffer, nbytes, flags)\u001b[0m\n\u001b[0;32m   1238\u001b[0m         \u001b[38;5;28;01mraise\u001b[39;00m \u001b[38;5;167;01mValueError\u001b[39;00m(\n\u001b[0;32m   1239\u001b[0m           \u001b[38;5;124m\"\u001b[39m\u001b[38;5;124mnon-zero flags not allowed in calls to recv_into() on \u001b[39m\u001b[38;5;132;01m%s\u001b[39;00m\u001b[38;5;124m\"\u001b[39m \u001b[38;5;241m%\u001b[39m\n\u001b[0;32m   1240\u001b[0m           \u001b[38;5;28mself\u001b[39m\u001b[38;5;241m.\u001b[39m\u001b[38;5;18m__class__\u001b[39m)\n\u001b[1;32m-> 1241\u001b[0m     \u001b[38;5;28;01mreturn\u001b[39;00m \u001b[38;5;28;43mself\u001b[39;49m\u001b[38;5;241;43m.\u001b[39;49m\u001b[43mread\u001b[49m\u001b[43m(\u001b[49m\u001b[43mnbytes\u001b[49m\u001b[43m,\u001b[49m\u001b[43m \u001b[49m\u001b[43mbuffer\u001b[49m\u001b[43m)\u001b[49m\n\u001b[0;32m   1242\u001b[0m \u001b[38;5;28;01melse\u001b[39;00m:\n",
      "File \u001b[1;32m~\\AppData\\Local\\Programs\\Python\\Python39\\Lib\\ssl.py:1099\u001b[0m, in \u001b[0;36mSSLSocket.read\u001b[1;34m(self, len, buffer)\u001b[0m\n\u001b[0;32m   1098\u001b[0m \u001b[38;5;28;01mif\u001b[39;00m buffer \u001b[38;5;129;01mis\u001b[39;00m \u001b[38;5;129;01mnot\u001b[39;00m \u001b[38;5;28;01mNone\u001b[39;00m:\n\u001b[1;32m-> 1099\u001b[0m     \u001b[38;5;28;01mreturn\u001b[39;00m \u001b[38;5;28;43mself\u001b[39;49m\u001b[38;5;241;43m.\u001b[39;49m\u001b[43m_sslobj\u001b[49m\u001b[38;5;241;43m.\u001b[39;49m\u001b[43mread\u001b[49m\u001b[43m(\u001b[49m\u001b[38;5;28;43mlen\u001b[39;49m\u001b[43m,\u001b[49m\u001b[43m \u001b[49m\u001b[43mbuffer\u001b[49m\u001b[43m)\u001b[49m\n\u001b[0;32m   1100\u001b[0m \u001b[38;5;28;01melse\u001b[39;00m:\n",
      "\u001b[1;31mConnectionResetError\u001b[0m: [WinError 10054] Connessione in corso interrotta forzatamente dall'host remoto",
      "\nDuring handling of the above exception, another exception occurred:\n",
      "\u001b[1;31mProtocolError\u001b[0m                             Traceback (most recent call last)",
      "File \u001b[1;32mc:\\users\\tazzo\\.virtualenvs\\kragle-zgkb3__s\\lib\\site-packages\\requests\\adapters.py:489\u001b[0m, in \u001b[0;36mHTTPAdapter.send\u001b[1;34m(self, request, stream, timeout, verify, cert, proxies)\u001b[0m\n\u001b[0;32m    488\u001b[0m \u001b[38;5;28;01mif\u001b[39;00m \u001b[38;5;129;01mnot\u001b[39;00m chunked:\n\u001b[1;32m--> 489\u001b[0m     resp \u001b[38;5;241m=\u001b[39m \u001b[43mconn\u001b[49m\u001b[38;5;241;43m.\u001b[39;49m\u001b[43murlopen\u001b[49m\u001b[43m(\u001b[49m\n\u001b[0;32m    490\u001b[0m \u001b[43m        \u001b[49m\u001b[43mmethod\u001b[49m\u001b[38;5;241;43m=\u001b[39;49m\u001b[43mrequest\u001b[49m\u001b[38;5;241;43m.\u001b[39;49m\u001b[43mmethod\u001b[49m\u001b[43m,\u001b[49m\n\u001b[0;32m    491\u001b[0m \u001b[43m        \u001b[49m\u001b[43murl\u001b[49m\u001b[38;5;241;43m=\u001b[39;49m\u001b[43murl\u001b[49m\u001b[43m,\u001b[49m\n\u001b[0;32m    492\u001b[0m \u001b[43m        \u001b[49m\u001b[43mbody\u001b[49m\u001b[38;5;241;43m=\u001b[39;49m\u001b[43mrequest\u001b[49m\u001b[38;5;241;43m.\u001b[39;49m\u001b[43mbody\u001b[49m\u001b[43m,\u001b[49m\n\u001b[0;32m    493\u001b[0m \u001b[43m        \u001b[49m\u001b[43mheaders\u001b[49m\u001b[38;5;241;43m=\u001b[39;49m\u001b[43mrequest\u001b[49m\u001b[38;5;241;43m.\u001b[39;49m\u001b[43mheaders\u001b[49m\u001b[43m,\u001b[49m\n\u001b[0;32m    494\u001b[0m \u001b[43m        \u001b[49m\u001b[43mredirect\u001b[49m\u001b[38;5;241;43m=\u001b[39;49m\u001b[38;5;28;43;01mFalse\u001b[39;49;00m\u001b[43m,\u001b[49m\n\u001b[0;32m    495\u001b[0m \u001b[43m        \u001b[49m\u001b[43massert_same_host\u001b[49m\u001b[38;5;241;43m=\u001b[39;49m\u001b[38;5;28;43;01mFalse\u001b[39;49;00m\u001b[43m,\u001b[49m\n\u001b[0;32m    496\u001b[0m \u001b[43m        \u001b[49m\u001b[43mpreload_content\u001b[49m\u001b[38;5;241;43m=\u001b[39;49m\u001b[38;5;28;43;01mFalse\u001b[39;49;00m\u001b[43m,\u001b[49m\n\u001b[0;32m    497\u001b[0m \u001b[43m        \u001b[49m\u001b[43mdecode_content\u001b[49m\u001b[38;5;241;43m=\u001b[39;49m\u001b[38;5;28;43;01mFalse\u001b[39;49;00m\u001b[43m,\u001b[49m\n\u001b[0;32m    498\u001b[0m \u001b[43m        \u001b[49m\u001b[43mretries\u001b[49m\u001b[38;5;241;43m=\u001b[39;49m\u001b[38;5;28;43mself\u001b[39;49m\u001b[38;5;241;43m.\u001b[39;49m\u001b[43mmax_retries\u001b[49m\u001b[43m,\u001b[49m\n\u001b[0;32m    499\u001b[0m \u001b[43m        \u001b[49m\u001b[43mtimeout\u001b[49m\u001b[38;5;241;43m=\u001b[39;49m\u001b[43mtimeout\u001b[49m\u001b[43m,\u001b[49m\n\u001b[0;32m    500\u001b[0m \u001b[43m    \u001b[49m\u001b[43m)\u001b[49m\n\u001b[0;32m    502\u001b[0m \u001b[38;5;66;03m# Send the request.\u001b[39;00m\n\u001b[0;32m    503\u001b[0m \u001b[38;5;28;01melse\u001b[39;00m:\n",
      "File \u001b[1;32mc:\\users\\tazzo\\.virtualenvs\\kragle-zgkb3__s\\lib\\site-packages\\urllib3\\connectionpool.py:787\u001b[0m, in \u001b[0;36mHTTPConnectionPool.urlopen\u001b[1;34m(self, method, url, body, headers, retries, redirect, assert_same_host, timeout, pool_timeout, release_conn, chunked, body_pos, **response_kw)\u001b[0m\n\u001b[0;32m    785\u001b[0m     e \u001b[38;5;241m=\u001b[39m ProtocolError(\u001b[38;5;124m\"\u001b[39m\u001b[38;5;124mConnection aborted.\u001b[39m\u001b[38;5;124m\"\u001b[39m, e)\n\u001b[1;32m--> 787\u001b[0m retries \u001b[38;5;241m=\u001b[39m \u001b[43mretries\u001b[49m\u001b[38;5;241;43m.\u001b[39;49m\u001b[43mincrement\u001b[49m\u001b[43m(\u001b[49m\n\u001b[0;32m    788\u001b[0m \u001b[43m    \u001b[49m\u001b[43mmethod\u001b[49m\u001b[43m,\u001b[49m\u001b[43m \u001b[49m\u001b[43murl\u001b[49m\u001b[43m,\u001b[49m\u001b[43m \u001b[49m\u001b[43merror\u001b[49m\u001b[38;5;241;43m=\u001b[39;49m\u001b[43me\u001b[49m\u001b[43m,\u001b[49m\u001b[43m \u001b[49m\u001b[43m_pool\u001b[49m\u001b[38;5;241;43m=\u001b[39;49m\u001b[38;5;28;43mself\u001b[39;49m\u001b[43m,\u001b[49m\u001b[43m \u001b[49m\u001b[43m_stacktrace\u001b[49m\u001b[38;5;241;43m=\u001b[39;49m\u001b[43msys\u001b[49m\u001b[38;5;241;43m.\u001b[39;49m\u001b[43mexc_info\u001b[49m\u001b[43m(\u001b[49m\u001b[43m)\u001b[49m\u001b[43m[\u001b[49m\u001b[38;5;241;43m2\u001b[39;49m\u001b[43m]\u001b[49m\n\u001b[0;32m    789\u001b[0m \u001b[43m\u001b[49m\u001b[43m)\u001b[49m\n\u001b[0;32m    790\u001b[0m retries\u001b[38;5;241m.\u001b[39msleep()\n",
      "File \u001b[1;32mc:\\users\\tazzo\\.virtualenvs\\kragle-zgkb3__s\\lib\\site-packages\\urllib3\\util\\retry.py:550\u001b[0m, in \u001b[0;36mRetry.increment\u001b[1;34m(self, method, url, response, error, _pool, _stacktrace)\u001b[0m\n\u001b[0;32m    549\u001b[0m \u001b[38;5;28;01mif\u001b[39;00m read \u001b[38;5;129;01mis\u001b[39;00m \u001b[38;5;28;01mFalse\u001b[39;00m \u001b[38;5;129;01mor\u001b[39;00m \u001b[38;5;129;01mnot\u001b[39;00m \u001b[38;5;28mself\u001b[39m\u001b[38;5;241m.\u001b[39m_is_method_retryable(method):\n\u001b[1;32m--> 550\u001b[0m     \u001b[38;5;28;01mraise\u001b[39;00m \u001b[43msix\u001b[49m\u001b[38;5;241;43m.\u001b[39;49m\u001b[43mreraise\u001b[49m\u001b[43m(\u001b[49m\u001b[38;5;28;43mtype\u001b[39;49m\u001b[43m(\u001b[49m\u001b[43merror\u001b[49m\u001b[43m)\u001b[49m\u001b[43m,\u001b[49m\u001b[43m \u001b[49m\u001b[43merror\u001b[49m\u001b[43m,\u001b[49m\u001b[43m \u001b[49m\u001b[43m_stacktrace\u001b[49m\u001b[43m)\u001b[49m\n\u001b[0;32m    551\u001b[0m \u001b[38;5;28;01melif\u001b[39;00m read \u001b[38;5;129;01mis\u001b[39;00m \u001b[38;5;129;01mnot\u001b[39;00m \u001b[38;5;28;01mNone\u001b[39;00m:\n",
      "File \u001b[1;32mc:\\users\\tazzo\\.virtualenvs\\kragle-zgkb3__s\\lib\\site-packages\\urllib3\\packages\\six.py:769\u001b[0m, in \u001b[0;36mreraise\u001b[1;34m(tp, value, tb)\u001b[0m\n\u001b[0;32m    768\u001b[0m \u001b[38;5;28;01mif\u001b[39;00m value\u001b[38;5;241m.\u001b[39m__traceback__ \u001b[38;5;129;01mis\u001b[39;00m \u001b[38;5;129;01mnot\u001b[39;00m tb:\n\u001b[1;32m--> 769\u001b[0m     \u001b[38;5;28;01mraise\u001b[39;00m value\u001b[38;5;241m.\u001b[39mwith_traceback(tb)\n\u001b[0;32m    770\u001b[0m \u001b[38;5;28;01mraise\u001b[39;00m value\n",
      "File \u001b[1;32mc:\\users\\tazzo\\.virtualenvs\\kragle-zgkb3__s\\lib\\site-packages\\urllib3\\connectionpool.py:703\u001b[0m, in \u001b[0;36mHTTPConnectionPool.urlopen\u001b[1;34m(self, method, url, body, headers, retries, redirect, assert_same_host, timeout, pool_timeout, release_conn, chunked, body_pos, **response_kw)\u001b[0m\n\u001b[0;32m    702\u001b[0m \u001b[38;5;66;03m# Make the request on the httplib connection object.\u001b[39;00m\n\u001b[1;32m--> 703\u001b[0m httplib_response \u001b[38;5;241m=\u001b[39m \u001b[38;5;28;43mself\u001b[39;49m\u001b[38;5;241;43m.\u001b[39;49m\u001b[43m_make_request\u001b[49m\u001b[43m(\u001b[49m\n\u001b[0;32m    704\u001b[0m \u001b[43m    \u001b[49m\u001b[43mconn\u001b[49m\u001b[43m,\u001b[49m\n\u001b[0;32m    705\u001b[0m \u001b[43m    \u001b[49m\u001b[43mmethod\u001b[49m\u001b[43m,\u001b[49m\n\u001b[0;32m    706\u001b[0m \u001b[43m    \u001b[49m\u001b[43murl\u001b[49m\u001b[43m,\u001b[49m\n\u001b[0;32m    707\u001b[0m \u001b[43m    \u001b[49m\u001b[43mtimeout\u001b[49m\u001b[38;5;241;43m=\u001b[39;49m\u001b[43mtimeout_obj\u001b[49m\u001b[43m,\u001b[49m\n\u001b[0;32m    708\u001b[0m \u001b[43m    \u001b[49m\u001b[43mbody\u001b[49m\u001b[38;5;241;43m=\u001b[39;49m\u001b[43mbody\u001b[49m\u001b[43m,\u001b[49m\n\u001b[0;32m    709\u001b[0m \u001b[43m    \u001b[49m\u001b[43mheaders\u001b[49m\u001b[38;5;241;43m=\u001b[39;49m\u001b[43mheaders\u001b[49m\u001b[43m,\u001b[49m\n\u001b[0;32m    710\u001b[0m \u001b[43m    \u001b[49m\u001b[43mchunked\u001b[49m\u001b[38;5;241;43m=\u001b[39;49m\u001b[43mchunked\u001b[49m\u001b[43m,\u001b[49m\n\u001b[0;32m    711\u001b[0m \u001b[43m\u001b[49m\u001b[43m)\u001b[49m\n\u001b[0;32m    713\u001b[0m \u001b[38;5;66;03m# If we're going to release the connection in ``finally:``, then\u001b[39;00m\n\u001b[0;32m    714\u001b[0m \u001b[38;5;66;03m# the response doesn't need to know about the connection. Otherwise\u001b[39;00m\n\u001b[0;32m    715\u001b[0m \u001b[38;5;66;03m# it will also try to release it and we'll have a double-release\u001b[39;00m\n\u001b[0;32m    716\u001b[0m \u001b[38;5;66;03m# mess.\u001b[39;00m\n",
      "File \u001b[1;32mc:\\users\\tazzo\\.virtualenvs\\kragle-zgkb3__s\\lib\\site-packages\\urllib3\\connectionpool.py:449\u001b[0m, in \u001b[0;36mHTTPConnectionPool._make_request\u001b[1;34m(self, conn, method, url, timeout, chunked, **httplib_request_kw)\u001b[0m\n\u001b[0;32m    445\u001b[0m         \u001b[38;5;28;01mexcept\u001b[39;00m \u001b[38;5;167;01mBaseException\u001b[39;00m \u001b[38;5;28;01mas\u001b[39;00m e:\n\u001b[0;32m    446\u001b[0m             \u001b[38;5;66;03m# Remove the TypeError from the exception chain in\u001b[39;00m\n\u001b[0;32m    447\u001b[0m             \u001b[38;5;66;03m# Python 3 (including for exceptions like SystemExit).\u001b[39;00m\n\u001b[0;32m    448\u001b[0m             \u001b[38;5;66;03m# Otherwise it looks like a bug in the code.\u001b[39;00m\n\u001b[1;32m--> 449\u001b[0m             \u001b[43msix\u001b[49m\u001b[38;5;241;43m.\u001b[39;49m\u001b[43mraise_from\u001b[49m\u001b[43m(\u001b[49m\u001b[43me\u001b[49m\u001b[43m,\u001b[49m\u001b[43m \u001b[49m\u001b[38;5;28;43;01mNone\u001b[39;49;00m\u001b[43m)\u001b[49m\n\u001b[0;32m    450\u001b[0m \u001b[38;5;28;01mexcept\u001b[39;00m (SocketTimeout, BaseSSLError, SocketError) \u001b[38;5;28;01mas\u001b[39;00m e:\n",
      "File \u001b[1;32m<string>:3\u001b[0m, in \u001b[0;36mraise_from\u001b[1;34m(value, from_value)\u001b[0m\n",
      "File \u001b[1;32mc:\\users\\tazzo\\.virtualenvs\\kragle-zgkb3__s\\lib\\site-packages\\urllib3\\connectionpool.py:444\u001b[0m, in \u001b[0;36mHTTPConnectionPool._make_request\u001b[1;34m(self, conn, method, url, timeout, chunked, **httplib_request_kw)\u001b[0m\n\u001b[0;32m    443\u001b[0m \u001b[38;5;28;01mtry\u001b[39;00m:\n\u001b[1;32m--> 444\u001b[0m     httplib_response \u001b[38;5;241m=\u001b[39m \u001b[43mconn\u001b[49m\u001b[38;5;241;43m.\u001b[39;49m\u001b[43mgetresponse\u001b[49m\u001b[43m(\u001b[49m\u001b[43m)\u001b[49m\n\u001b[0;32m    445\u001b[0m \u001b[38;5;28;01mexcept\u001b[39;00m \u001b[38;5;167;01mBaseException\u001b[39;00m \u001b[38;5;28;01mas\u001b[39;00m e:\n\u001b[0;32m    446\u001b[0m     \u001b[38;5;66;03m# Remove the TypeError from the exception chain in\u001b[39;00m\n\u001b[0;32m    447\u001b[0m     \u001b[38;5;66;03m# Python 3 (including for exceptions like SystemExit).\u001b[39;00m\n\u001b[0;32m    448\u001b[0m     \u001b[38;5;66;03m# Otherwise it looks like a bug in the code.\u001b[39;00m\n",
      "File \u001b[1;32m~\\AppData\\Local\\Programs\\Python\\Python39\\Lib\\http\\client.py:1347\u001b[0m, in \u001b[0;36mHTTPConnection.getresponse\u001b[1;34m(self)\u001b[0m\n\u001b[0;32m   1346\u001b[0m \u001b[38;5;28;01mtry\u001b[39;00m:\n\u001b[1;32m-> 1347\u001b[0m     \u001b[43mresponse\u001b[49m\u001b[38;5;241;43m.\u001b[39;49m\u001b[43mbegin\u001b[49m\u001b[43m(\u001b[49m\u001b[43m)\u001b[49m\n\u001b[0;32m   1348\u001b[0m \u001b[38;5;28;01mexcept\u001b[39;00m \u001b[38;5;167;01mConnectionError\u001b[39;00m:\n",
      "File \u001b[1;32m~\\AppData\\Local\\Programs\\Python\\Python39\\Lib\\http\\client.py:307\u001b[0m, in \u001b[0;36mHTTPResponse.begin\u001b[1;34m(self)\u001b[0m\n\u001b[0;32m    306\u001b[0m \u001b[38;5;28;01mwhile\u001b[39;00m \u001b[38;5;28;01mTrue\u001b[39;00m:\n\u001b[1;32m--> 307\u001b[0m     version, status, reason \u001b[38;5;241m=\u001b[39m \u001b[38;5;28;43mself\u001b[39;49m\u001b[38;5;241;43m.\u001b[39;49m\u001b[43m_read_status\u001b[49m\u001b[43m(\u001b[49m\u001b[43m)\u001b[49m\n\u001b[0;32m    308\u001b[0m     \u001b[38;5;28;01mif\u001b[39;00m status \u001b[38;5;241m!=\u001b[39m CONTINUE:\n",
      "File \u001b[1;32m~\\AppData\\Local\\Programs\\Python\\Python39\\Lib\\http\\client.py:268\u001b[0m, in \u001b[0;36mHTTPResponse._read_status\u001b[1;34m(self)\u001b[0m\n\u001b[0;32m    267\u001b[0m \u001b[38;5;28;01mdef\u001b[39;00m \u001b[38;5;21m_read_status\u001b[39m(\u001b[38;5;28mself\u001b[39m):\n\u001b[1;32m--> 268\u001b[0m     line \u001b[38;5;241m=\u001b[39m \u001b[38;5;28mstr\u001b[39m(\u001b[38;5;28;43mself\u001b[39;49m\u001b[38;5;241;43m.\u001b[39;49m\u001b[43mfp\u001b[49m\u001b[38;5;241;43m.\u001b[39;49m\u001b[43mreadline\u001b[49m\u001b[43m(\u001b[49m\u001b[43m_MAXLINE\u001b[49m\u001b[43m \u001b[49m\u001b[38;5;241;43m+\u001b[39;49m\u001b[43m \u001b[49m\u001b[38;5;241;43m1\u001b[39;49m\u001b[43m)\u001b[49m, \u001b[38;5;124m\"\u001b[39m\u001b[38;5;124miso-8859-1\u001b[39m\u001b[38;5;124m\"\u001b[39m)\n\u001b[0;32m    269\u001b[0m     \u001b[38;5;28;01mif\u001b[39;00m \u001b[38;5;28mlen\u001b[39m(line) \u001b[38;5;241m>\u001b[39m _MAXLINE:\n",
      "File \u001b[1;32m~\\AppData\\Local\\Programs\\Python\\Python39\\Lib\\socket.py:704\u001b[0m, in \u001b[0;36mSocketIO.readinto\u001b[1;34m(self, b)\u001b[0m\n\u001b[0;32m    703\u001b[0m \u001b[38;5;28;01mtry\u001b[39;00m:\n\u001b[1;32m--> 704\u001b[0m     \u001b[38;5;28;01mreturn\u001b[39;00m \u001b[38;5;28;43mself\u001b[39;49m\u001b[38;5;241;43m.\u001b[39;49m\u001b[43m_sock\u001b[49m\u001b[38;5;241;43m.\u001b[39;49m\u001b[43mrecv_into\u001b[49m\u001b[43m(\u001b[49m\u001b[43mb\u001b[49m\u001b[43m)\u001b[49m\n\u001b[0;32m    705\u001b[0m \u001b[38;5;28;01mexcept\u001b[39;00m timeout:\n",
      "File \u001b[1;32m~\\AppData\\Local\\Programs\\Python\\Python39\\Lib\\ssl.py:1241\u001b[0m, in \u001b[0;36mSSLSocket.recv_into\u001b[1;34m(self, buffer, nbytes, flags)\u001b[0m\n\u001b[0;32m   1238\u001b[0m         \u001b[38;5;28;01mraise\u001b[39;00m \u001b[38;5;167;01mValueError\u001b[39;00m(\n\u001b[0;32m   1239\u001b[0m           \u001b[38;5;124m\"\u001b[39m\u001b[38;5;124mnon-zero flags not allowed in calls to recv_into() on \u001b[39m\u001b[38;5;132;01m%s\u001b[39;00m\u001b[38;5;124m\"\u001b[39m \u001b[38;5;241m%\u001b[39m\n\u001b[0;32m   1240\u001b[0m           \u001b[38;5;28mself\u001b[39m\u001b[38;5;241m.\u001b[39m\u001b[38;5;18m__class__\u001b[39m)\n\u001b[1;32m-> 1241\u001b[0m     \u001b[38;5;28;01mreturn\u001b[39;00m \u001b[38;5;28;43mself\u001b[39;49m\u001b[38;5;241;43m.\u001b[39;49m\u001b[43mread\u001b[49m\u001b[43m(\u001b[49m\u001b[43mnbytes\u001b[49m\u001b[43m,\u001b[49m\u001b[43m \u001b[49m\u001b[43mbuffer\u001b[49m\u001b[43m)\u001b[49m\n\u001b[0;32m   1242\u001b[0m \u001b[38;5;28;01melse\u001b[39;00m:\n",
      "File \u001b[1;32m~\\AppData\\Local\\Programs\\Python\\Python39\\Lib\\ssl.py:1099\u001b[0m, in \u001b[0;36mSSLSocket.read\u001b[1;34m(self, len, buffer)\u001b[0m\n\u001b[0;32m   1098\u001b[0m \u001b[38;5;28;01mif\u001b[39;00m buffer \u001b[38;5;129;01mis\u001b[39;00m \u001b[38;5;129;01mnot\u001b[39;00m \u001b[38;5;28;01mNone\u001b[39;00m:\n\u001b[1;32m-> 1099\u001b[0m     \u001b[38;5;28;01mreturn\u001b[39;00m \u001b[38;5;28;43mself\u001b[39;49m\u001b[38;5;241;43m.\u001b[39;49m\u001b[43m_sslobj\u001b[49m\u001b[38;5;241;43m.\u001b[39;49m\u001b[43mread\u001b[49m\u001b[43m(\u001b[49m\u001b[38;5;28;43mlen\u001b[39;49m\u001b[43m,\u001b[49m\u001b[43m \u001b[49m\u001b[43mbuffer\u001b[49m\u001b[43m)\u001b[49m\n\u001b[0;32m   1100\u001b[0m \u001b[38;5;28;01melse\u001b[39;00m:\n",
      "\u001b[1;31mProtocolError\u001b[0m: ('Connection aborted.', ConnectionResetError(10054, \"Connessione in corso interrotta forzatamente dall'host remoto\", None, 10054, None))",
      "\nDuring handling of the above exception, another exception occurred:\n",
      "\u001b[1;31mConnectionError\u001b[0m                           Traceback (most recent call last)",
      "Cell \u001b[1;32mIn[1], line 12\u001b[0m\n\u001b[0;32m      8\u001b[0m end \u001b[38;5;241m=\u001b[39m dt\u001b[38;5;241m.\u001b[39mdatetime(\u001b[38;5;241m2023\u001b[39m, \u001b[38;5;241m2\u001b[39m, \u001b[38;5;241m11\u001b[39m)\n\u001b[0;32m     11\u001b[0m m \u001b[38;5;241m=\u001b[39m fxutils\u001b[38;5;241m.\u001b[39mFxcmManager(dbname\u001b[38;5;241m=\u001b[39m\u001b[38;5;124m'\u001b[39m\u001b[38;5;124mFX_RAW\u001b[39m\u001b[38;5;124m'\u001b[39m)\n\u001b[1;32m---> 12\u001b[0m \u001b[43mm\u001b[49m\u001b[38;5;241;43m.\u001b[39;49m\u001b[43mfetch_instrument\u001b[49m\u001b[43m(\u001b[49m\u001b[43mstart\u001b[49m\u001b[43m,\u001b[49m\u001b[43m \u001b[49m\u001b[43mend\u001b[49m\u001b[43m)\u001b[49m\n\u001b[0;32m     13\u001b[0m m\u001b[38;5;241m.\u001b[39mclose()\n\u001b[0;32m     15\u001b[0m \u001b[38;5;28mprint\u001b[39m(\u001b[38;5;124m'\u001b[39m\u001b[38;5;124mEND\u001b[39m\u001b[38;5;124m'\u001b[39m)\n",
      "File \u001b[1;32m~\\Projects\\kragle\\kragle\\fxcm_utils.py:60\u001b[0m, in \u001b[0;36mFxcmManager.fetch_instrument\u001b[1;34m(self, start, end, instrument)\u001b[0m\n\u001b[0;32m     58\u001b[0m \u001b[38;5;28;01mfor\u001b[39;00m p \u001b[38;5;129;01min\u001b[39;00m periods:\n\u001b[0;32m     59\u001b[0m     logger\u001b[38;5;241m.\u001b[39minfo(\u001b[38;5;124m'\u001b[39m\u001b[38;5;124mFetching \u001b[39m\u001b[38;5;124m'\u001b[39m \u001b[38;5;241m+\u001b[39m instrument \u001b[38;5;241m+\u001b[39m \u001b[38;5;124m'\u001b[39m\u001b[38;5;124m period \u001b[39m\u001b[38;5;124m'\u001b[39m \u001b[38;5;241m+\u001b[39m p)\n\u001b[1;32m---> 60\u001b[0m     \u001b[38;5;28;43mself\u001b[39;49m\u001b[38;5;241;43m.\u001b[39;49m\u001b[43mfetch_candles\u001b[49m\u001b[43m(\u001b[49m\u001b[43mstart\u001b[49m\u001b[43m,\u001b[49m\u001b[43m \u001b[49m\u001b[43mend\u001b[49m\u001b[43m,\u001b[49m\u001b[43m \u001b[49m\u001b[43minstrument\u001b[49m\u001b[38;5;241;43m=\u001b[39;49m\u001b[43minstrument\u001b[49m\u001b[43m,\u001b[49m\u001b[43m \u001b[49m\u001b[43mperiod\u001b[49m\u001b[38;5;241;43m=\u001b[39;49m\u001b[43mp\u001b[49m\u001b[43m)\u001b[49m\n",
      "File \u001b[1;32m~\\Projects\\kragle\\kragle\\fxcm_utils.py:43\u001b[0m, in \u001b[0;36mFxcmManager.fetch_candles\u001b[1;34m(self, start, end, instrument, period)\u001b[0m\n\u001b[0;32m     41\u001b[0m loop \u001b[38;5;241m=\u001b[39m \u001b[38;5;28;01mTrue\u001b[39;00m\n\u001b[0;32m     42\u001b[0m \u001b[38;5;28;01mwhile\u001b[39;00m loop:\n\u001b[1;32m---> 43\u001b[0m     df \u001b[38;5;241m=\u001b[39m \u001b[38;5;28;43mself\u001b[39;49m\u001b[38;5;241;43m.\u001b[39;49m\u001b[43mfxcon\u001b[49m\u001b[38;5;241;43m.\u001b[39;49m\u001b[43mget_candles\u001b[49m\u001b[43m(\u001b[49m\u001b[43minstrument\u001b[49m\u001b[43m,\u001b[49m\u001b[43m \u001b[49m\u001b[43mperiod\u001b[49m\u001b[38;5;241;43m=\u001b[39;49m\u001b[43mperiod\u001b[49m\u001b[43m,\u001b[49m\u001b[43m \u001b[49m\u001b[43mstart\u001b[49m\u001b[38;5;241;43m=\u001b[39;49m\u001b[43mtmpstart\u001b[49m\u001b[43m,\u001b[49m\u001b[43m \u001b[49m\u001b[43mend\u001b[49m\u001b[38;5;241;43m=\u001b[39;49m\u001b[43mtmpend\u001b[49m\u001b[43m,\u001b[49m\u001b[43m \u001b[49m\u001b[43mwith_index\u001b[49m\u001b[38;5;241;43m=\u001b[39;49m\u001b[38;5;28;43;01mFalse\u001b[39;49;00m\u001b[43m)\u001b[49m\n\u001b[0;32m     44\u001b[0m     logger\u001b[38;5;241m.\u001b[39minfo(\u001b[38;5;124m'\u001b[39m\u001b[38;5;124minstrument: \u001b[39m\u001b[38;5;124m'\u001b[39m \u001b[38;5;241m+\u001b[39m instrument \u001b[38;5;241m+\u001b[39m \u001b[38;5;124m'\u001b[39m\u001b[38;5;124m period: \u001b[39m\u001b[38;5;124m'\u001b[39m \u001b[38;5;241m+\u001b[39m period \u001b[38;5;241m+\u001b[39m \u001b[38;5;124m'\u001b[39m\u001b[38;5;124m delta: \u001b[39m\u001b[38;5;124m'\u001b[39m \u001b[38;5;241m+\u001b[39m \u001b[38;5;28mstr\u001b[39m(delta) \u001b[38;5;241m+\u001b[39m \u001b[38;5;124m'\u001b[39m\u001b[38;5;124m from: \u001b[39m\u001b[38;5;124m'\u001b[39m \u001b[38;5;241m+\u001b[39m \u001b[38;5;28mstr\u001b[39m(\n\u001b[0;32m     45\u001b[0m         tmpstart) \u001b[38;5;241m+\u001b[39m \u001b[38;5;124m'\u001b[39m\u001b[38;5;124m to:\u001b[39m\u001b[38;5;124m'\u001b[39m \u001b[38;5;241m+\u001b[39m \u001b[38;5;28mstr\u001b[39m(tmpend) \u001b[38;5;241m+\u001b[39m \u001b[38;5;124m'\u001b[39m\u001b[38;5;124m n: \u001b[39m\u001b[38;5;124m'\u001b[39m \u001b[38;5;241m+\u001b[39m \u001b[38;5;28mstr\u001b[39m(df\u001b[38;5;241m.\u001b[39msize))\n\u001b[0;32m     47\u001b[0m     \u001b[38;5;28mself\u001b[39m\u001b[38;5;241m.\u001b[39mkdb\u001b[38;5;241m.\u001b[39mfetch_dataframe(df, period)\n",
      "File \u001b[1;32mc:\\users\\tazzo\\.virtualenvs\\kragle-zgkb3__s\\lib\\site-packages\\fxcmpy\\fxcmpy.py:2204\u001b[0m, in \u001b[0;36mfxcmpy.get_candles\u001b[1;34m(self, instrument, offer_id, period, number, start, end, with_index, columns, stop)\u001b[0m\n\u001b[0;32m   2201\u001b[0m         \u001b[38;5;28;01mraise\u001b[39;00m \u001b[38;5;167;01mValueError\u001b[39;00m(\u001b[38;5;124m'\u001b[39m\u001b[38;5;124mend must be a datetime object.\u001b[39m\u001b[38;5;124m'\u001b[39m)\n\u001b[0;32m   2202\u001b[0m     params[\u001b[38;5;124m'\u001b[39m\u001b[38;5;124mto\u001b[39m\u001b[38;5;124m'\u001b[39m] \u001b[38;5;241m=\u001b[39m \u001b[38;5;28mmax\u001b[39m(end, \u001b[38;5;241m1\u001b[39m)\n\u001b[1;32m-> 2204\u001b[0m data \u001b[38;5;241m=\u001b[39m \u001b[38;5;28;43mself\u001b[39;49m\u001b[38;5;241;43m.\u001b[39;49m\u001b[43m__handle_request__\u001b[49m\u001b[43m(\u001b[49m\u001b[43mmethod\u001b[49m\u001b[38;5;241;43m=\u001b[39;49m\u001b[38;5;124;43m'\u001b[39;49m\u001b[38;5;124;43mcandles/\u001b[39;49m\u001b[38;5;132;43;01m%s\u001b[39;49;00m\u001b[38;5;124;43m/\u001b[39;49m\u001b[38;5;132;43;01m%s\u001b[39;49;00m\u001b[38;5;124;43m'\u001b[39;49m\n\u001b[0;32m   2205\u001b[0m \u001b[43m                               \u001b[49m\u001b[38;5;241;43m%\u001b[39;49m\u001b[43m \u001b[49m\u001b[43m(\u001b[49m\u001b[43moffer_id\u001b[49m\u001b[43m,\u001b[49m\u001b[43m \u001b[49m\u001b[43mperiod\u001b[49m\u001b[43m)\u001b[49m\u001b[43m,\u001b[49m\u001b[43m \u001b[49m\u001b[43mparams\u001b[49m\u001b[38;5;241;43m=\u001b[39;49m\u001b[43mparams\u001b[49m\u001b[43m)\u001b[49m\n\u001b[0;32m   2207\u001b[0m \u001b[38;5;28;01mif\u001b[39;00m \u001b[38;5;28mlen\u001b[39m(columns) \u001b[38;5;241m==\u001b[39m \u001b[38;5;241m0\u001b[39m:\n\u001b[0;32m   2208\u001b[0m     to_add \u001b[38;5;241m=\u001b[39m \u001b[38;5;28mself\u001b[39m\u001b[38;5;241m.\u001b[39mCANDLES_COLUMNS\n",
      "File \u001b[1;32mc:\\users\\tazzo\\.virtualenvs\\kragle-zgkb3__s\\lib\\site-packages\\fxcmpy\\fxcmpy.py:2498\u001b[0m, in \u001b[0;36mfxcmpy.__handle_request__\u001b[1;34m(self, method, params, protocol)\u001b[0m\n\u001b[0;32m   2495\u001b[0m     \u001b[38;5;28mself\u001b[39m\u001b[38;5;241m.\u001b[39mlogger\u001b[38;5;241m.\u001b[39minfo(\u001b[38;5;124m'\u001b[39m\u001b[38;5;124mProxies: \u001b[39m\u001b[38;5;132;01m%s\u001b[39;00m\u001b[38;5;124m'\u001b[39m \u001b[38;5;241m%\u001b[39m \u001b[38;5;28mself\u001b[39m\u001b[38;5;241m.\u001b[39mproxies)\n\u001b[0;32m   2497\u001b[0m \u001b[38;5;28;01melse\u001b[39;00m:\n\u001b[1;32m-> 2498\u001b[0m     req \u001b[38;5;241m=\u001b[39m \u001b[43mrequests\u001b[49m\u001b[38;5;241;43m.\u001b[39;49m\u001b[43mget\u001b[49m\u001b[43m(\u001b[49m\u001b[38;5;124;43m'\u001b[39;49m\u001b[38;5;132;43;01m%s\u001b[39;49;00m\u001b[38;5;124;43m:443/\u001b[39;49m\u001b[38;5;132;43;01m%s\u001b[39;49;00m\u001b[38;5;124;43m'\u001b[39;49m\u001b[43m \u001b[49m\u001b[38;5;241;43m%\u001b[39;49m\u001b[43m \u001b[49m\u001b[43m(\u001b[49m\u001b[38;5;28;43mself\u001b[39;49m\u001b[38;5;241;43m.\u001b[39;49m\u001b[43mtrading_url\u001b[49m\u001b[43m,\u001b[49m\u001b[43m \u001b[49m\u001b[43mmethod\u001b[49m\u001b[43m)\u001b[49m\u001b[43m,\u001b[49m\n\u001b[0;32m   2499\u001b[0m \u001b[43m                       \u001b[49m\u001b[43mheaders\u001b[49m\u001b[38;5;241;43m=\u001b[39;49m\u001b[38;5;28;43mself\u001b[39;49m\u001b[38;5;241;43m.\u001b[39;49m\u001b[43mrequest_headers\u001b[49m\u001b[43m,\u001b[49m\u001b[43m \u001b[49m\u001b[43mparams\u001b[49m\u001b[38;5;241;43m=\u001b[39;49m\u001b[43mparams\u001b[49m\u001b[43m,\u001b[49m\n\u001b[0;32m   2500\u001b[0m \u001b[43m                       \u001b[49m\u001b[43mproxies\u001b[49m\u001b[38;5;241;43m=\u001b[39;49m\u001b[38;5;28;43mself\u001b[39;49m\u001b[38;5;241;43m.\u001b[39;49m\u001b[43mproxies\u001b[49m\u001b[43m)\u001b[49m\n\u001b[0;32m   2501\u001b[0m     \u001b[38;5;28mself\u001b[39m\u001b[38;5;241m.\u001b[39mlogger\u001b[38;5;241m.\u001b[39minfo(\u001b[38;5;124m'\u001b[39m\u001b[38;5;124mSending GET Request:\u001b[39m\u001b[38;5;124m'\u001b[39m)\n\u001b[0;32m   2502\u001b[0m     \u001b[38;5;28mself\u001b[39m\u001b[38;5;241m.\u001b[39mlogger\u001b[38;5;241m.\u001b[39minfo(\u001b[38;5;124m'\u001b[39m\u001b[38;5;124mURL: \u001b[39m\u001b[38;5;132;01m%s\u001b[39;00m\u001b[38;5;124m'\u001b[39m \u001b[38;5;241m%\u001b[39m req\u001b[38;5;241m.\u001b[39murl)\n",
      "File \u001b[1;32mc:\\users\\tazzo\\.virtualenvs\\kragle-zgkb3__s\\lib\\site-packages\\requests\\api.py:73\u001b[0m, in \u001b[0;36mget\u001b[1;34m(url, params, **kwargs)\u001b[0m\n\u001b[0;32m     62\u001b[0m \u001b[38;5;28;01mdef\u001b[39;00m \u001b[38;5;21mget\u001b[39m(url, params\u001b[38;5;241m=\u001b[39m\u001b[38;5;28;01mNone\u001b[39;00m, \u001b[38;5;241m*\u001b[39m\u001b[38;5;241m*\u001b[39mkwargs):\n\u001b[0;32m     63\u001b[0m \u001b[38;5;250m    \u001b[39m\u001b[38;5;124mr\u001b[39m\u001b[38;5;124;03m\"\"\"Sends a GET request.\u001b[39;00m\n\u001b[0;32m     64\u001b[0m \n\u001b[0;32m     65\u001b[0m \u001b[38;5;124;03m    :param url: URL for the new :class:`Request` object.\u001b[39;00m\n\u001b[1;32m   (...)\u001b[0m\n\u001b[0;32m     70\u001b[0m \u001b[38;5;124;03m    :rtype: requests.Response\u001b[39;00m\n\u001b[0;32m     71\u001b[0m \u001b[38;5;124;03m    \"\"\"\u001b[39;00m\n\u001b[1;32m---> 73\u001b[0m     \u001b[38;5;28;01mreturn\u001b[39;00m request(\u001b[38;5;124m\"\u001b[39m\u001b[38;5;124mget\u001b[39m\u001b[38;5;124m\"\u001b[39m, url, params\u001b[38;5;241m=\u001b[39mparams, \u001b[38;5;241m*\u001b[39m\u001b[38;5;241m*\u001b[39mkwargs)\n",
      "File \u001b[1;32mc:\\users\\tazzo\\.virtualenvs\\kragle-zgkb3__s\\lib\\site-packages\\requests\\api.py:59\u001b[0m, in \u001b[0;36mrequest\u001b[1;34m(method, url, **kwargs)\u001b[0m\n\u001b[0;32m     55\u001b[0m \u001b[38;5;66;03m# By using the 'with' statement we are sure the session is closed, thus we\u001b[39;00m\n\u001b[0;32m     56\u001b[0m \u001b[38;5;66;03m# avoid leaving sockets open which can trigger a ResourceWarning in some\u001b[39;00m\n\u001b[0;32m     57\u001b[0m \u001b[38;5;66;03m# cases, and look like a memory leak in others.\u001b[39;00m\n\u001b[0;32m     58\u001b[0m \u001b[38;5;28;01mwith\u001b[39;00m sessions\u001b[38;5;241m.\u001b[39mSession() \u001b[38;5;28;01mas\u001b[39;00m session:\n\u001b[1;32m---> 59\u001b[0m     \u001b[38;5;28;01mreturn\u001b[39;00m session\u001b[38;5;241m.\u001b[39mrequest(method\u001b[38;5;241m=\u001b[39mmethod, url\u001b[38;5;241m=\u001b[39murl, \u001b[38;5;241m*\u001b[39m\u001b[38;5;241m*\u001b[39mkwargs)\n",
      "File \u001b[1;32mc:\\users\\tazzo\\.virtualenvs\\kragle-zgkb3__s\\lib\\site-packages\\requests\\sessions.py:587\u001b[0m, in \u001b[0;36mSession.request\u001b[1;34m(self, method, url, params, data, headers, cookies, files, auth, timeout, allow_redirects, proxies, hooks, stream, verify, cert, json)\u001b[0m\n\u001b[0;32m    582\u001b[0m send_kwargs \u001b[38;5;241m=\u001b[39m {\n\u001b[0;32m    583\u001b[0m     \u001b[38;5;124m\"\u001b[39m\u001b[38;5;124mtimeout\u001b[39m\u001b[38;5;124m\"\u001b[39m: timeout,\n\u001b[0;32m    584\u001b[0m     \u001b[38;5;124m\"\u001b[39m\u001b[38;5;124mallow_redirects\u001b[39m\u001b[38;5;124m\"\u001b[39m: allow_redirects,\n\u001b[0;32m    585\u001b[0m }\n\u001b[0;32m    586\u001b[0m send_kwargs\u001b[38;5;241m.\u001b[39mupdate(settings)\n\u001b[1;32m--> 587\u001b[0m resp \u001b[38;5;241m=\u001b[39m \u001b[38;5;28mself\u001b[39m\u001b[38;5;241m.\u001b[39msend(prep, \u001b[38;5;241m*\u001b[39m\u001b[38;5;241m*\u001b[39msend_kwargs)\n\u001b[0;32m    589\u001b[0m \u001b[38;5;28;01mreturn\u001b[39;00m resp\n",
      "File \u001b[1;32mc:\\users\\tazzo\\.virtualenvs\\kragle-zgkb3__s\\lib\\site-packages\\requests\\sessions.py:701\u001b[0m, in \u001b[0;36mSession.send\u001b[1;34m(self, request, **kwargs)\u001b[0m\n\u001b[0;32m    698\u001b[0m start \u001b[38;5;241m=\u001b[39m preferred_clock()\n\u001b[0;32m    700\u001b[0m \u001b[38;5;66;03m# Send the request\u001b[39;00m\n\u001b[1;32m--> 701\u001b[0m r \u001b[38;5;241m=\u001b[39m adapter\u001b[38;5;241m.\u001b[39msend(request, \u001b[38;5;241m*\u001b[39m\u001b[38;5;241m*\u001b[39mkwargs)\n\u001b[0;32m    703\u001b[0m \u001b[38;5;66;03m# Total elapsed time of the request (approximately)\u001b[39;00m\n\u001b[0;32m    704\u001b[0m elapsed \u001b[38;5;241m=\u001b[39m preferred_clock() \u001b[38;5;241m-\u001b[39m start\n",
      "File \u001b[1;32mc:\\users\\tazzo\\.virtualenvs\\kragle-zgkb3__s\\lib\\site-packages\\requests\\adapters.py:547\u001b[0m, in \u001b[0;36mHTTPAdapter.send\u001b[1;34m(self, request, stream, timeout, verify, cert, proxies)\u001b[0m\n\u001b[0;32m    544\u001b[0m             \u001b[38;5;28;01mraise\u001b[39;00m\n\u001b[0;32m    546\u001b[0m \u001b[38;5;28;01mexcept\u001b[39;00m (ProtocolError, \u001b[38;5;167;01mOSError\u001b[39;00m) \u001b[38;5;28;01mas\u001b[39;00m err:\n\u001b[1;32m--> 547\u001b[0m     \u001b[38;5;28;01mraise\u001b[39;00m \u001b[38;5;167;01mConnectionError\u001b[39;00m(err, request\u001b[38;5;241m=\u001b[39mrequest)\n\u001b[0;32m    549\u001b[0m \u001b[38;5;28;01mexcept\u001b[39;00m MaxRetryError \u001b[38;5;28;01mas\u001b[39;00m e:\n\u001b[0;32m    550\u001b[0m     \u001b[38;5;28;01mif\u001b[39;00m \u001b[38;5;28misinstance\u001b[39m(e\u001b[38;5;241m.\u001b[39mreason, ConnectTimeoutError):\n\u001b[0;32m    551\u001b[0m         \u001b[38;5;66;03m# TODO: Remove this in 3.0.0: see #2811\u001b[39;00m\n",
      "\u001b[1;31mConnectionError\u001b[0m: ('Connection aborted.', ConnectionResetError(10054, \"Connessione in corso interrotta forzatamente dall'host remoto\", None, 10054, None))"
     ]
    }
   ],
   "source": [
    "import kragle.fxcm_utils as fxutils\n",
    "import datetime as dt\n",
    "import logging.config\n",
    "\n",
    "logging.config.fileConfig('log.cfg')\n",
    "\n",
    "start = dt.datetime(2023, 2, 1)\n",
    "end = dt.datetime(2023, 2, 11)\n",
    "\n",
    "\n",
    "m = fxutils.FxcmManager(dbname='FX_RAW')\n",
    "m.fetch_instrument(start, end)\n",
    "m.close()\n",
    "\n",
    "print('END')\n"
   ]
  },
  {
   "cell_type": "markdown",
   "metadata": {},
   "source": [
    "### Tensorflow"
   ]
  },
  {
   "cell_type": "code",
   "execution_count": 2,
   "metadata": {},
   "outputs": [
    {
     "name": "stdout",
     "output_type": "stream",
     "text": [
      "Model: \"sequential\"\n",
      "_________________________________________________________________\n",
      " Layer (type)                Output Shape              Param #   \n",
      "=================================================================\n",
      " conv2d (Conv2D)             (None, 5, 10, 32)         224       \n",
      "                                                                 \n",
      " conv2d_1 (Conv2D)           (None, 5, 10, 32)         3104      \n",
      "                                                                 \n",
      " conv2d_2 (Conv2D)           (None, 5, 10, 64)         18496     \n",
      "                                                                 \n",
      " dropout (Dropout)           (None, 5, 10, 64)         0         \n",
      "                                                                 \n",
      " conv2d_3 (Conv2D)           (None, 5, 10, 64)         36928     \n",
      "                                                                 \n",
      " flatten (Flatten)           (None, 3200)              0         \n",
      "                                                                 \n",
      " dense (Dense)               (None, 64)                204864    \n",
      "                                                                 \n",
      " dense_1 (Dense)             (None, 3)                 195       \n",
      "                                                                 \n",
      "=================================================================\n",
      "Total params: 263,811\n",
      "Trainable params: 263,811\n",
      "Non-trainable params: 0\n",
      "_________________________________________________________________\n"
     ]
    }
   ],
   "source": [
    "import tensorflow as tf\n",
    "\n",
    "from tensorflow.keras import datasets, layers, models\n",
    "\n",
    "\n",
    "model = models.Sequential()\n",
    "model.add(layers.Conv2D(32, (1, 3), activation='relu', input_shape=(5, 10, 2), padding='same'))\n",
    "model.add(layers.Conv2D(32, (3, 1), activation='relu', padding='same'))\n",
    "model.add(layers.Conv2D(64, (3, 3), activation='relu', padding='same'))\n",
    "model.add(layers.Dropout(0.25))\n",
    "model.add(layers.Conv2D(64, (3, 3), activation='relu', padding='same'))\n",
    "#model.add(layers.BatchNormalization())\n",
    "\n",
    "\n",
    "model.add(layers.Flatten())\n",
    "model.add(layers.Dense(64, activation='relu'))\n",
    "model.add(layers.Dense(3, activation='softmax'))\n",
    "\n",
    "model.summary()"
   ]
  },
  {
   "cell_type": "code",
   "execution_count": 3,
   "metadata": {},
   "outputs": [
    {
     "name": "stdout",
     "output_type": "stream",
     "text": [
      "You must install pydot (`pip install pydot`) and install graphviz (see instructions at https://graphviz.gitlab.io/download/) for plot_model to work.\n"
     ]
    },
    {
     "name": "stderr",
     "output_type": "stream",
     "text": [
      "|ERROR|2023-04-25 00:28:46,071|Connection error: {'message': 'Your token is not authorized, please contact admin@fxcm.com'}\n"
     ]
    }
   ],
   "source": [
    "tf.keras.utils.plot_model(model, show_shapes=True)"
   ]
  },
  {
   "cell_type": "markdown",
   "metadata": {},
   "source": [
    "### Compiling Model"
   ]
  },
  {
   "cell_type": "code",
   "execution_count": 6,
   "metadata": {},
   "outputs": [],
   "source": [
    "model.compile(optimizer='adam',\n",
    "              loss=tf.keras.losses.SparseCategoricalCrossentropy(from_logits=False),\n",
    "              metrics=['accuracy'],\n",
    "              run_eagerly=True)\n",
    "\n"
   ]
  },
  {
   "cell_type": "markdown",
   "metadata": {},
   "source": [
    "### Training Model"
   ]
  },
  {
   "cell_type": "code",
   "execution_count": 7,
   "metadata": {},
   "outputs": [
    {
     "name": "stdout",
     "output_type": "stream",
     "text": [
      "Epoch 1/30\n",
      "1408/1408 [==============================] - ETA: 0s - loss: 13.3764 - accuracy: 0.4725\n",
      "\tCorrect: 8215\n",
      "\tIncorrect: 8286\n",
      "\t0: 0.516\n",
      "\t1: 0.000\n",
      "\t2: 0.486\n",
      "\tCurrent Network Accuracy: 0.498\n",
      "1408/1408 [==============================] - 86s 61ms/step - loss: 13.3764 - accuracy: 0.4725 - val_loss: 0.7273 - val_accuracy: 0.4978\n",
      "Epoch 2/30\n",
      "1408/1408 [==============================] - ETA: 0s - loss: 13.2363 - accuracy: 0.4876\n",
      "\tCorrect: 8163\n",
      "\tIncorrect: 8338\n",
      "\t0: 0.530\n",
      "\t1: 0.000\n",
      "\t2: 0.465\n",
      "\tCurrent Network Accuracy: 0.495\n",
      "1408/1408 [==============================] - 86s 61ms/step - loss: 13.2363 - accuracy: 0.4876 - val_loss: 0.7440 - val_accuracy: 0.4947\n",
      "Epoch 3/30\n",
      "1408/1408 [==============================] - ETA: 0s - loss: 13.1437 - accuracy: 0.5057\n",
      "\tCorrect: 8174\n",
      "\tIncorrect: 8327\n",
      "\t0: 0.393\n",
      "\t1: 0.000\n",
      "\t2: 0.607\n",
      "\tCurrent Network Accuracy: 0.495\n",
      "1408/1408 [==============================] - 86s 61ms/step - loss: 13.1437 - accuracy: 0.5057 - val_loss: 0.7361 - val_accuracy: 0.4954\n",
      "Epoch 4/30\n",
      "1407/1408 [============================>.] - ETA: 0s - loss: 13.0210 - accuracy: 0.5215\n",
      "\tCorrect: 8152\n",
      "\tIncorrect: 8349\n",
      "\t0: 0.502\n",
      "\t1: 0.000\n",
      "\t2: 0.492\n",
      "\tCurrent Network Accuracy: 0.494\n",
      "1408/1408 [==============================] - 86s 61ms/step - loss: 13.0211 - accuracy: 0.5215 - val_loss: 0.7358 - val_accuracy: 0.4940\n",
      "Epoch 5/30\n",
      "1408/1408 [==============================] - ETA: 0s - loss: 12.8096 - accuracy: 0.5441\n",
      "\tCorrect: 8201\n",
      "\tIncorrect: 8300\n",
      "\t0: 0.440\n",
      "\t1: 0.000\n",
      "\t2: 0.562\n",
      "\tCurrent Network Accuracy: 0.497\n",
      "1408/1408 [==============================] - 86s 61ms/step - loss: 12.8096 - accuracy: 0.5441 - val_loss: 0.7602 - val_accuracy: 0.4970\n",
      "Epoch 6/30\n",
      "1408/1408 [==============================] - ETA: 0s - loss: 12.5023 - accuracy: 0.5664\n",
      "\tCorrect: 8045\n",
      "\tIncorrect: 8456\n",
      "\t0: 0.558\n",
      "\t1: 0.000\n",
      "\t2: 0.422\n",
      "\tCurrent Network Accuracy: 0.488\n",
      "1408/1408 [==============================] - 86s 61ms/step - loss: 12.5023 - accuracy: 0.5664 - val_loss: 0.7888 - val_accuracy: 0.4875\n",
      "Epoch 7/30\n",
      "1408/1408 [==============================] - ETA: 0s - loss: 12.0884 - accuracy: 0.5897\n",
      "\tCorrect: 8206\n",
      "\tIncorrect: 8295\n",
      "\t0: 0.515\n",
      "\t1: 0.000\n",
      "\t2: 0.486\n",
      "\tCurrent Network Accuracy: 0.497\n",
      "1408/1408 [==============================] - 86s 61ms/step - loss: 12.0884 - accuracy: 0.5897 - val_loss: 0.8213 - val_accuracy: 0.4973\n",
      "Epoch 8/30\n",
      "1408/1408 [==============================] - ETA: 0s - loss: 11.6530 - accuracy: 0.6112\n",
      "\tCorrect: 8006\n",
      "\tIncorrect: 8495\n",
      "\t0: 0.438\n",
      "\t1: 0.000\n",
      "\t2: 0.540\n",
      "\tCurrent Network Accuracy: 0.485\n",
      "1408/1408 [==============================] - 86s 61ms/step - loss: 11.6530 - accuracy: 0.6112 - val_loss: 0.8662 - val_accuracy: 0.4852\n",
      "Epoch 9/30\n",
      "1408/1408 [==============================] - ETA: 0s - loss: 11.1103 - accuracy: 0.6385\n",
      "\tCorrect: 8102\n",
      "\tIncorrect: 8399\n",
      "\t0: 0.396\n",
      "\t1: 0.000\n",
      "\t2: 0.595\n",
      "\tCurrent Network Accuracy: 0.491\n",
      "1408/1408 [==============================] - 86s 61ms/step - loss: 11.1103 - accuracy: 0.6385 - val_loss: 0.9443 - val_accuracy: 0.4910\n",
      "Epoch 10/30\n",
      "1407/1408 [============================>.] - ETA: 0s - loss: 10.5957 - accuracy: 0.6614\n",
      "\tCorrect: 8005\n",
      "\tIncorrect: 8496\n",
      "\t0: 0.413\n",
      "\t1: 0.000\n",
      "\t2: 0.566\n",
      "\tCurrent Network Accuracy: 0.485\n",
      "1408/1408 [==============================] - 86s 61ms/step - loss: 10.5967 - accuracy: 0.6613 - val_loss: 1.0381 - val_accuracy: 0.4851\n",
      "Epoch 11/30\n",
      "1408/1408 [==============================] - ETA: 0s - loss: 10.0889 - accuracy: 0.6797\n",
      "\tCorrect: 8115\n",
      "\tIncorrect: 8386\n",
      "\t0: 0.359\n",
      "\t1: 0.000\n",
      "\t2: 0.635\n",
      "\tCurrent Network Accuracy: 0.492\n",
      "1408/1408 [==============================] - 86s 61ms/step - loss: 10.0889 - accuracy: 0.6797 - val_loss: 1.0922 - val_accuracy: 0.4918\n",
      "Epoch 12/30\n",
      "1408/1408 [==============================] - ETA: 0s - loss: 9.4454 - accuracy: 0.7030\n",
      "\tCorrect: 8030\n",
      "\tIncorrect: 8471\n",
      "\t0: 0.399\n",
      "\t1: 0.000\n",
      "\t2: 0.584\n",
      "\tCurrent Network Accuracy: 0.487\n",
      "1408/1408 [==============================] - 86s 61ms/step - loss: 9.4454 - accuracy: 0.7030 - val_loss: 1.2127 - val_accuracy: 0.4866\n",
      "Epoch 13/30\n",
      "1407/1408 [============================>.] - ETA: 0s - loss: 9.0243 - accuracy: 0.7168\n",
      "\tCorrect: 8295\n",
      "\tIncorrect: 8206\n",
      "\t0: 0.486\n",
      "\t1: 0.000\n",
      "\t2: 0.527\n",
      "\tCurrent Network Accuracy: 0.503\n",
      "1408/1408 [==============================] - 86s 61ms/step - loss: 9.0236 - accuracy: 0.7168 - val_loss: 1.1805 - val_accuracy: 0.5027\n",
      "Epoch 14/30\n",
      "1408/1408 [==============================] - ETA: 0s - loss: 8.6164 - accuracy: 0.7300\n",
      "\tCorrect: 8085\n",
      "\tIncorrect: 8416\n",
      "\t0: 0.525\n",
      "\t1: 0.000\n",
      "\t2: 0.460\n",
      "\tCurrent Network Accuracy: 0.490\n",
      "1408/1408 [==============================] - 86s 61ms/step - loss: 8.6164 - accuracy: 0.7300 - val_loss: 1.1892 - val_accuracy: 0.4900\n",
      "Epoch 15/30\n",
      "1407/1408 [============================>.] - ETA: 0s - loss: 8.1105 - accuracy: 0.7448\n",
      "\tCorrect: 8261\n",
      "\tIncorrect: 8240\n",
      "\t0: 0.485\n",
      "\t1: 0.000\n",
      "\t2: 0.524\n",
      "\tCurrent Network Accuracy: 0.501\n",
      "1408/1408 [==============================] - 86s 61ms/step - loss: 8.1135 - accuracy: 0.7447 - val_loss: 1.2422 - val_accuracy: 0.5006\n",
      "Epoch 16/30\n",
      "1408/1408 [==============================] - ETA: 0s - loss: 7.8133 - accuracy: 0.7554\n",
      "\tCorrect: 8070\n",
      "\tIncorrect: 8431\n",
      "\t0: 0.466\n",
      "\t1: 0.000\n",
      "\t2: 0.520\n",
      "\tCurrent Network Accuracy: 0.489\n",
      "1408/1408 [==============================] - 86s 61ms/step - loss: 7.8133 - accuracy: 0.7554 - val_loss: 1.3917 - val_accuracy: 0.4891\n",
      "Epoch 17/30\n",
      "1408/1408 [==============================] - ETA: 0s - loss: 7.3722 - accuracy: 0.7672\n",
      "\tCorrect: 8164\n",
      "\tIncorrect: 8337\n",
      "\t0: 0.515\n",
      "\t1: 0.000\n",
      "\t2: 0.480\n",
      "\tCurrent Network Accuracy: 0.495\n",
      "1408/1408 [==============================] - 87s 62ms/step - loss: 7.3722 - accuracy: 0.7672 - val_loss: 1.4303 - val_accuracy: 0.4948\n",
      "Epoch 18/30\n",
      "1408/1408 [==============================] - ETA: 0s - loss: 7.1089 - accuracy: 0.7773\n",
      "\tCorrect: 8171\n",
      "\tIncorrect: 8330\n",
      "\t0: 0.518\n",
      "\t1: 0.000\n",
      "\t2: 0.478\n",
      "\tCurrent Network Accuracy: 0.495\n",
      "1408/1408 [==============================] - 87s 62ms/step - loss: 7.1089 - accuracy: 0.7773 - val_loss: 1.4007 - val_accuracy: 0.4952\n",
      "Epoch 19/30\n",
      "1407/1408 [============================>.] - ETA: 0s - loss: 6.7516 - accuracy: 0.7876\n",
      "\tCorrect: 8179\n",
      "\tIncorrect: 8322\n",
      "\t0: 0.492\n",
      "\t1: 0.000\n",
      "\t2: 0.506\n",
      "\tCurrent Network Accuracy: 0.496\n",
      "1408/1408 [==============================] - 86s 61ms/step - loss: 6.7516 - accuracy: 0.7876 - val_loss: 1.4793 - val_accuracy: 0.4957\n",
      "Epoch 20/30\n",
      "1408/1408 [==============================] - ETA: 0s - loss: 6.5269 - accuracy: 0.7917\n",
      "\tCorrect: 8251\n",
      "\tIncorrect: 8250\n",
      "\t0: 0.483\n",
      "\t1: 0.000\n",
      "\t2: 0.524\n",
      "\tCurrent Network Accuracy: 0.500\n",
      "1408/1408 [==============================] - 87s 62ms/step - loss: 6.5269 - accuracy: 0.7917 - val_loss: 1.5530 - val_accuracy: 0.5000\n",
      "Epoch 21/30\n",
      "1408/1408 [==============================] - ETA: 0s - loss: 6.2630 - accuracy: 0.7987\n",
      "\tCorrect: 8262\n",
      "\tIncorrect: 8239\n",
      "\t0: 0.419\n",
      "\t1: 0.000\n",
      "\t2: 0.592\n",
      "\tCurrent Network Accuracy: 0.501\n",
      "1408/1408 [==============================] - 86s 61ms/step - loss: 6.2630 - accuracy: 0.7987 - val_loss: 1.6662 - val_accuracy: 0.5007\n",
      "Epoch 22/30\n",
      "1408/1408 [==============================] - ETA: 0s - loss: 6.0328 - accuracy: 0.8055\n",
      "\tCorrect: 8297\n",
      "\tIncorrect: 8204\n",
      "\t0: 0.441\n",
      "\t1: 0.000\n",
      "\t2: 0.573\n",
      "\tCurrent Network Accuracy: 0.503\n",
      "1408/1408 [==============================] - 86s 61ms/step - loss: 6.0328 - accuracy: 0.8055 - val_loss: 1.6174 - val_accuracy: 0.5028\n",
      "Epoch 23/30\n",
      "1408/1408 [==============================] - ETA: 0s - loss: 5.8558 - accuracy: 0.8093\n",
      "\tCorrect: 8248\n",
      "\tIncorrect: 8253\n",
      "\t0: 0.533\n",
      "\t1: 0.000\n",
      "\t2: 0.473\n",
      "\tCurrent Network Accuracy: 0.500\n",
      "1408/1408 [==============================] - 86s 61ms/step - loss: 5.8558 - accuracy: 0.8093 - val_loss: 1.7359 - val_accuracy: 0.4998\n",
      "Epoch 24/30\n",
      "1407/1408 [============================>.] - ETA: 0s - loss: 5.6366 - accuracy: 0.8160\n",
      "\tCorrect: 8344\n",
      "\tIncorrect: 8157\n",
      "\t0: 0.471\n",
      "\t1: 0.000\n",
      "\t2: 0.548\n",
      "\tCurrent Network Accuracy: 0.506\n",
      "1408/1408 [==============================] - 86s 61ms/step - loss: 5.6360 - accuracy: 0.8160 - val_loss: 1.7462 - val_accuracy: 0.5057\n",
      "Epoch 25/30\n",
      "1407/1408 [============================>.] - ETA: 0s - loss: 5.4497 - accuracy: 0.8221\n",
      "\tCorrect: 8212\n",
      "\tIncorrect: 8289\n",
      "\t0: 0.470\n",
      "\t1: 0.000\n",
      "\t2: 0.533\n",
      "\tCurrent Network Accuracy: 0.498\n",
      "1408/1408 [==============================] - 86s 61ms/step - loss: 5.4498 - accuracy: 0.8220 - val_loss: 1.7413 - val_accuracy: 0.4977\n"
     ]
    },
    {
     "name": "stdout",
     "output_type": "stream",
     "text": [
      "Epoch 26/30\n",
      "1407/1408 [============================>.] - ETA: 0s - loss: 5.2260 - accuracy: 0.8250\n",
      "\tCorrect: 8239\n",
      "\tIncorrect: 8262\n",
      "\t0: 0.488\n",
      "\t1: 0.000\n",
      "\t2: 0.518\n",
      "\tCurrent Network Accuracy: 0.499\n",
      "1408/1408 [==============================] - 85s 60ms/step - loss: 5.2262 - accuracy: 0.8249 - val_loss: 1.8084 - val_accuracy: 0.4993\n",
      "Epoch 27/30\n",
      "1408/1408 [==============================] - ETA: 0s - loss: 5.1357 - accuracy: 0.8288\n",
      "\tCorrect: 8239\n",
      "\tIncorrect: 8262\n",
      "\t0: 0.508\n",
      "\t1: 0.000\n",
      "\t2: 0.496\n",
      "\tCurrent Network Accuracy: 0.499\n",
      "1408/1408 [==============================] - 85s 60ms/step - loss: 5.1357 - accuracy: 0.8288 - val_loss: 1.8450 - val_accuracy: 0.4993\n",
      "Epoch 28/30\n",
      "1407/1408 [============================>.] - ETA: 0s - loss: 5.0525 - accuracy: 0.8290\n",
      "\tCorrect: 8229\n",
      "\tIncorrect: 8272\n",
      "\t0: 0.470\n",
      "\t1: 0.000\n",
      "\t2: 0.535\n",
      "\tCurrent Network Accuracy: 0.499\n",
      "1408/1408 [==============================] - 85s 60ms/step - loss: 5.0519 - accuracy: 0.8290 - val_loss: 1.8837 - val_accuracy: 0.4987\n",
      "Epoch 29/30\n",
      "1407/1408 [============================>.] - ETA: 0s - loss: 4.8046 - accuracy: 0.8361\n",
      "\tCorrect: 8206\n",
      "\tIncorrect: 8295\n",
      "\t0: 0.440\n",
      "\t1: 0.000\n",
      "\t2: 0.563\n",
      "\tCurrent Network Accuracy: 0.497\n",
      "1408/1408 [==============================] - 85s 60ms/step - loss: 4.8050 - accuracy: 0.8361 - val_loss: 2.0317 - val_accuracy: 0.4973\n",
      "Epoch 30/30\n",
      "1408/1408 [==============================] - ETA: 0s - loss: 4.7540 - accuracy: 0.8368\n",
      "\tCorrect: 8212\n",
      "\tIncorrect: 8289\n",
      "\t0: 0.488\n",
      "\t1: 0.000\n",
      "\t2: 0.514\n",
      "\tCurrent Network Accuracy: 0.498\n",
      "1408/1408 [==============================] - 85s 60ms/step - loss: 4.7540 - accuracy: 0.8368 - val_loss: 1.9479 - val_accuracy: 0.4977\n",
      "END\n"
     ]
    }
   ],
   "source": [
    "import kragle.utils as kutils\n",
    "\n",
    "accuracy_callback = kutils.AccuracyCallback(valid)\n",
    "history = model.fit(train_set, train_labels, \n",
    "                    epochs=30, \n",
    "                    validation_data=valid, \n",
    "                    callbacks=[accuracy_callback],\n",
    "                    class_weight={0:20, 1:1, 2:20})\n",
    "print('END')"
   ]
  },
  {
   "cell_type": "markdown",
   "metadata": {},
   "source": [
    "### Plotting Accuracy"
   ]
  },
  {
   "cell_type": "code",
   "execution_count": 18,
   "metadata": {},
   "outputs": [
    {
     "name": "stdout",
     "output_type": "stream",
     "text": [
      "94/94 - 1s - loss: 1.8046 - accuracy: 0.5793 - 624ms/epoch - 7ms/step\n",
      "0.5792988538742065\n"
     ]
    },
    {
     "data": {
      "image/png": "[encoded data removed]",
      "text/plain": [
       "<Figure size 640x480 with 1 Axes>"
      ]
     },
     "metadata": {},
     "output_type": "display_data"
    }
   ],
   "source": [
    "ùimport matplotlib.pyplot as plt\n",
    "\n",
    "plt.plot(history.history['loss'], label='loss')\n",
    "plt.plot(history.history['accuracy'], label='accuracy')\n",
    "plt.plot(history.history['val_loss'], label = 'val_loss')\n",
    "plt.plot(history.history['val_accuracy'], label = 'val_accuracy')\n",
    "plt.xlabel('Epoch')\n",
    "plt.ylabel('Accuracy / Loss')\n",
    "plt.ylim([0, 4])\n",
    "plt.legend(loc='lower right')\n",
    "\n",
    "\n",
    "test_loss, test_acc = model.evaluate(test[0],  test[1], verbose=2)\n",
    "\n",
    "print(test_acc)"
   ]
  },
  {
   "cell_type": "markdown",
   "metadata": {},
   "source": [
    "### >>>>>>>>>>>>>>>>>> Dadaset Name <<<<<<<<<<<<<<<<<<"
   ]
  },
  {
   "cell_type": "code",
   "execution_count": 2,
   "metadata": {},
   "outputs": [],
   "source": [
    "ds_name = 'pips12hist10fut600'"
   ]
  },
  {
   "cell_type": "code",
   "execution_count": 8,
   "metadata": {},
   "outputs": [
    {
     "name": "stdout",
     "output_type": "stream",
     "text": [
      "\n",
      "-----------------------------------------------\n",
      "Validation\n",
      "-----------------------------------------------\n",
      "<<<<< SELL >>>>> (total 3967)\n",
      "124/124 [==============================] - 2s 13ms/step - loss: 2.0021 - accuracy: 0.5095\n",
      "test loss, test acc: [2.0021374225616455, 0.5094529986381531]\n",
      "<<<<< HOLD >>>>> (total 8)\n",
      "1/1 [==============================] - 0s 29ms/step - loss: 4.3955 - accuracy: 0.0000e+00\n",
      "test loss, test acc: [4.395530700683594, 0.0]\n",
      "<<<<< BUY >>>>> (total 4260)\n",
      "134/134 [==============================] - 2s 12ms/step - loss: 1.8856 - accuracy: 0.5115\n",
      "test loss, test acc: [1.8856420516967773, 0.5115023255348206]\n",
      "\n",
      "-----------------------------------------------\n",
      "Validation\n",
      "-----------------------------------------------\n",
      "<<<<< SELL >>>>> (total 8315)\n",
      "260/260 [==============================] - 3s 13ms/step - loss: 2.1799 - accuracy: 0.4882\n",
      "test loss, test acc: [2.1799230575561523, 0.48815393447875977]\n",
      "<<<<< HOLD >>>>> (total 106)\n",
      "4/4 [==============================] - 0s 12ms/step - loss: 6.1083 - accuracy: 0.0000e+00\n",
      "test loss, test acc: [6.108279705047607, 0.0]\n",
      "<<<<< BUY >>>>> (total 8080)\n",
      "253/253 [==============================] - 3s 13ms/step - loss: 1.6546 - accuracy: 0.5140\n",
      "test loss, test acc: [1.6545822620391846, 0.5139851570129395]\n"
     ]
    }
   ],
   "source": [
    "import numpy\n",
    "\n",
    "import kragle.kdb as kdb\n",
    "import pprint as pp\n",
    "\n",
    "\n",
    "db = kdb.KragleDB('Datasets')\n",
    "test_SELL = db.get_dataset_bytype(ds_name=ds_name, nclass=0, type='test')\n",
    "test_HOLD = db.get_dataset_bytype(ds_name=ds_name, nclass=1, type='test')\n",
    "test_BUY =  db.get_dataset_bytype(ds_name=ds_name, nclass=2, type='test')\n",
    "\n",
    "print('')\n",
    "print(\"-----------------------------------------------\")\n",
    "print('Validation')\n",
    "print(\"-----------------------------------------------\")\n",
    "\n",
    "print(\"<<<<< SELL >>>>> (total {})\".format(len(test_SELL[0])))\n",
    "results = model.evaluate(test_SELL[0],test_SELL[1])\n",
    "print(\"test loss, test acc:\", results)\n",
    "print(\"<<<<< HOLD >>>>> (total {})\".format(len(test_HOLD[0])))\n",
    "results = model.evaluate(test_HOLD[0],test_HOLD[1])\n",
    "print(\"test loss, test acc:\", results)\n",
    "print(\"<<<<< BUY >>>>> (total {})\".format(len(test_BUY[0])))\n",
    "results = model.evaluate(test_BUY[0],test_BUY[1])\n",
    "print(\"test loss, test acc:\", results)\n",
    "\n",
    "print('')\n",
    "print(\"-----------------------------------------------\")\n",
    "print('Validation')\n",
    "print(\"-----------------------------------------------\")\n",
    "\n",
    "\n",
    "test_SELL = db.get_dataset_bytype(ds_name=ds_name, nclass=0, type='valid')\n",
    "test_HOLD = db.get_dataset_bytype(ds_name=ds_name, nclass=1, type='valid')\n",
    "test_BUY =  db.get_dataset_bytype(ds_name=ds_name, nclass=2, type='valid')\n",
    "\n",
    "print(\"<<<<< SELL >>>>> (total {})\".format(len(test_SELL[0])))\n",
    "results = model.evaluate(test_SELL[0],test_SELL[1])\n",
    "print(\"test loss, test acc:\", results)\n",
    "print(\"<<<<< HOLD >>>>> (total {})\".format(len(test_HOLD[0])))\n",
    "results = model.evaluate(test_HOLD[0],test_HOLD[1])\n",
    "print(\"test loss, test acc:\", results)\n",
    "print(\"<<<<< BUY >>>>> (total {})\".format(len(test_BUY[0])))\n",
    "results = model.evaluate(test_BUY[0],test_BUY[1])\n",
    "print(\"test loss, test acc:\", results)"
   ]
  },
  {
   "cell_type": "markdown",
   "metadata": {},
   "source": [
    "### Save Model"
   ]
  },
  {
   "cell_type": "code",
   "execution_count": 17,
   "metadata": {},
   "outputs": [],
   "source": [
    "model.save('models/{}'.format(ds_name))"
   ]
  },
  {
   "cell_type": "markdown",
   "metadata": {},
   "source": [
    "### Load Model"
   ]
  },
  {
   "cell_type": "code",
   "execution_count": 7,
   "metadata": {},
   "outputs": [],
   "source": [
    "from tensorflow import keras\n",
    "model = keras.models.load_model('models/{}'.format(ds_name))"
   ]
  },
  {
   "cell_type": "markdown",
   "metadata": {},
   "source": [
    "### Load Dataset"
   ]
  },
  {
   "cell_type": "code",
   "execution_count": 3,
   "metadata": {},
   "outputs": [
    {
     "name": "stdout",
     "output_type": "stream",
     "text": [
      "45048\n",
      "array([0, 0, 2, ..., 0, 2, 2])\n"
     ]
    }
   ],
   "source": [
    "import numpy\n",
    "\n",
    "import kragle.kdb as kdb\n",
    "import pprint as pp\n",
    "db = kdb.KragleDB('Datasets')\n",
    "(train_set, train_labels), valid, test = db.get_dataset(ds_name=ds_name)\n",
    "print(len(train_labels))\n",
    "pp.pprint((train_labels))"
   ]
  },
  {
   "cell_type": "code",
   "execution_count": 5,
   "metadata": {},
   "outputs": [
    {
     "name": "stdout",
     "output_type": "stream",
     "text": [
      "[0 0 0 ... 0 0 0]\n",
      "[1 1 1 ... 1 1 1]\n",
      "[2 2 2 ... 2 2 2]\n"
     ]
    }
   ],
   "source": [
    "import numpy\n",
    "\n",
    "import kragle.kdb as kdb\n",
    "import pprint as pp\n",
    "db = kdb.KragleDB('Datasets')\n",
    "test_SELL = db.get_dataset_bytype(ds_name=ds_name, nclass=0)\n",
    "test_HOLD = db.get_dataset_bytype(ds_name=ds_name, nclass=1)\n",
    "test_BUY = db.get_dataset_bytype(ds_name=ds_name, nclass=2)\n",
    "print(test_SELL[1])\n",
    "print(test_HOLD[1])\n",
    "print(test_BUY[1])\n"
   ]
  },
  {
   "cell_type": "markdown",
   "metadata": {},
   "source": [
    "### % Percentage %"
   ]
  },
  {
   "cell_type": "code",
   "execution_count": 4,
   "metadata": {},
   "outputs": [
    {
     "name": "stdout",
     "output_type": "stream",
     "text": [
      "TRAIN ---> Sell: 47.38945125199787%   Hold: 7.307760610903926%   Buy: 45.302788137098204%\n",
      "TEST  --->Sell: 48.17243472981178%   Hold: 0.09714632665452339%   Buy: 51.73041894353369%\n",
      "VALID --->Sell: 50.3908854008848%   Hold: 0.6423853099812132%   Buy: 48.966729289133994%\n"
     ]
    }
   ],
   "source": [
    "import kragle.kdb as kdb\n",
    "import pprint as pp\n",
    "db = kdb.KragleDB()\n",
    "\n",
    "s, h, b = db.get_dataset_percentage(ds_name, type='train')\n",
    "print('TRAIN ---> Sell: {}%   Hold: {}%   Buy: {}%'.format(s*100, h*100, b*100))\n",
    "s, h, b = db.get_dataset_percentage(ds_name, type='test')\n",
    "print('TEST  --->Sell: {}%   Hold: {}%   Buy: {}%'.format(s*100, h*100, b*100))\n",
    "s, h, b = db.get_dataset_percentage(ds_name, type='valid')\n",
    "print('VALID --->Sell: {}%   Hold: {}%   Buy: {}%'.format(s*100, h*100, b*100))"
   ]
  },
  {
   "cell_type": "markdown",
   "metadata": {},
   "source": [
    "### Tensor from FXCM"
   ]
  },
  {
   "cell_type": "code",
   "execution_count": 36,
   "metadata": {},
   "outputs": [
    {
     "name": "stderr",
     "output_type": "stream",
     "text": [
      "WARNING:FXCM:Default account set to 1342146, to change use set_default_account().\n"
     ]
    },
    {
     "name": "stdout",
     "output_type": "stream",
     "text": [
      "Done\n"
     ]
    }
   ],
   "source": [
    "import kragle.kdb as kdb\n",
    "import pprint as pp\n",
    "\n",
    "db = kdb.KragleDB(db_name='TensorSave', instrument='EUR/USD', ds_name='Datasets')\n",
    "\n",
    "    \n",
    "t= db.fetch_data_tensor_fxcm( periods=['m1', 'm5', 'm30', 'H2', 'H8', 'D1'], history_len=10)\n",
    "print('Done')"
   ]
  },
  {
   "cell_type": "markdown",
   "metadata": {},
   "source": [
    "### Predict from live"
   ]
  },
  {
   "cell_type": "code",
   "execution_count": 62,
   "metadata": {},
   "outputs": [
    {
     "name": "stderr",
     "output_type": "stream",
     "text": [
      "WARNING:FXCM:Default account set to 1342146, to change use set_default_account().\n"
     ]
    },
    {
     "name": "stdout",
     "output_type": "stream",
     "text": [
      "('Done tensor: ([[[0.3500000000000725, 0.34], [-0.20000000000020002, 0.4], '\n",
      " '[-0.5499999999991623, 0.2875], [-0.3500000000000725, 0.3875], '\n",
      " '[0.04999999999921734, 0.4275], [0.5500000000002725, 0.51], [0.0, 0.3875], '\n",
      " '[-0.2999999999997449, 0.4375], [-0.4500000000007276, 0.23], '\n",
      " '[-0.4499999999996174, 0.515]], [[-0.3333333333332967, 0.4025], '\n",
      " '[-0.60000000000023, 0.4], [0.7000000000001451, 0.5135], '\n",
      " '[-1.1333333333333566, 0.472], [-0.8666666666664232, 0.515], '\n",
      " '[0.4666666666667633, 0.4265], [0.8333333333328715, 0.6145], '\n",
      " '[-1.19999999999972, 0.6355], [0.99999999999989, 0.606], [-1.299999999999635, '\n",
      " '0.6725]], [[-0.42666666666650127, 0.5783333333333334], [-1.7866666666668252, '\n",
      " '0.6565], [0.5466666666666953, 0.9561666666666667], [-0.09333333333335266, '\n",
      " '1.213], [-1.7999999999999496, 1.1630833333333332], [-1.1066666666668112, '\n",
      " '1.403], [-0.6799999999997178, 0.77225], [-1.7333333333334384, '\n",
      " '0.8343333333333334], [-0.2666666666666373, 0.7675833333333333], '\n",
      " '[0.11999999999989797, 0.5125]], [[-1.8399999999999157, 1.3654], '\n",
      " '[-0.5266666666667122, 0.76785], [-0.05333333333338667, 0.6801], '\n",
      " '[-0.8866666666667022, 0.939075], [-1.1133333333332256, 0.4926], '\n",
      " '[0.4333333333333596, 0.34015], [0.3533333333332796, 0.455], '\n",
      " '[-0.30000000000004096, 0.4903], [0.6866666666667243, 0.2596], '\n",
      " '[-1.6933333333333245, 0.39445]], [[-1.2900000000000134, 0.71990625], '\n",
      " '[0.5866666666666612, 0.3862625], [-2.019999999999985, 1.3223375], '\n",
      " '[-1.7933333333333874, 0.9007625], [-0.5066666666666553, 0.26209375], '\n",
      " '[-1.223333333333354, 1.1888], [-2.4866666666666, 0.9986], '\n",
      " '[1.0733333333333335, 0.4072125], [2.789999999999996, 1.51036875], '\n",
      " '[1.083333333333325, 0.63664375]], [[-2.8733333333333575, 0.994075], '\n",
      " '[-1.764444444444408, 1.0378475], [2.817777777777734, 0.9313625], '\n",
      " '[0.2822222222222454, 0.7513675], [-0.3866666666666833, 0.6669675], '\n",
      " '[-0.022222222222219777, 0.0004475], [-0.4911111111111212, 0.5041475], '\n",
      " '[-0.5977777777777465, 0.60569], [0.7466666666666734, 0.587285], '\n",
      " \"[0.2911111111110939, 0.5802475]]], Timestamp('2023-02-06 17:51:00'))\")\n",
      "1/1 [==============================] - 0s 28ms/step\n",
      "[[7.178334e-19 4.728162e-13 1.000000e+00]]\n"
     ]
    }
   ],
   "source": [
    "import kragle.kdb as kdb\n",
    "import pprint as pp\n",
    "import numpy\n",
    "\n",
    "db = kdb.KragleDB(db_name='TensorSave', instrument='EUR/USD', ds_name='Datasets')\n",
    "\n",
    "t= db.get_data_tensor_fxcm( periods=['m1', 'm5', 'm30', 'H2', 'H8'], history_len=10)\n",
    "pp.pprint('Done tensor: {}'.format(t))\n",
    "\n",
    "p = model.predict(numpy.expand_dims(t[0], axis=0))\n",
    "print(p)"
   ]
  },
  {
   "cell_type": "code",
   "execution_count": 52,
   "metadata": {},
   "outputs": [
    {
     "name": "stdout",
     "output_type": "stream",
     "text": [
      "([[[1.1499999999997623, 0.475],\n",
      "   [0.7500000000004725, 0.42],\n",
      "   [0.0, 0.415],\n",
      "   [0.5500000000002725, 0.425],\n",
      "   [0.0, 0.515],\n",
      "   [-0.10000000000065512, 0.3475],\n",
      "   [-0.14999999999987246, 0.4675],\n",
      "   [0.6499999999998174, 0.43],\n",
      "   [-0.20000000000020002, 0.41],\n",
      "   [0.05000000000032756, 0.2375]],\n",
      "  [[0.19999999999982995, 0.434],\n",
      "   [0.6333333333337817, 0.3455],\n",
      "   [-0.5000000000003151, 0.3945],\n",
      "   [0.09999999999991498, 0.447],\n",
      "   [0.5666666666666783, 0.4255],\n",
      "   [0.1666666666670184, 0.3265],\n",
      "   [1.0333333333327015, 0.734],\n",
      "   [0.8999999999999749, 0.7745],\n",
      "   [-0.09999999999991498, 0.415],\n",
      "   [0.5333333333338668, 0.429]],\n",
      "  [[0.8400000000001739, 0.44516666666666665],\n",
      "   [0.6266666666666273, 0.5261666666666667],\n",
      "   [-0.6266666666666273, 0.443],\n",
      "   [-0.49333333333360463, 0.5825833333333333],\n",
      "   [0.3733333333334106, 0.7151666666666666],\n",
      "   [-0.7333333333334006, 0.67825],\n",
      "   [-1.7200000000000177, 0.7730833333333333],\n",
      "   [1.3200000000000618, 0.8331666666666667],\n",
      "   [-0.640000000000048, 0.84575],\n",
      "   [-1.3866666666665732, 0.538]],\n",
      "  [[-0.05333333333338667, 0.6801],\n",
      "   [-0.8866666666667022, 0.939075],\n",
      "   [-1.1133333333332256, 0.4926],\n",
      "   [0.4333333333333596, 0.34015],\n",
      "   [0.3533333333332796, 0.455],\n",
      "   [-0.30000000000004096, 0.4903],\n",
      "   [0.6866666666667243, 0.2596],\n",
      "   [-1.6933333333333245, 0.39445],\n",
      "   [-1.340000000000045, 0.8214],\n",
      "   [-2.24666666666673, 1.226325]],\n",
      "  [[0.5866666666666612, 0.3862625],\n",
      "   [-2.019999999999985, 1.3223375],\n",
      "   [-1.7933333333333874, 0.9007625],\n",
      "   [-0.5066666666666553, 0.26209375],\n",
      "   [-1.223333333333354, 1.1888],\n",
      "   [-2.4866666666666, 0.9986],\n",
      "   [1.0733333333333335, 0.4072125],\n",
      "   [2.789999999999996, 1.51036875],\n",
      "   [1.083333333333325, 0.63664375],\n",
      "   [0.3533333333332796, 0.18139375]],\n",
      "  [[-2.8733333333333575, 0.994075],\n",
      "   [-1.764444444444408, 1.0378475],\n",
      "   [2.817777777777734, 0.9313625],\n",
      "   [0.2822222222222454, 0.7513675],\n",
      "   [-0.3866666666666833, 0.6669675],\n",
      "   [-0.022222222222219777, 0.0004475],\n",
      "   [-0.4911111111111212, 0.5041475],\n",
      "   [-0.5977777777777465, 0.60569],\n",
      "   [0.7466666666666734, 0.587285],\n",
      "   [0.2911111111110939, 0.5802475]]],\n",
      " Timestamp('2023-02-06 12:37:00'))\n"
     ]
    }
   ],
   "source": [
    "pp.pprint(t)"
   ]
  },
  {
   "cell_type": "code",
   "execution_count": 27,
   "metadata": {},
   "outputs": [
    {
     "name": "stdout",
     "output_type": "stream",
     "text": [
      "([[[-0.20000000000020002, 0.08],\n",
      "   [-0.24999999999941735, 0.1275],\n",
      "   [-0.2999999999997449, 0.4425],\n",
      "   [0.49999999999994493, 0.2525],\n",
      "   [-0.2999999999997449, 0.1675],\n",
      "   [0.0999999999995449, 0.075],\n",
      "   [0.05000000000032756, 0.08],\n",
      "   [0.0, 0.165],\n",
      "   [0.14999999999987246, 0.165],\n",
      "   [0.14999999999987246, 0.105]],\n",
      "  [[0.0, 0.1305],\n",
      "   [-0.5000000000003151, 0.1155],\n",
      "   [-0.4333333333332116, 0.103],\n",
      "   [0.06666666666636327, 0.0795],\n",
      "   [-0.9333333333327866, 0.1815],\n",
      "   [-0.3333333333332967, 0.235],\n",
      "   [-0.03333333333355171, 0.115],\n",
      "   [0.03333333333355171, 0.1555],\n",
      "   [0.09999999999991498, 0.185],\n",
      "   [0.4333333333332116, 0.1475]],\n",
      "  [[0.6933333333331385, 0.20233333333333334],\n",
      "   [-0.7333333333331046, 0.49416666666666664],\n",
      "   [-0.7733333333333666, 0.48633333333333334],\n",
      "   [-0.41333333333337663, 0.67975],\n",
      "   [-0.5466666666666953, 0.5496666666666666],\n",
      "   [-0.2666666666666373, 0.7064166666666667],\n",
      "   [-1.4666666666668011, 0.80225],\n",
      "   [-0.43999999999992195, 0.6475],\n",
      "   [0.41333333333337663, 0.77325],\n",
      "   [-2.386666666666611, 1.1914166666666666]],\n",
      "  [[-1.340000000000045, 0.8214],\n",
      "   [-2.24666666666673, 1.226325],\n",
      "   [1.2400000000001299, 2.847175],\n",
      "   [-5.960000000000114, 1.65165],\n",
      "   [-0.05333333333323864, 0.577525],\n",
      "   [2.0333333333333314, 0.82425],\n",
      "   [0.3933333333332456, 0.549625],\n",
      "   [-0.026666666666693335, 0.23435],\n",
      "   [0.006666666666710341, 0.293625],\n",
      "   [-0.7266666666666902, 0.419325]],\n",
      "  [[-1.7933333333333874, 0.9007625],\n",
      "   [-0.5066666666666553, 0.26209375],\n",
      "   [-1.223333333333354, 1.1888],\n",
      "   [-2.4866666666666, 0.9986],\n",
      "   [1.0733333333333335, 0.4072125],\n",
      "   [2.789999999999996, 1.51036875],\n",
      "   [1.083333333333325, 0.63664375],\n",
      "   [0.3533333333332796, 0.18139375],\n",
      "   [0.33000000000001545, 0.79414375],\n",
      "   [0.5433333333333401, 0.81379375]],\n",
      "  [[-1.764444444444408, 1.0378475],\n",
      "   [2.817777777777734, 0.9313625],\n",
      "   [0.2822222222222454, 0.7513675],\n",
      "   [-0.3866666666666833, 0.6669675],\n",
      "   [-0.022222222222219777, 0.0004475],\n",
      "   [-0.4911111111111212, 0.5041475],\n",
      "   [-0.5977777777777465, 0.60569],\n",
      "   [0.7466666666666734, 0.587285],\n",
      "   [0.2911111111110939, 0.5802475],\n",
      "   [0.053333333333337334, 0.620635]]],\n",
      " Timestamp('2023-02-03 21:59:00'))\n"
     ]
    }
   ],
   "source": [
    "pp.pprint(t)\n"
   ]
  },
  {
   "cell_type": "markdown",
   "metadata": {},
   "source": [
    "### Tensor from DB"
   ]
  },
  {
   "cell_type": "code",
   "execution_count": 71,
   "metadata": {},
   "outputs": [
    {
     "data": {
      "text/plain": [
       "[[[datetime.datetime(2023, 2, 10, 21, 57), 1.06762, 72],\n",
       "  [datetime.datetime(2023, 2, 10, 21, 56), 1.06762, 122],\n",
       "  [datetime.datetime(2023, 2, 10, 21, 55), 1.0678, 102],\n",
       "  [datetime.datetime(2023, 2, 10, 21, 54), 1.06787, 35],\n",
       "  [datetime.datetime(2023, 2, 10, 21, 53), 1.06781, 33],\n",
       "  [datetime.datetime(2023, 2, 10, 21, 52), 1.0678, 32],\n",
       "  [datetime.datetime(2023, 2, 10, 21, 51), 1.06777, 22],\n",
       "  [datetime.datetime(2023, 2, 10, 21, 50), 1.06771, 95],\n",
       "  [datetime.datetime(2023, 2, 10, 21, 49), 1.0677, 29],\n",
       "  [datetime.datetime(2023, 2, 10, 21, 48), 1.06761, 43],\n",
       "  [datetime.datetime(2023, 2, 10, 21, 47), 1.06761, 10]],\n",
       " [[datetime.datetime(2023, 2, 10, 21, 55), 1.0678, 296],\n",
       "  [datetime.datetime(2023, 2, 10, 21, 50), 1.06771, 217],\n",
       "  [datetime.datetime(2023, 2, 10, 21, 45), 1.06759, 206],\n",
       "  [datetime.datetime(2023, 2, 10, 21, 40), 1.06756, 112],\n",
       "  [datetime.datetime(2023, 2, 10, 21, 35), 1.06766, 99],\n",
       "  [datetime.datetime(2023, 2, 10, 21, 30), 1.06763, 113],\n",
       "  [datetime.datetime(2023, 2, 10, 21, 25), 1.06764, 186],\n",
       "  [datetime.datetime(2023, 2, 10, 21, 20), 1.06777, 215],\n",
       "  [datetime.datetime(2023, 2, 10, 21, 15), 1.06784, 198],\n",
       "  [datetime.datetime(2023, 2, 10, 21, 10), 1.0678, 232],\n",
       "  [datetime.datetime(2023, 2, 10, 21, 5), 1.06778, 280]],\n",
       " [[datetime.datetime(2023, 2, 10, 21, 30), 1.06763, 1043],\n",
       "  [datetime.datetime(2023, 2, 10, 21, 0), 1.06786, 1740],\n",
       "  [datetime.datetime(2023, 2, 10, 20, 30), 1.06782, 3283],\n",
       "  [datetime.datetime(2023, 2, 10, 20, 0), 1.0673, 3091],\n",
       "  [datetime.datetime(2023, 2, 10, 19, 30), 1.06741, 3649],\n",
       "  [datetime.datetime(2023, 2, 10, 19, 0), 1.0671, 4227],\n",
       "  [datetime.datetime(2023, 2, 10, 18, 30), 1.06736, 3076],\n",
       "  [datetime.datetime(2023, 2, 10, 18, 0), 1.06679, 4105],\n",
       "  [datetime.datetime(2023, 2, 10, 17, 30), 1.06709, 5769],\n",
       "  [datetime.datetime(2023, 2, 10, 17, 0), 1.06683, 6697],\n",
       "  [datetime.datetime(2023, 2, 10, 16, 30), 1.06752, 7514]],\n",
       " [[datetime.datetime(2023, 2, 10, 20, 0), 1.0673, 9158],\n",
       "  [datetime.datetime(2023, 2, 10, 18, 0), 1.06679, 15057],\n",
       "  [datetime.datetime(2023, 2, 10, 16, 0), 1.06766, 30236],\n",
       "  [datetime.datetime(2023, 2, 10, 14, 0), 1.06956, 61890],\n",
       "  [datetime.datetime(2023, 2, 10, 12, 0), 1.06982, 36197],\n",
       "  [datetime.datetime(2023, 2, 10, 10, 0), 1.07063, 30095],\n",
       "  [datetime.datetime(2023, 2, 10, 8, 0), 1.07409, 55825],\n",
       "  [datetime.datetime(2023, 2, 10, 6, 0), 1.07257, 33852],\n",
       "  [datetime.datetime(2023, 2, 10, 4, 0), 1.07204, 12969],\n",
       "  [datetime.datetime(2023, 2, 10, 2, 0), 1.07331, 12889],\n",
       "  [datetime.datetime(2023, 2, 10, 0, 0), 1.07389, 13974]],\n",
       " [[datetime.datetime(2023, 2, 10, 14, 0), 1.06956, 116340],\n",
       "  [datetime.datetime(2023, 2, 10, 6, 0), 1.07257, 155969],\n",
       "  [datetime.datetime(2023, 2, 9, 22, 0), 1.07324, 44338],\n",
       "  [datetime.datetime(2023, 2, 9, 14, 0), 1.07896, 127360],\n",
       "  [datetime.datetime(2023, 2, 9, 6, 0), 1.07353, 115078],\n",
       "  [datetime.datetime(2023, 2, 8, 22, 0), 1.07092, 43270],\n",
       "  [datetime.datetime(2023, 2, 8, 14, 0), 1.07312, 130797],\n",
       "  [datetime.datetime(2023, 2, 8, 6, 0), 1.0733, 104669],\n",
       "  [datetime.datetime(2023, 2, 7, 22, 0), 1.07221, 31868],\n",
       "  [datetime.datetime(2023, 2, 7, 14, 0), 1.06949, 225786],\n",
       "  [datetime.datetime(2023, 2, 7, 6, 0), 1.07399, 132643]],\n",
       " [[datetime.datetime(2023, 2, 9, 22, 0), 1.07324, 316647],\n",
       "  [datetime.datetime(2023, 2, 8, 22, 0), 1.07221, 267334],\n",
       "  [datetime.datetime(2023, 2, 7, 22, 0), 1.07261, 406035],\n",
       "  [datetime.datetime(2023, 2, 6, 22, 0), 1.07788, 293847],\n",
       "  [datetime.datetime(2023, 2, 3, 22, 0), 1.09081, 397630],\n",
       "  [datetime.datetime(2023, 2, 2, 22, 0), 1.09875, 415139],\n",
       "  [datetime.datetime(2023, 2, 1, 22, 0), 1.08607, 372545],\n",
       "  [datetime.datetime(2023, 1, 31, 22, 0), 1.0848, 300547],\n",
       "  [datetime.datetime(2023, 1, 30, 22, 0), 1.08654, 266787],\n",
       "  [datetime.datetime(2023, 1, 29, 22, 0), 1.08664, 179],\n",
       "  [datetime.datetime(2023, 1, 27, 22, 0), 1.08885, 201659]]]"
      ]
     },
     "execution_count": 71,
     "metadata": {},
     "output_type": "execute_result"
    }
   ],
   "source": [
    "import kragle.kdb as kdb\n",
    "import pprint as pp\n",
    "import datetime as dt\n",
    "\n",
    "end = dt.datetime(2023, 2, 10, 21, 57)\n",
    "db = kdb.KragleDB('FX_RAW')\n",
    "\n",
    "db.get_data_tensor( periods=['m1', 'm5', 'm30', 'H2', 'H8', 'D1'],to_date=end, history_len=10, normalized=False)"
   ]
  }
 ],
 "metadata": {
  "colab": {
   "name": "forex history.ipynb",
   "provenance": []
  },
  "kernelspec": {
   "display_name": "Python 3 (ipykernel)",
   "language": "python",
   "name": "python3"
  },
  "language_info": {
   "codemirror_mode": {
    "name": "ipython",
    "version": 3
   },
   "file_extension": ".py",
   "mimetype": "text/x-python",
   "name": "python",
   "nbconvert_exporter": "python",
   "pygments_lexer": "ipython3",
   "version": "3.9.1"
  }
 },
 "nbformat": 4,
 "nbformat_minor": 1
}
