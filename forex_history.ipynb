{
 "cells": [
  {
   "cell_type": "code",
   "execution_count": 2,
   "metadata": {
    "scrolled": false
   },
   "outputs": [
    {
     "name": "stderr",
     "output_type": "stream",
     "text": [
      "|WARNING|2023-02-11 11:09:41,252|Default account set to 1342146, to change use set_default_account().\n"
     ]
    },
    {
     "name": "stdout",
     "output_type": "stream",
     "text": [
      "[{'askclose': 1.068,\n",
      "  'askhigh': 1.06844,\n",
      "  'asklow': 1.06757,\n",
      "  'askopen': 1.06793,\n",
      "  'bidclose': 1.06761,\n",
      "  'bidhigh': 1.06798,\n",
      "  'bidlow': 1.06744,\n",
      "  'bidopen': 1.06786,\n",
      "  'date': Timestamp('2023-02-10 21:00:00'),\n",
      "  'tickqty': 2782},\n",
      " {'askclose': 1.06792,\n",
      "  'askhigh': 1.06814,\n",
      "  'asklow': 1.06735,\n",
      "  'askopen': 1.06737,\n",
      "  'bidclose': 1.06786,\n",
      "  'bidhigh': 1.06805,\n",
      "  'bidlow': 1.06729,\n",
      "  'bidopen': 1.0673,\n",
      "  'date': Timestamp('2023-02-10 20:00:00'),\n",
      "  'tickqty': 6375},\n",
      " {'askclose': 1.06738,\n",
      "  'askhigh': 1.06757,\n",
      "  'asklow': 1.06684,\n",
      "  'askopen': 1.06717,\n",
      "  'bidclose': 1.0673,\n",
      "  'bidhigh': 1.06749,\n",
      "  'bidlow': 1.06678,\n",
      "  'bidopen': 1.0671,\n",
      "  'date': Timestamp('2023-02-10 19:00:00'),\n",
      "  'tickqty': 7876}]\n"
     ]
    }
   ],
   "source": [
    "import fxcmpy\n",
    "import pprint as pp\n",
    "con = fxcmpy.fxcmpy(config_file='fxcm.cfg')\n",
    "pp.pprint(con.get_candles('EUR/USD', period='H1', number=3, with_index=False).to_dict('records')[::-1])\n",
    "\n",
    "\n",
    "con.close()\n"
   ]
  },
  {
   "cell_type": "code",
   "execution_count": 1,
   "metadata": {},
   "outputs": [
    {
     "name": "stdout",
     "output_type": "stream",
     "text": [
      "1.3.3\n"
     ]
    }
   ],
   "source": [
    "import fxcmpy\n",
    "print(fxcmpy.__version__)"
   ]
  },
  {
   "cell_type": "markdown",
   "metadata": {},
   "source": [
    "### get_normalized_periods_fcxm"
   ]
  },
  {
   "cell_type": "code",
   "execution_count": 2,
   "metadata": {},
   "outputs": [
    {
     "name": "stderr",
     "output_type": "stream",
     "text": [
      "|WARNING|2023-02-02 16:55:58,010|Default account set to 1342146, to change use set_default_account().\n"
     ]
    },
    {
     "name": "stdout",
     "output_type": "stream",
     "text": [
      "[[[0.40000000000040004, 1.1875],\n",
      "  [-0.6499999999998174, 1.385],\n",
      "  [-0.40000000000040004, 1.4225],\n",
      "  [0.8500000000000174, 1.4175],\n",
      "  [-1.40000000000029, 1.6825],\n",
      "  [-0.5999999999994898, 1.2925],\n",
      "  [0.4499999999996174, 1.7525],\n",
      "  [-3.4999999999996145, 1.595],\n",
      "  [-0.0999999999995449, 1.2375],\n",
      "  [-1.300000000000745, 1.4475]],\n",
      " [[5.066666666666553, 1.841],\n",
      "  [-1.4333333333331015, 1.8965],\n",
      "  [-7.299999999999715, 1.5445],\n",
      "  [0.7333333333329566, 1.239],\n",
      "  [2.2333333333331615, 1.725],\n",
      "  [-4.833333333333171, 1.195],\n",
      "  [-0.4333333333332116, 1.074],\n",
      "  [-1.1666666666669083, 1.2695],\n",
      "  [-0.80000000000006, 1.512],\n",
      "  [-3.3666666666665184, 0.1765]],\n",
      " [[0.14666666666644326, 0.5018333333333334],\n",
      "  [-1.706666666666597, 0.52375],\n",
      "  [-0.4533333333333426, 1.339],\n",
      "  [0.05333333333338667, 1.2264166666666667],\n",
      "  [1.9733333333332344, 1.8110833333333334],\n",
      "  [1.4800000000002218, 2.004],\n",
      "  [3.6666666666664107, 2.2816666666666667],\n",
      "  [-0.5466666666663992, 2.2005],\n",
      "  [5.879999999999737, 1.8726666666666667],\n",
      "  [0.13333333333331865, 1.1586666666666667]],\n",
      " [[-4.646666666666614, 1.280325],\n",
      "  [-0.6733333333333036, 0.359875],\n",
      "  [-1.6466666666667962, 0.589475],\n",
      "  [-0.05999999999994898, 0.38195],\n",
      "  [-0.27333333333334764, 0.29755],\n",
      "  [-0.1666666666665743, 0.5684],\n",
      "  [1.7733333333332564, 0.855725],\n",
      "  [-0.35999999999998994, 0.656125],\n",
      "  [-0.026666666666693335, 1.91415],\n",
      "  [3.586666666666627, 2.25405]],\n",
      " [[-0.5766666666666698, 0.6830125],\n",
      "  [1.26333333333332, 0.27048125],\n",
      "  [0.4499999999999874, 0.81379375],\n",
      "  [-0.5433333333333401, 0.79414375],\n",
      "  [-0.33000000000001545, 0.18139375],\n",
      "  [-0.3533333333332796, 0.63664375],\n",
      "  [-1.083333333333325, 1.51036875],\n",
      "  [-2.789999999999996, 0.4072125],\n",
      "  [-1.0733333333333335, 0.9986],\n",
      "  [2.4866666666666, 0.5635125]],\n",
      " [[-0.19333333333331698, 0.620635],\n",
      "  [-0.053333333333337334, 0.5802475],\n",
      "  [-0.2911111111110939, 0.587285],\n",
      "  [-0.7466666666666734, 0.60569],\n",
      "  [0.5977777777777465, 0.5041475],\n",
      "  [0.4911111111111212, 0.0004475],\n",
      "  [0.022222222222219777, 0.6669675],\n",
      "  [0.3866666666666833, 0.7513675],\n",
      "  [-0.2822222222222454, 0.9313625],\n",
      "  [-2.817777777777734, 0.78773]]]\n"
     ]
    }
   ],
   "source": [
    "import kragle.kdb as kdb\n",
    "import datetime as dt\n",
    "import pprint as pp\n",
    "\n",
    "date_start = dt.datetime(2021, 1, 1)\n",
    "date_end = dt.datetime(2021, 5, 31,)\n",
    "\n",
    "db = kdb.KragleDB('FX_2020_2021')\n",
    "v = db.get_normalized_periods_fcxm( periods=['m1', 'm5', 'm30', 'H2', 'H8', 'D1'], history_len=10)\n",
    "pp.pprint(v)"
   ]
  },
  {
   "cell_type": "markdown",
   "metadata": {},
   "source": [
    "### get_candles"
   ]
  },
  {
   "cell_type": "code",
   "execution_count": 3,
   "metadata": {},
   "outputs": [
    {
     "name": "stdout",
     "output_type": "stream",
     "text": [
      "[{'askclose': 1.10961,\n",
      "  'askhigh': 1.10964,\n",
      "  'asklow': 1.1095,\n",
      "  'askopen': 1.1095,\n",
      "  'bidclose': 1.10955,\n",
      "  'bidhigh': 1.10958,\n",
      "  'bidlow': 1.10944,\n",
      "  'bidopen': 1.10945,\n",
      "  'date': datetime.datetime(2020, 1, 22, 23, 55),\n",
      "  'tickqty': 283},\n",
      " {'_id': ObjectId('63cb33c63a25a7383d77475d'),\n",
      "  'askclose': 1.1095,\n",
      "  'askhigh': 1.10958,\n",
      "  'asklow': 1.10947,\n",
      "  'askopen': 1.10948,\n",
      "  'bidclose': 1.10945,\n",
      "  'bidhigh': 1.10952,\n",
      "  'bidlow': 1.10939,\n",
      "  'bidopen': 1.10942,\n",
      "  'date': datetime.datetime(2020, 1, 22, 23, 50),\n",
      "  'tickqty': 164}]\n"
     ]
    }
   ],
   "source": [
    "import kragle.kdb as kdb\n",
    "import datetime as dt\n",
    "import pprint as pp\n",
    "\n",
    "date_start = dt.datetime(2020, 1, 22, 23, 50)\n",
    "date_end = dt.datetime(2020, 1, 22, 23, 59)\n",
    "\n",
    "db = kdb.KragleDB('FX_2020_GEN_22')\n",
    "v = db.get_candles('EUR/USD', 'm5', date_end, 2)\n",
    "pp.pprint(v)"
   ]
  },
  {
   "cell_type": "markdown",
   "metadata": {},
   "source": [
    "### calc_mean_stddev"
   ]
  },
  {
   "cell_type": "code",
   "execution_count": 2,
   "metadata": {},
   "outputs": [
    {
     "name": "stdout",
     "output_type": "stream",
     "text": [
      "{'bidopen-mean': 0.00011594279860246181,\n",
      " 'bidopen-stddev': 0.8242580674716756,\n",
      " 'tickqty-mean': 0.40272353284787743,\n",
      " 'tickqty-stddev': 0.3762696817328249}\n"
     ]
    }
   ],
   "source": [
    "import kragle.kdb as kdb\n",
    "import datetime as dt\n",
    "import pprint as pp\n",
    "\n",
    "date_start = dt.datetime(2021, 1, 1)\n",
    "date_end = dt.datetime(2021, 5, 31,)\n",
    "\n",
    "db = kdb.KragleDB('FX_2020_2021')\n",
    "v = db.calc_mean_stddev('EUR/USD', 'm1', date_start, date_end)\n",
    "pp.pprint(v)"
   ]
  },
  {
   "cell_type": "markdown",
   "metadata": {},
   "source": [
    "### get_sample"
   ]
  },
  {
   "cell_type": "code",
   "execution_count": 1,
   "metadata": {},
   "outputs": [
    {
     "name": "stdout",
     "output_type": "stream",
     "text": [
      "{'date': datetime.datetime(2021, 1, 5, 14, 57),\n",
      " 'x': [[[1.4999999999998348, 1.1525],\n",
      "        [-1.9999999999997797, 1.1425],\n",
      "        [-0.5999999999994898, 0.765],\n",
      "        [-2.100000000000435, 1.115],\n",
      "        [-0.2999999999997449, 0.92]],\n",
      "       [[-0.8666666666664232, 1.0075],\n",
      "        [-1.1333333333333566, 1.352],\n",
      "        [-0.3000000000004851, 1.7275],\n",
      "        [-0.23333333333338166, 1.8015],\n",
      "        [-0.4666666666660232, 1.331]],\n",
      "       [[1.4666666666665051, 0.6108333333333333],\n",
      "        [-0.8133333333333326, 0.873],\n",
      "        [-0.5199999999998539, 0.6958333333333333],\n",
      "        [0.10666666666647728, 0.7219166666666667],\n",
      "        [-1.5333333333333126, 0.6241666666666666]],\n",
      "       [[-1.3800000000000108, 0.874475],\n",
      "        [0.7199999999999799, 0.60045],\n",
      "        [0.9333333333333785, 0.865125],\n",
      "        [-0.9266666666666682, 0.54995],\n",
      "        [-0.04666666666667633, 0.35945]],\n",
      "       [[-0.3266666666666603, 0.7225],\n",
      "        [0.963333333333353, 0.3125875],\n",
      "        [-1.8566666666666916, 0.84705625],\n",
      "        [1.4600000000000168, 0.77996875],\n",
      "        [0.5399999999999849, 0.4076375]],\n",
      "       [[0.6133333333333053, 0.0009175],\n",
      "        [-1.7111111111111201, 0.4998325],\n",
      "        [1.0288888888889187, 0.5658225],\n",
      "        [0.7266666666666409, 0.5132],\n",
      "        [0.7622222222222321, 0.53083]]],\n",
      " 'y': 1}\n"
     ]
    }
   ],
   "source": [
    "import kragle.kdb as kdb\n",
    "import datetime as dt\n",
    "import pprint as pp\n",
    "\n",
    "date_end = dt.datetime(2021, 1, 5, 14, 57)\n",
    "\n",
    "db = kdb.KragleDB('FX_2020_2021')\n",
    "v = db.get_sample(to_date = date_end, n= 5)\n",
    "pp.pprint(v)"
   ]
  },
  {
   "cell_type": "markdown",
   "metadata": {},
   "source": [
    "### duplicate_db"
   ]
  },
  {
   "cell_type": "code",
   "execution_count": 3,
   "metadata": {},
   "outputs": [
    {
     "data": {
      "text/plain": [
       "['D1', 'H2', 'm1', 'm30', 'm5', 'H8']"
      ]
     },
     "execution_count": 3,
     "metadata": {},
     "output_type": "execute_result"
    }
   ],
   "source": [
    "import kragle.kdb as kdb\n",
    "import datetime as dt\n",
    "import kragle.utils as kutils\n",
    "\n",
    "date_start = dt.datetime(2019, 1, 1)\n",
    "date_end = dt.datetime(2021, 12, 31)\n",
    "\n",
    "dbname = 'FX_2019_2022'\n",
    "db = kdb.KragleDB('FX_RAW')\n",
    "olddb = kdb.KragleDB(dbname)\n",
    "olddb.drop_db()\n",
    "newdb = db.duplicate_db(dbname, from_date=date_start, to_date=date_end, fields=kutils.FIELDS)\n",
    "newdb.get_periods()"
   ]
  },
  {
   "cell_type": "markdown",
   "metadata": {},
   "source": [
    "## Create Dataset"
   ]
  },
  {
   "cell_type": "code",
   "execution_count": 110,
   "metadata": {},
   "outputs": [
    {
     "name": "stdout",
     "output_type": "stream",
     "text": [
      "pips15\n",
      "Unexpected exception formatting exception. Falling back to standard exception\n"
     ]
    },
    {
     "name": "stderr",
     "output_type": "stream",
     "text": [
      "Traceback (most recent call last):\n",
      "  File \"c:\\users\\tazzo\\.virtualenvs\\kragle-zgkb3__s\\lib\\site-packages\\IPython\\core\\interactiveshell.py\", line 3442, in run_code\n",
      "    exec(code_obj, self.user_global_ns, self.user_ns)\n",
      "  File \"C:\\Users\\Tazzo\\AppData\\Local\\Temp\\ipykernel_2908\\2771802724.py\", line 16, in <module>\n",
      "    db.create_dataset( 10, from_date, to_date,\n",
      "  File \"C:\\Users\\Tazzo\\Projects\\kragle\\kragle\\kdb.py\", line 172, in create_dataset\n",
      "    sample = self.get_sample(periods, rnd_date, history_len, pips, limit_future)\n",
      "  File \"C:\\Users\\Tazzo\\Projects\\kragle\\kragle\\kdb.py\", line 346, in get_sample\n",
      "    res = {\n",
      "  File \"C:\\Users\\Tazzo\\Projects\\kragle\\kragle\\kdb.py\", line 298, in get_data_tensor\n",
      "    res.append(self.get_data_period(period, to_date, history_len, normalized=normalized))\n",
      "  File \"C:\\Users\\Tazzo\\Projects\\kragle\\kragle\\kdb.py\", line 284, in get_data_period\n",
      "    for v in self.get_candles(period, to_date, history_len + 1):\n",
      "  File \"C:\\Users\\Tazzo\\Projects\\kragle\\kragle\\kdb.py\", line 276, in get_candles\n",
      "    last_candle = self.aggregate_candle(values[0]['date'], to_date)\n",
      "  File \"C:\\Users\\Tazzo\\Projects\\kragle\\kragle\\kdb.py\", line 370, in aggregate_candle\n",
      "  File \"c:\\users\\tazzo\\.virtualenvs\\kragle-zgkb3__s\\lib\\site-packages\\pymongo\\collection.py\", line 2436, in aggregate\n",
      "    return self._aggregate(\n",
      "  File \"c:\\users\\tazzo\\.virtualenvs\\kragle-zgkb3__s\\lib\\site-packages\\pymongo\\_csot.py\", line 105, in csot_wrapper\n",
      "    return func(self, *args, **kwargs)\n",
      "  File \"c:\\users\\tazzo\\.virtualenvs\\kragle-zgkb3__s\\lib\\site-packages\\pymongo\\collection.py\", line 2343, in _aggregate\n",
      "    return self.__database.client._retryable_read(\n",
      "  File \"c:\\users\\tazzo\\.virtualenvs\\kragle-zgkb3__s\\lib\\site-packages\\pymongo\\_csot.py\", line 105, in csot_wrapper\n",
      "    return func(self, *args, **kwargs)\n",
      "  File \"c:\\users\\tazzo\\.virtualenvs\\kragle-zgkb3__s\\lib\\site-packages\\pymongo\\mongo_client.py\", line 1448, in _retryable_read\n",
      "    return func(session, server, sock_info, read_pref)\n",
      "  File \"c:\\users\\tazzo\\.virtualenvs\\kragle-zgkb3__s\\lib\\site-packages\\pymongo\\aggregation.py\", line 142, in get_cursor\n",
      "    result = sock_info.command(\n",
      "  File \"c:\\users\\tazzo\\.virtualenvs\\kragle-zgkb3__s\\lib\\site-packages\\pymongo\\pool.py\", line 795, in command\n",
      "    self._raise_connection_failure(error)\n",
      "  File \"c:\\users\\tazzo\\.virtualenvs\\kragle-zgkb3__s\\lib\\site-packages\\pymongo\\pool.py\", line 767, in command\n",
      "    return command(\n",
      "  File \"c:\\users\\tazzo\\.virtualenvs\\kragle-zgkb3__s\\lib\\site-packages\\pymongo\\network.py\", line 150, in command\n",
      "    sock_info.sock.sendall(msg)\n",
      "KeyboardInterrupt\n",
      "\n",
      "During handling of the above exception, another exception occurred:\n",
      "\n",
      "Traceback (most recent call last):\n",
      "  File \"c:\\users\\tazzo\\.virtualenvs\\kragle-zgkb3__s\\lib\\site-packages\\IPython\\core\\interactiveshell.py\", line 2057, in showtraceback\n",
      "    stb = self.InteractiveTB.structured_traceback(\n",
      "  File \"c:\\users\\tazzo\\.virtualenvs\\kragle-zgkb3__s\\lib\\site-packages\\IPython\\core\\ultratb.py\", line 1118, in structured_traceback\n",
      "    return FormattedTB.structured_traceback(\n",
      "  File \"c:\\users\\tazzo\\.virtualenvs\\kragle-zgkb3__s\\lib\\site-packages\\IPython\\core\\ultratb.py\", line 1012, in structured_traceback\n",
      "    return VerboseTB.structured_traceback(\n",
      "  File \"c:\\users\\tazzo\\.virtualenvs\\kragle-zgkb3__s\\lib\\site-packages\\IPython\\core\\ultratb.py\", line 865, in structured_traceback\n",
      "    formatted_exception = self.format_exception_as_a_whole(etype, evalue, etb, number_of_lines_of_context,\n",
      "  File \"c:\\users\\tazzo\\.virtualenvs\\kragle-zgkb3__s\\lib\\site-packages\\IPython\\core\\ultratb.py\", line 818, in format_exception_as_a_whole\n",
      "    frames.append(self.format_record(r))\n",
      "  File \"c:\\users\\tazzo\\.virtualenvs\\kragle-zgkb3__s\\lib\\site-packages\\IPython\\core\\ultratb.py\", line 736, in format_record\n",
      "    result += ''.join(_format_traceback_lines(frame_info.lines, Colors, self.has_colors, lvals))\n",
      "  File \"c:\\users\\tazzo\\.virtualenvs\\kragle-zgkb3__s\\lib\\site-packages\\stack_data\\utils.py\", line 144, in cached_property_wrapper\n",
      "    value = obj.__dict__[self.func.__name__] = self.func(obj)\n",
      "  File \"c:\\users\\tazzo\\.virtualenvs\\kragle-zgkb3__s\\lib\\site-packages\\stack_data\\core.py\", line 734, in lines\n",
      "    pieces = self.included_pieces\n",
      "  File \"c:\\users\\tazzo\\.virtualenvs\\kragle-zgkb3__s\\lib\\site-packages\\stack_data\\utils.py\", line 144, in cached_property_wrapper\n",
      "    value = obj.__dict__[self.func.__name__] = self.func(obj)\n",
      "  File \"c:\\users\\tazzo\\.virtualenvs\\kragle-zgkb3__s\\lib\\site-packages\\stack_data\\core.py\", line 681, in included_pieces\n",
      "    pos = scope_pieces.index(self.executing_piece)\n",
      "  File \"c:\\users\\tazzo\\.virtualenvs\\kragle-zgkb3__s\\lib\\site-packages\\stack_data\\utils.py\", line 144, in cached_property_wrapper\n",
      "    value = obj.__dict__[self.func.__name__] = self.func(obj)\n",
      "  File \"c:\\users\\tazzo\\.virtualenvs\\kragle-zgkb3__s\\lib\\site-packages\\stack_data\\core.py\", line 660, in executing_piece\n",
      "    return only(\n",
      "  File \"c:\\users\\tazzo\\.virtualenvs\\kragle-zgkb3__s\\lib\\site-packages\\executing\\executing.py\", line 190, in only\n",
      "    raise NotOneValueFound('Expected one value, found 0')\n",
      "executing.executing.NotOneValueFound: Expected one value, found 0\n"
     ]
    }
   ],
   "source": [
    "import kragle.kdb as kdb\n",
    "import datetime as dt\n",
    "import pprint as pp\n",
    "\n",
    "from_date = dt.datetime(2021, 2, 1)\n",
    "to_date = dt.datetime(2022, 12, 1)\n",
    "periods=['m1', 'm5', 'm30', 'H2', 'H8']\n",
    "db = kdb.KragleDB('FX_2019_2022')\n",
    "#print('pips10')\n",
    "#db.create_dataset( 10000, from_date, to_date, \n",
    "#                  periods=periods, history_len=10, pips=10, limit_future=600, distribution=[0.7, 0.2, 0.1])\n",
    "#print('pips12')\n",
    "#db.create_dataset( 10000, from_date, to_date, \n",
    "#                  periods=periods, history_len=10, pips=12, limit_future=600, distribution=[0.7, 0.2, 0.1])\n",
    "print('pips15')\n",
    "db.create_dataset( 100, from_date, to_date, \n",
    "                  periods=periods, history_len=12, pips=15, limit_future=800, distribution=[0.1, 0, 0.9])\n",
    "#print('pips20')\n",
    "#db.create_dataset( 1000, from_date, to_date, \n",
    "#                  periods=periods, history_len=10, pips=20, limit_future=1000, distribution=[0.1, 0.1, 1])\n",
    "print('END')\n"
   ]
  },
  {
   "cell_type": "markdown",
   "metadata": {},
   "source": [
    "### Raw Data from FXCM"
   ]
  },
  {
   "cell_type": "code",
   "execution_count": 76,
   "metadata": {
    "scrolled": true
   },
   "outputs": [
    {
     "name": "stdout",
     "output_type": "stream",
     "text": [
      "ERROR | Socket returns unknown error.\n"
     ]
    },
    {
     "ename": "ServerError",
     "evalue": "Can not connect to FXCM Server.",
     "output_type": "error",
     "traceback": [
      "\u001b[1;31m---------------------------------------------------------------------------\u001b[0m",
      "\u001b[1;31mServerError\u001b[0m                               Traceback (most recent call last)",
      "Cell \u001b[1;32mIn[76], line 11\u001b[0m\n\u001b[0;32m      7\u001b[0m start \u001b[38;5;241m=\u001b[39m dt\u001b[38;5;241m.\u001b[39mdatetime(\u001b[38;5;241m2023\u001b[39m, \u001b[38;5;241m2\u001b[39m, \u001b[38;5;241m1\u001b[39m)\n\u001b[0;32m      8\u001b[0m end \u001b[38;5;241m=\u001b[39m dt\u001b[38;5;241m.\u001b[39mdatetime(\u001b[38;5;241m2023\u001b[39m, \u001b[38;5;241m2\u001b[39m, \u001b[38;5;241m11\u001b[39m)\n\u001b[1;32m---> 11\u001b[0m m \u001b[38;5;241m=\u001b[39m \u001b[43mfxutils\u001b[49m\u001b[38;5;241;43m.\u001b[39;49m\u001b[43mFxcmManager\u001b[49m\u001b[43m(\u001b[49m\u001b[43mdbname\u001b[49m\u001b[38;5;241;43m=\u001b[39;49m\u001b[38;5;124;43m'\u001b[39;49m\u001b[38;5;124;43mFX_RAW\u001b[39;49m\u001b[38;5;124;43m'\u001b[39;49m\u001b[43m)\u001b[49m\n\u001b[0;32m     12\u001b[0m m\u001b[38;5;241m.\u001b[39mfetch_instrument(start, end)\n\u001b[0;32m     13\u001b[0m m\u001b[38;5;241m.\u001b[39mclose()\n",
      "File \u001b[1;32m~\\Projects\\kragle\\kragle\\fxcm_utils.py:17\u001b[0m, in \u001b[0;36mFxcmManager.__init__\u001b[1;34m(self, config_file, dbname)\u001b[0m\n\u001b[0;32m     15\u001b[0m logger\u001b[38;5;241m.\u001b[39minfo(\u001b[38;5;124m'\u001b[39m\u001b[38;5;124mDone\u001b[39m\u001b[38;5;124m'\u001b[39m)\n\u001b[0;32m     16\u001b[0m logger\u001b[38;5;241m.\u001b[39minfo(\u001b[38;5;124m'\u001b[39m\u001b[38;5;124mInit fxcmpy ...\u001b[39m\u001b[38;5;124m'\u001b[39m)\n\u001b[1;32m---> 17\u001b[0m \u001b[38;5;28mself\u001b[39m\u001b[38;5;241m.\u001b[39mfxcon \u001b[38;5;241m=\u001b[39m \u001b[43mfxcmpy\u001b[49m\u001b[38;5;241;43m.\u001b[39;49m\u001b[43mfxcmpy\u001b[49m\u001b[43m(\u001b[49m\u001b[43mconfig_file\u001b[49m\u001b[38;5;241;43m=\u001b[39;49m\u001b[43mconfig_file\u001b[49m\u001b[43m)\u001b[49m\n\u001b[0;32m     18\u001b[0m logger\u001b[38;5;241m.\u001b[39minfo(\u001b[38;5;124m'\u001b[39m\u001b[38;5;124mDone\u001b[39m\u001b[38;5;124m'\u001b[39m)\n",
      "File \u001b[1;32mc:\\users\\tazzo\\.virtualenvs\\kragle-zgkb3__s\\lib\\site-packages\\fxcmpy\\fxcmpy.py:220\u001b[0m, in \u001b[0;36mfxcmpy.__init__\u001b[1;34m(self, access_token, config_file, log_file, log_level, server, proxy_url, proxy_port, proxy_type)\u001b[0m\n\u001b[0;32m    218\u001b[0m \u001b[38;5;28;01melif\u001b[39;00m \u001b[38;5;28mself\u001b[39m\u001b[38;5;241m.\u001b[39mconnection_status \u001b[38;5;241m==\u001b[39m \u001b[38;5;124m'\u001b[39m\u001b[38;5;124maborted\u001b[39m\u001b[38;5;124m'\u001b[39m:\n\u001b[0;32m    219\u001b[0m     \u001b[38;5;28mself\u001b[39m\u001b[38;5;241m.\u001b[39mclose()\n\u001b[1;32m--> 220\u001b[0m     \u001b[38;5;28;01mraise\u001b[39;00m ServerError(\u001b[38;5;124m'\u001b[39m\u001b[38;5;124mCan not connect to FXCM Server.\u001b[39m\u001b[38;5;124m'\u001b[39m)\n\u001b[0;32m    222\u001b[0m \u001b[38;5;28mself\u001b[39m\u001b[38;5;241m.\u001b[39m__collect_account_ids__()\n\u001b[0;32m    223\u001b[0m \u001b[38;5;28mself\u001b[39m\u001b[38;5;241m.\u001b[39mdefault_account \u001b[38;5;241m=\u001b[39m \u001b[38;5;28mself\u001b[39m\u001b[38;5;241m.\u001b[39maccount_ids[\u001b[38;5;241m0\u001b[39m]\n",
      "\u001b[1;31mServerError\u001b[0m: Can not connect to FXCM Server."
     ]
    }
   ],
   "source": [
    "import kragle.fxcm_utils as fxutils\n",
    "import datetime as dt\n",
    "import logging.config\n",
    "\n",
    "logging.config.fileConfig('log.cfg')\n",
    "\n",
    "start = dt.datetime(2023, 2, 1)\n",
    "end = dt.datetime(2023, 2, 11)\n",
    "\n",
    "\n",
    "m = fxutils.FxcmManager(dbname='FX_RAW')\n",
    "m.fetch_instrument(start, end)\n",
    "m.close()\n",
    "\n",
    "print('END')\n"
   ]
  },
  {
   "cell_type": "markdown",
   "metadata": {},
   "source": [
    "### Tensorflow"
   ]
  },
  {
   "cell_type": "code",
   "execution_count": 97,
   "metadata": {},
   "outputs": [
    {
     "name": "stdout",
     "output_type": "stream",
     "text": [
      "Model: \"sequential_2\"\n",
      "_________________________________________________________________\n",
      " Layer (type)                Output Shape              Param #   \n",
      "=================================================================\n",
      " conv2d_10 (Conv2D)          (None, 5, 12, 32)         224       \n",
      "                                                                 \n",
      " conv2d_11 (Conv2D)          (None, 5, 12, 32)         9248      \n",
      "                                                                 \n",
      " conv2d_12 (Conv2D)          (None, 5, 12, 64)         18496     \n",
      "                                                                 \n",
      " dropout_2 (Dropout)         (None, 5, 12, 64)         0         \n",
      "                                                                 \n",
      " conv2d_13 (Conv2D)          (None, 5, 12, 64)         36928     \n",
      "                                                                 \n",
      " conv2d_14 (Conv2D)          (None, 5, 12, 64)         36928     \n",
      "                                                                 \n",
      " flatten_2 (Flatten)         (None, 3840)              0         \n",
      "                                                                 \n",
      " dense_4 (Dense)             (None, 64)                245824    \n",
      "                                                                 \n",
      " dense_5 (Dense)             (None, 3)                 195       \n",
      "                                                                 \n",
      "=================================================================\n",
      "Total params: 347,843\n",
      "Trainable params: 347,843\n",
      "Non-trainable params: 0\n",
      "_________________________________________________________________\n"
     ]
    }
   ],
   "source": [
    "import tensorflow as tf\n",
    "\n",
    "from tensorflow.keras import datasets, layers, models\n",
    "\n",
    "\n",
    "model = models.Sequential()\n",
    "model.add(layers.Conv2D(32, (1, 3), activation='relu', input_shape=(5, 12, 2), padding='same'))\n",
    "model.add(layers.Conv2D(32, (3, 3), activation='relu', padding='same'))\n",
    "model.add(layers.Conv2D(64, (3, 3), activation='relu', padding='same'))\n",
    "model.add(layers.Dropout(0.25))\n",
    "model.add(layers.Conv2D(64, (3, 3), activation='relu', padding='same'))\n",
    "model.add(layers.Conv2D(64, (3, 3), activation='relu', padding='same'))\n",
    "#model.add(layers.BatchNormalization())\n",
    "\n",
    "\n",
    "model.add(layers.Flatten())\n",
    "model.add(layers.Dense(64, activation='relu'))\n",
    "model.add(layers.Dense(3, activation='softmax'))\n",
    "\n",
    "model.summary()"
   ]
  },
  {
   "cell_type": "markdown",
   "metadata": {},
   "source": [
    "### Compiling Model"
   ]
  },
  {
   "cell_type": "code",
   "execution_count": 98,
   "metadata": {},
   "outputs": [],
   "source": [
    "model.compile(optimizer='adam',\n",
    "              loss=tf.keras.losses.SparseCategoricalCrossentropy(from_logits=False),\n",
    "              metrics=['accuracy'],\n",
    "              run_eagerly=True)\n",
    "\n"
   ]
  },
  {
   "cell_type": "markdown",
   "metadata": {},
   "source": [
    "### Training Model"
   ]
  },
  {
   "cell_type": "code",
   "execution_count": 8,
   "metadata": {},
   "outputs": [
    {
     "name": "stdout",
     "output_type": "stream",
     "text": [
      "Epoch 1/20\n",
      "915/915 [==============================] - 29s 24ms/step - loss: 0.3063 - accuracy: 0.9602 - val_loss: 0.3748 - val_accuracy: 0.9092\n",
      "Epoch 2/20\n",
      "915/915 [==============================] - 22s 24ms/step - loss: 0.2852 - accuracy: 0.9635 - val_loss: 0.3437 - val_accuracy: 0.9082\n",
      "Epoch 3/20\n",
      "915/915 [==============================] - 22s 24ms/step - loss: 0.2927 - accuracy: 0.9608 - val_loss: 0.3545 - val_accuracy: 0.9058\n",
      "Epoch 4/20\n",
      "915/915 [==============================] - 22s 24ms/step - loss: 0.2770 - accuracy: 0.9643 - val_loss: 0.3720 - val_accuracy: 0.9104\n",
      "Epoch 5/20\n",
      "915/915 [==============================] - 22s 24ms/step - loss: 0.2678 - accuracy: 0.9632 - val_loss: 0.3512 - val_accuracy: 0.9106\n",
      "Epoch 6/20\n",
      "915/915 [==============================] - 22s 24ms/step - loss: 0.2681 - accuracy: 0.9649 - val_loss: 0.3570 - val_accuracy: 0.9095\n",
      "Epoch 7/20\n",
      "915/915 [==============================] - 22s 24ms/step - loss: 0.2416 - accuracy: 0.9680 - val_loss: 0.3381 - val_accuracy: 0.9098\n",
      "Epoch 8/20\n",
      "915/915 [==============================] - 22s 24ms/step - loss: 0.2587 - accuracy: 0.9655 - val_loss: 0.3602 - val_accuracy: 0.9097\n",
      "Epoch 9/20\n",
      "915/915 [==============================] - 23s 26ms/step - loss: 0.2368 - accuracy: 0.9697 - val_loss: 0.3891 - val_accuracy: 0.9112\n",
      "Epoch 10/20\n",
      "915/915 [==============================] - 24s 26ms/step - loss: 0.2319 - accuracy: 0.9692 - val_loss: 0.3884 - val_accuracy: 0.9033\n",
      "Epoch 11/20\n",
      "915/915 [==============================] - 23s 25ms/step - loss: 0.2289 - accuracy: 0.9705 - val_loss: 0.3842 - val_accuracy: 0.9114\n",
      "Epoch 12/20\n",
      "915/915 [==============================] - 22s 24ms/step - loss: 0.2337 - accuracy: 0.9689 - val_loss: 0.4018 - val_accuracy: 0.9128\n",
      "Epoch 13/20\n",
      "915/915 [==============================] - 22s 24ms/step - loss: 0.2233 - accuracy: 0.9723 - val_loss: 0.3969 - val_accuracy: 0.9110\n",
      "Epoch 14/20\n",
      "915/915 [==============================] - 22s 24ms/step - loss: 0.2289 - accuracy: 0.9690 - val_loss: 0.3849 - val_accuracy: 0.9110\n",
      "Epoch 15/20\n",
      "915/915 [==============================] - 22s 24ms/step - loss: 0.2209 - accuracy: 0.9716 - val_loss: 0.3739 - val_accuracy: 0.9081\n",
      "Epoch 16/20\n",
      "915/915 [==============================] - 22s 24ms/step - loss: 0.2162 - accuracy: 0.9711 - val_loss: 0.4080 - val_accuracy: 0.9114\n",
      "Epoch 17/20\n",
      "915/915 [==============================] - 22s 24ms/step - loss: 0.1984 - accuracy: 0.9740 - val_loss: 0.3997 - val_accuracy: 0.9121\n",
      "Epoch 18/20\n",
      "915/915 [==============================] - 22s 24ms/step - loss: 0.1973 - accuracy: 0.9750 - val_loss: 0.4030 - val_accuracy: 0.9120\n",
      "Epoch 19/20\n",
      "915/915 [==============================] - 23s 25ms/step - loss: 0.1996 - accuracy: 0.9742 - val_loss: 0.4408 - val_accuracy: 0.9092\n",
      "Epoch 20/20\n",
      "915/915 [==============================] - 22s 24ms/step - loss: 0.2013 - accuracy: 0.9739 - val_loss: 0.4003 - val_accuracy: 0.9080\n"
     ]
    }
   ],
   "source": [
    "history = model.fit(train_set, train_labels, epochs=20, validation_data=valid, class_weight={0:4, 1:1, 2:4})\n",
    "print('END')"
   ]
  },
  {
   "cell_type": "markdown",
   "metadata": {},
   "source": [
    "### Plotting Accuracy"
   ]
  },
  {
   "cell_type": "code",
   "execution_count": 9,
   "metadata": {},
   "outputs": [
    {
     "name": "stdout",
     "output_type": "stream",
     "text": [
      "136/136 - 1s - loss: 0.3421 - accuracy: 0.9187 - 884ms/epoch - 6ms/step\n",
      "0.9187010526657104\n"
     ]
    },
    {
     "data": {
      "image/png": "[encoded data removed]",
      "text/plain": [
       "<Figure size 640x480 with 1 Axes>"
      ]
     },
     "metadata": {},
     "output_type": "display_data"
    }
   ],
   "source": [
    "import matplotlib.pyplot as plt\n",
    "\n",
    "plt.plot(history.history['loss'], label='loss')\n",
    "plt.plot(history.history['accuracy'], label='accuracy')\n",
    "plt.plot(history.history['val_loss'], label = 'val_loss')\n",
    "plt.plot(history.history['val_accuracy'], label = 'val_accuracy')\n",
    "plt.xlabel('Epoch')\n",
    "plt.ylabel('Accuracy / Loss')\n",
    "plt.ylim([0, 2])\n",
    "plt.legend(loc='lower right')\n",
    "\n",
    "\n",
    "test_loss, test_acc = model.evaluate(test[0],  test[1], verbose=2)\n",
    "\n",
    "print(test_acc)"
   ]
  },
  {
   "cell_type": "code",
   "execution_count": 11,
   "metadata": {},
   "outputs": [
    {
     "name": "stdout",
     "output_type": "stream",
     "text": [
      "Evaluate on test data on BUY (total 1849)\n",
      "58/58 [==============================] - 0s 7ms/step - loss: 0.2916 - accuracy: 0.9243\n",
      "test loss, test acc: [0.291592538356781, 0.9242833852767944]\n",
      "Evaluate on test data on SELL (total 2153)\n",
      "68/68 [==============================] - 0s 7ms/step - loss: 0.2042 - accuracy: 0.9452\n",
      "test loss, test acc: [0.2042107880115509, 0.9451927542686462]\n",
      "Evaluate on test data on HOLD (total 340)\n",
      "11/11 [==============================] - 0s 7ms/step - loss: 1.4905 - accuracy: 0.7206\n",
      "test loss, test acc: [1.4905221462249756, 0.720588207244873]\n"
     ]
    }
   ],
   "source": [
    "import numpy\n",
    "\n",
    "import kragle.kdb as kdb\n",
    "import pprint as pp\n",
    "\n",
    "ds_name = 'pips15hist12fut800'\n",
    "db = kdb.KragleDB('Datasets')\n",
    "test_SELL = db.get_dataset_bytype(ds_name=ds_name, nclass=0)\n",
    "test_HOLD = db.get_dataset_bytype(ds_name=ds_name, nclass=1)\n",
    "test_BUY =  db.get_dataset_bytype(ds_name=ds_name, nclass=2)\n",
    "\n",
    "print(\"Evaluate on test data on BUY (total {})\".format(len(test_BUY[0])))\n",
    "results = model.evaluate(test_BUY[0],test_BUY[1])\n",
    "print(\"test loss, test acc:\", results)\n",
    "print(\"Evaluate on test data on SELL (total {})\".format(len(test_SELL[0])))\n",
    "results = model.evaluate(test_SELL[0],test_SELL[1])\n",
    "print(\"test loss, test acc:\", results)\n",
    "print(\"Evaluate on test data on HOLD (total {})\".format(len(test_HOLD[0])))\n",
    "results = model.evaluate(test_HOLD[0],test_HOLD[1])\n",
    "print(\"test loss, test acc:\", results)\n"
   ]
  },
  {
   "cell_type": "markdown",
   "metadata": {},
   "source": [
    "### Save Model"
   ]
  },
  {
   "cell_type": "code",
   "execution_count": 107,
   "metadata": {},
   "outputs": [],
   "source": [
    "model.save('models/pips15hist12fut800')"
   ]
  },
  {
   "cell_type": "markdown",
   "metadata": {},
   "source": [
    "### Load Model"
   ]
  },
  {
   "cell_type": "code",
   "execution_count": 3,
   "metadata": {},
   "outputs": [],
   "source": [
    "from tensorflow import keras\n",
    "model = keras.models.load_model('models/pips15hist12fut800')"
   ]
  },
  {
   "cell_type": "markdown",
   "metadata": {},
   "source": [
    "### Load Dataset"
   ]
  },
  {
   "cell_type": "code",
   "execution_count": 6,
   "metadata": {},
   "outputs": [],
   "source": [
    "import numpy\n",
    "\n",
    "import kragle.kdb as kdb\n",
    "import pprint as pp\n",
    "db = kdb.KragleDB('Datasets')\n",
    "(train_set, train_labels), valid, test = db.get_dataset(ds_name='pips15hist12fut800')\n"
   ]
  },
  {
   "cell_type": "code",
   "execution_count": 7,
   "metadata": {},
   "outputs": [
    {
     "name": "stdout",
     "output_type": "stream",
     "text": [
      "29255\n",
      "array([0, 1, 2, ..., 0, 0, 0])\n"
     ]
    }
   ],
   "source": [
    "print(len(train_labels))\n",
    "pp.pprint((train_labels))\n",
    "    "
   ]
  },
  {
   "cell_type": "code",
   "execution_count": 91,
   "metadata": {},
   "outputs": [
    {
     "name": "stdout",
     "output_type": "stream",
     "text": [
      "[0 0 0 ... 0 0 0]\n",
      "[1 1 1 1 1 1 1 1 1 1 1 1 1 1 1 1 1 1 1 1 1 1 1 1 1 1 1 1 1 1 1 1 1 1 1 1 1\n",
      " 1 1 1 1 1 1 1 1 1 1 1 1 1 1 1 1 1 1 1 1 1 1 1 1 1 1 1 1 1 1 1 1 1 1 1 1 1\n",
      " 1 1 1 1 1 1 1 1 1 1 1 1 1 1 1 1 1 1 1 1 1 1 1 1 1 1 1 1 1 1 1 1 1 1 1 1 1\n",
      " 1 1 1 1 1 1 1 1 1 1 1 1 1 1 1 1 1 1 1 1 1 1 1 1 1 1 1 1 1 1 1 1 1 1 1 1 1\n",
      " 1 1 1 1 1 1 1 1 1 1 1 1 1 1 1 1 1 1 1 1 1 1 1 1 1 1 1 1 1 1 1 1 1 1 1 1 1\n",
      " 1 1 1 1 1 1 1 1 1 1 1 1 1 1 1 1 1 1 1 1 1 1 1 1 1 1 1 1 1 1 1 1 1 1 1 1 1\n",
      " 1 1 1 1 1 1 1 1 1 1 1 1 1 1 1 1 1 1 1 1 1 1 1 1 1 1 1 1 1 1 1 1 1 1 1 1 1\n",
      " 1 1 1 1 1 1 1 1 1 1 1 1 1 1 1 1 1 1 1 1 1 1 1 1 1 1 1 1 1 1 1 1 1 1 1 1 1\n",
      " 1 1 1 1 1 1 1 1 1 1 1 1 1 1 1 1 1 1 1 1 1 1 1 1 1 1 1 1 1 1 1 1 1 1 1 1 1\n",
      " 1 1 1 1 1 1 1]\n",
      "[2 2 2 ... 2 2 2]\n"
     ]
    }
   ],
   "source": [
    "import numpy\n",
    "\n",
    "import kragle.kdb as kdb\n",
    "import pprint as pp\n",
    "db = kdb.KragleDB('Datasets')\n",
    "test_SELL = db.get_dataset_bytype(ds_name='pips15hist12fut800', nclass=0)\n",
    "test_HOLD = db.get_dataset_bytype(ds_name='pips15hist12fut800', nclass=1)\n",
    "test_BUY = db.get_dataset_bytype(ds_name='pips15hist12fut800', nclass=2)\n",
    "print(test_SELL[1])\n",
    "print(test_HOLD[1])\n",
    "print(test_BUY[1])\n"
   ]
  },
  {
   "cell_type": "markdown",
   "metadata": {},
   "source": [
    "### Percentage"
   ]
  },
  {
   "cell_type": "code",
   "execution_count": 92,
   "metadata": {},
   "outputs": [
    {
     "name": "stdout",
     "output_type": "stream",
     "text": [
      "Sell: 49.58544449562414%   Hold: 7.83049286043298%   Buy: 42.584062643942886%\n"
     ]
    }
   ],
   "source": [
    "import kragle.kdb as kdb\n",
    "import pprint as pp\n",
    "db = kdb.KragleDB()\n",
    "\n",
    "s, h, b = db.get_dataset_percentage('pips15hist12fut800', type='test')\n",
    "print('Sell: {}%   Hold: {}%   Buy: {}%'.format(s*100, h*100, b*100))"
   ]
  },
  {
   "cell_type": "markdown",
   "metadata": {},
   "source": [
    "### Tensor from FXCM"
   ]
  },
  {
   "cell_type": "code",
   "execution_count": 36,
   "metadata": {},
   "outputs": [
    {
     "name": "stderr",
     "output_type": "stream",
     "text": [
      "WARNING:FXCM:Default account set to 1342146, to change use set_default_account().\n"
     ]
    },
    {
     "name": "stdout",
     "output_type": "stream",
     "text": [
      "Done\n"
     ]
    }
   ],
   "source": [
    "import kragle.kdb as kdb\n",
    "import pprint as pp\n",
    "\n",
    "db = kdb.KragleDB(db_name='TensorSave', instrument='EUR/USD', ds_name='Datasets')\n",
    "\n",
    "    \n",
    "t= db.fetch_data_tensor_fxcm( periods=['m1', 'm5', 'm30', 'H2', 'H8', 'D1'], history_len=10)\n",
    "print('Done')"
   ]
  },
  {
   "cell_type": "markdown",
   "metadata": {},
   "source": [
    "### Predict from live"
   ]
  },
  {
   "cell_type": "code",
   "execution_count": 62,
   "metadata": {},
   "outputs": [
    {
     "name": "stderr",
     "output_type": "stream",
     "text": [
      "WARNING:FXCM:Default account set to 1342146, to change use set_default_account().\n"
     ]
    },
    {
     "name": "stdout",
     "output_type": "stream",
     "text": [
      "('Done tensor: ([[[0.3500000000000725, 0.34], [-0.20000000000020002, 0.4], '\n",
      " '[-0.5499999999991623, 0.2875], [-0.3500000000000725, 0.3875], '\n",
      " '[0.04999999999921734, 0.4275], [0.5500000000002725, 0.51], [0.0, 0.3875], '\n",
      " '[-0.2999999999997449, 0.4375], [-0.4500000000007276, 0.23], '\n",
      " '[-0.4499999999996174, 0.515]], [[-0.3333333333332967, 0.4025], '\n",
      " '[-0.60000000000023, 0.4], [0.7000000000001451, 0.5135], '\n",
      " '[-1.1333333333333566, 0.472], [-0.8666666666664232, 0.515], '\n",
      " '[0.4666666666667633, 0.4265], [0.8333333333328715, 0.6145], '\n",
      " '[-1.19999999999972, 0.6355], [0.99999999999989, 0.606], [-1.299999999999635, '\n",
      " '0.6725]], [[-0.42666666666650127, 0.5783333333333334], [-1.7866666666668252, '\n",
      " '0.6565], [0.5466666666666953, 0.9561666666666667], [-0.09333333333335266, '\n",
      " '1.213], [-1.7999999999999496, 1.1630833333333332], [-1.1066666666668112, '\n",
      " '1.403], [-0.6799999999997178, 0.77225], [-1.7333333333334384, '\n",
      " '0.8343333333333334], [-0.2666666666666373, 0.7675833333333333], '\n",
      " '[0.11999999999989797, 0.5125]], [[-1.8399999999999157, 1.3654], '\n",
      " '[-0.5266666666667122, 0.76785], [-0.05333333333338667, 0.6801], '\n",
      " '[-0.8866666666667022, 0.939075], [-1.1133333333332256, 0.4926], '\n",
      " '[0.4333333333333596, 0.34015], [0.3533333333332796, 0.455], '\n",
      " '[-0.30000000000004096, 0.4903], [0.6866666666667243, 0.2596], '\n",
      " '[-1.6933333333333245, 0.39445]], [[-1.2900000000000134, 0.71990625], '\n",
      " '[0.5866666666666612, 0.3862625], [-2.019999999999985, 1.3223375], '\n",
      " '[-1.7933333333333874, 0.9007625], [-0.5066666666666553, 0.26209375], '\n",
      " '[-1.223333333333354, 1.1888], [-2.4866666666666, 0.9986], '\n",
      " '[1.0733333333333335, 0.4072125], [2.789999999999996, 1.51036875], '\n",
      " '[1.083333333333325, 0.63664375]], [[-2.8733333333333575, 0.994075], '\n",
      " '[-1.764444444444408, 1.0378475], [2.817777777777734, 0.9313625], '\n",
      " '[0.2822222222222454, 0.7513675], [-0.3866666666666833, 0.6669675], '\n",
      " '[-0.022222222222219777, 0.0004475], [-0.4911111111111212, 0.5041475], '\n",
      " '[-0.5977777777777465, 0.60569], [0.7466666666666734, 0.587285], '\n",
      " \"[0.2911111111110939, 0.5802475]]], Timestamp('2023-02-06 17:51:00'))\")\n",
      "1/1 [==============================] - 0s 28ms/step\n",
      "[[7.178334e-19 4.728162e-13 1.000000e+00]]\n"
     ]
    }
   ],
   "source": [
    "import kragle.kdb as kdb\n",
    "import pprint as pp\n",
    "import numpy\n",
    "\n",
    "db = kdb.KragleDB(db_name='TensorSave', instrument='EUR/USD', ds_name='Datasets')\n",
    "\n",
    "t= db.get_data_tensor_fxcm( periods=['m1', 'm5', 'm30', 'H2', 'H8', 'D1'], history_len=10)\n",
    "pp.pprint('Done tensor: {}'.format(t))\n",
    "\n",
    "p = model.predict(numpy.expand_dims(t[0], axis=0))\n",
    "print(p)"
   ]
  },
  {
   "cell_type": "code",
   "execution_count": 52,
   "metadata": {},
   "outputs": [
    {
     "name": "stdout",
     "output_type": "stream",
     "text": [
      "([[[1.1499999999997623, 0.475],\n",
      "   [0.7500000000004725, 0.42],\n",
      "   [0.0, 0.415],\n",
      "   [0.5500000000002725, 0.425],\n",
      "   [0.0, 0.515],\n",
      "   [-0.10000000000065512, 0.3475],\n",
      "   [-0.14999999999987246, 0.4675],\n",
      "   [0.6499999999998174, 0.43],\n",
      "   [-0.20000000000020002, 0.41],\n",
      "   [0.05000000000032756, 0.2375]],\n",
      "  [[0.19999999999982995, 0.434],\n",
      "   [0.6333333333337817, 0.3455],\n",
      "   [-0.5000000000003151, 0.3945],\n",
      "   [0.09999999999991498, 0.447],\n",
      "   [0.5666666666666783, 0.4255],\n",
      "   [0.1666666666670184, 0.3265],\n",
      "   [1.0333333333327015, 0.734],\n",
      "   [0.8999999999999749, 0.7745],\n",
      "   [-0.09999999999991498, 0.415],\n",
      "   [0.5333333333338668, 0.429]],\n",
      "  [[0.8400000000001739, 0.44516666666666665],\n",
      "   [0.6266666666666273, 0.5261666666666667],\n",
      "   [-0.6266666666666273, 0.443],\n",
      "   [-0.49333333333360463, 0.5825833333333333],\n",
      "   [0.3733333333334106, 0.7151666666666666],\n",
      "   [-0.7333333333334006, 0.67825],\n",
      "   [-1.7200000000000177, 0.7730833333333333],\n",
      "   [1.3200000000000618, 0.8331666666666667],\n",
      "   [-0.640000000000048, 0.84575],\n",
      "   [-1.3866666666665732, 0.538]],\n",
      "  [[-0.05333333333338667, 0.6801],\n",
      "   [-0.8866666666667022, 0.939075],\n",
      "   [-1.1133333333332256, 0.4926],\n",
      "   [0.4333333333333596, 0.34015],\n",
      "   [0.3533333333332796, 0.455],\n",
      "   [-0.30000000000004096, 0.4903],\n",
      "   [0.6866666666667243, 0.2596],\n",
      "   [-1.6933333333333245, 0.39445],\n",
      "   [-1.340000000000045, 0.8214],\n",
      "   [-2.24666666666673, 1.226325]],\n",
      "  [[0.5866666666666612, 0.3862625],\n",
      "   [-2.019999999999985, 1.3223375],\n",
      "   [-1.7933333333333874, 0.9007625],\n",
      "   [-0.5066666666666553, 0.26209375],\n",
      "   [-1.223333333333354, 1.1888],\n",
      "   [-2.4866666666666, 0.9986],\n",
      "   [1.0733333333333335, 0.4072125],\n",
      "   [2.789999999999996, 1.51036875],\n",
      "   [1.083333333333325, 0.63664375],\n",
      "   [0.3533333333332796, 0.18139375]],\n",
      "  [[-2.8733333333333575, 0.994075],\n",
      "   [-1.764444444444408, 1.0378475],\n",
      "   [2.817777777777734, 0.9313625],\n",
      "   [0.2822222222222454, 0.7513675],\n",
      "   [-0.3866666666666833, 0.6669675],\n",
      "   [-0.022222222222219777, 0.0004475],\n",
      "   [-0.4911111111111212, 0.5041475],\n",
      "   [-0.5977777777777465, 0.60569],\n",
      "   [0.7466666666666734, 0.587285],\n",
      "   [0.2911111111110939, 0.5802475]]],\n",
      " Timestamp('2023-02-06 12:37:00'))\n"
     ]
    }
   ],
   "source": [
    "pp.pprint(t)"
   ]
  },
  {
   "cell_type": "code",
   "execution_count": 27,
   "metadata": {},
   "outputs": [
    {
     "name": "stdout",
     "output_type": "stream",
     "text": [
      "([[[-0.20000000000020002, 0.08],\n",
      "   [-0.24999999999941735, 0.1275],\n",
      "   [-0.2999999999997449, 0.4425],\n",
      "   [0.49999999999994493, 0.2525],\n",
      "   [-0.2999999999997449, 0.1675],\n",
      "   [0.0999999999995449, 0.075],\n",
      "   [0.05000000000032756, 0.08],\n",
      "   [0.0, 0.165],\n",
      "   [0.14999999999987246, 0.165],\n",
      "   [0.14999999999987246, 0.105]],\n",
      "  [[0.0, 0.1305],\n",
      "   [-0.5000000000003151, 0.1155],\n",
      "   [-0.4333333333332116, 0.103],\n",
      "   [0.06666666666636327, 0.0795],\n",
      "   [-0.9333333333327866, 0.1815],\n",
      "   [-0.3333333333332967, 0.235],\n",
      "   [-0.03333333333355171, 0.115],\n",
      "   [0.03333333333355171, 0.1555],\n",
      "   [0.09999999999991498, 0.185],\n",
      "   [0.4333333333332116, 0.1475]],\n",
      "  [[0.6933333333331385, 0.20233333333333334],\n",
      "   [-0.7333333333331046, 0.49416666666666664],\n",
      "   [-0.7733333333333666, 0.48633333333333334],\n",
      "   [-0.41333333333337663, 0.67975],\n",
      "   [-0.5466666666666953, 0.5496666666666666],\n",
      "   [-0.2666666666666373, 0.7064166666666667],\n",
      "   [-1.4666666666668011, 0.80225],\n",
      "   [-0.43999999999992195, 0.6475],\n",
      "   [0.41333333333337663, 0.77325],\n",
      "   [-2.386666666666611, 1.1914166666666666]],\n",
      "  [[-1.340000000000045, 0.8214],\n",
      "   [-2.24666666666673, 1.226325],\n",
      "   [1.2400000000001299, 2.847175],\n",
      "   [-5.960000000000114, 1.65165],\n",
      "   [-0.05333333333323864, 0.577525],\n",
      "   [2.0333333333333314, 0.82425],\n",
      "   [0.3933333333332456, 0.549625],\n",
      "   [-0.026666666666693335, 0.23435],\n",
      "   [0.006666666666710341, 0.293625],\n",
      "   [-0.7266666666666902, 0.419325]],\n",
      "  [[-1.7933333333333874, 0.9007625],\n",
      "   [-0.5066666666666553, 0.26209375],\n",
      "   [-1.223333333333354, 1.1888],\n",
      "   [-2.4866666666666, 0.9986],\n",
      "   [1.0733333333333335, 0.4072125],\n",
      "   [2.789999999999996, 1.51036875],\n",
      "   [1.083333333333325, 0.63664375],\n",
      "   [0.3533333333332796, 0.18139375],\n",
      "   [0.33000000000001545, 0.79414375],\n",
      "   [0.5433333333333401, 0.81379375]],\n",
      "  [[-1.764444444444408, 1.0378475],\n",
      "   [2.817777777777734, 0.9313625],\n",
      "   [0.2822222222222454, 0.7513675],\n",
      "   [-0.3866666666666833, 0.6669675],\n",
      "   [-0.022222222222219777, 0.0004475],\n",
      "   [-0.4911111111111212, 0.5041475],\n",
      "   [-0.5977777777777465, 0.60569],\n",
      "   [0.7466666666666734, 0.587285],\n",
      "   [0.2911111111110939, 0.5802475],\n",
      "   [0.053333333333337334, 0.620635]]],\n",
      " Timestamp('2023-02-03 21:59:00'))\n"
     ]
    }
   ],
   "source": [
    "pp.pprint(t)\n"
   ]
  },
  {
   "cell_type": "markdown",
   "metadata": {},
   "source": [
    "### Tensor from DB"
   ]
  },
  {
   "cell_type": "code",
   "execution_count": 71,
   "metadata": {},
   "outputs": [
    {
     "data": {
      "text/plain": [
       "[[[datetime.datetime(2023, 2, 10, 21, 57), 1.06762, 72],\n",
       "  [datetime.datetime(2023, 2, 10, 21, 56), 1.06762, 122],\n",
       "  [datetime.datetime(2023, 2, 10, 21, 55), 1.0678, 102],\n",
       "  [datetime.datetime(2023, 2, 10, 21, 54), 1.06787, 35],\n",
       "  [datetime.datetime(2023, 2, 10, 21, 53), 1.06781, 33],\n",
       "  [datetime.datetime(2023, 2, 10, 21, 52), 1.0678, 32],\n",
       "  [datetime.datetime(2023, 2, 10, 21, 51), 1.06777, 22],\n",
       "  [datetime.datetime(2023, 2, 10, 21, 50), 1.06771, 95],\n",
       "  [datetime.datetime(2023, 2, 10, 21, 49), 1.0677, 29],\n",
       "  [datetime.datetime(2023, 2, 10, 21, 48), 1.06761, 43],\n",
       "  [datetime.datetime(2023, 2, 10, 21, 47), 1.06761, 10]],\n",
       " [[datetime.datetime(2023, 2, 10, 21, 55), 1.0678, 296],\n",
       "  [datetime.datetime(2023, 2, 10, 21, 50), 1.06771, 217],\n",
       "  [datetime.datetime(2023, 2, 10, 21, 45), 1.06759, 206],\n",
       "  [datetime.datetime(2023, 2, 10, 21, 40), 1.06756, 112],\n",
       "  [datetime.datetime(2023, 2, 10, 21, 35), 1.06766, 99],\n",
       "  [datetime.datetime(2023, 2, 10, 21, 30), 1.06763, 113],\n",
       "  [datetime.datetime(2023, 2, 10, 21, 25), 1.06764, 186],\n",
       "  [datetime.datetime(2023, 2, 10, 21, 20), 1.06777, 215],\n",
       "  [datetime.datetime(2023, 2, 10, 21, 15), 1.06784, 198],\n",
       "  [datetime.datetime(2023, 2, 10, 21, 10), 1.0678, 232],\n",
       "  [datetime.datetime(2023, 2, 10, 21, 5), 1.06778, 280]],\n",
       " [[datetime.datetime(2023, 2, 10, 21, 30), 1.06763, 1043],\n",
       "  [datetime.datetime(2023, 2, 10, 21, 0), 1.06786, 1740],\n",
       "  [datetime.datetime(2023, 2, 10, 20, 30), 1.06782, 3283],\n",
       "  [datetime.datetime(2023, 2, 10, 20, 0), 1.0673, 3091],\n",
       "  [datetime.datetime(2023, 2, 10, 19, 30), 1.06741, 3649],\n",
       "  [datetime.datetime(2023, 2, 10, 19, 0), 1.0671, 4227],\n",
       "  [datetime.datetime(2023, 2, 10, 18, 30), 1.06736, 3076],\n",
       "  [datetime.datetime(2023, 2, 10, 18, 0), 1.06679, 4105],\n",
       "  [datetime.datetime(2023, 2, 10, 17, 30), 1.06709, 5769],\n",
       "  [datetime.datetime(2023, 2, 10, 17, 0), 1.06683, 6697],\n",
       "  [datetime.datetime(2023, 2, 10, 16, 30), 1.06752, 7514]],\n",
       " [[datetime.datetime(2023, 2, 10, 20, 0), 1.0673, 9158],\n",
       "  [datetime.datetime(2023, 2, 10, 18, 0), 1.06679, 15057],\n",
       "  [datetime.datetime(2023, 2, 10, 16, 0), 1.06766, 30236],\n",
       "  [datetime.datetime(2023, 2, 10, 14, 0), 1.06956, 61890],\n",
       "  [datetime.datetime(2023, 2, 10, 12, 0), 1.06982, 36197],\n",
       "  [datetime.datetime(2023, 2, 10, 10, 0), 1.07063, 30095],\n",
       "  [datetime.datetime(2023, 2, 10, 8, 0), 1.07409, 55825],\n",
       "  [datetime.datetime(2023, 2, 10, 6, 0), 1.07257, 33852],\n",
       "  [datetime.datetime(2023, 2, 10, 4, 0), 1.07204, 12969],\n",
       "  [datetime.datetime(2023, 2, 10, 2, 0), 1.07331, 12889],\n",
       "  [datetime.datetime(2023, 2, 10, 0, 0), 1.07389, 13974]],\n",
       " [[datetime.datetime(2023, 2, 10, 14, 0), 1.06956, 116340],\n",
       "  [datetime.datetime(2023, 2, 10, 6, 0), 1.07257, 155969],\n",
       "  [datetime.datetime(2023, 2, 9, 22, 0), 1.07324, 44338],\n",
       "  [datetime.datetime(2023, 2, 9, 14, 0), 1.07896, 127360],\n",
       "  [datetime.datetime(2023, 2, 9, 6, 0), 1.07353, 115078],\n",
       "  [datetime.datetime(2023, 2, 8, 22, 0), 1.07092, 43270],\n",
       "  [datetime.datetime(2023, 2, 8, 14, 0), 1.07312, 130797],\n",
       "  [datetime.datetime(2023, 2, 8, 6, 0), 1.0733, 104669],\n",
       "  [datetime.datetime(2023, 2, 7, 22, 0), 1.07221, 31868],\n",
       "  [datetime.datetime(2023, 2, 7, 14, 0), 1.06949, 225786],\n",
       "  [datetime.datetime(2023, 2, 7, 6, 0), 1.07399, 132643]],\n",
       " [[datetime.datetime(2023, 2, 9, 22, 0), 1.07324, 316647],\n",
       "  [datetime.datetime(2023, 2, 8, 22, 0), 1.07221, 267334],\n",
       "  [datetime.datetime(2023, 2, 7, 22, 0), 1.07261, 406035],\n",
       "  [datetime.datetime(2023, 2, 6, 22, 0), 1.07788, 293847],\n",
       "  [datetime.datetime(2023, 2, 3, 22, 0), 1.09081, 397630],\n",
       "  [datetime.datetime(2023, 2, 2, 22, 0), 1.09875, 415139],\n",
       "  [datetime.datetime(2023, 2, 1, 22, 0), 1.08607, 372545],\n",
       "  [datetime.datetime(2023, 1, 31, 22, 0), 1.0848, 300547],\n",
       "  [datetime.datetime(2023, 1, 30, 22, 0), 1.08654, 266787],\n",
       "  [datetime.datetime(2023, 1, 29, 22, 0), 1.08664, 179],\n",
       "  [datetime.datetime(2023, 1, 27, 22, 0), 1.08885, 201659]]]"
      ]
     },
     "execution_count": 71,
     "metadata": {},
     "output_type": "execute_result"
    }
   ],
   "source": [
    "import kragle.kdb as kdb\n",
    "import pprint as pp\n",
    "import datetime as dt\n",
    "\n",
    "end = dt.datetime(2023, 2, 10, 21, 57)\n",
    "db = kdb.KragleDB('FX_RAW')\n",
    "\n",
    "db.get_data_tensor( periods=['m1', 'm5', 'm30', 'H2', 'H8', 'D1'],to_date=end, history_len=10, normalized=False)"
   ]
  }
 ],
 "metadata": {
  "colab": {
   "name": "forex history.ipynb",
   "provenance": []
  },
  "kernelspec": {
   "display_name": "Python 3 (ipykernel)",
   "language": "python",
   "name": "python3"
  },
  "language_info": {
   "codemirror_mode": {
    "name": "ipython",
    "version": 3
   },
   "file_extension": ".py",
   "mimetype": "text/x-python",
   "name": "python",
   "nbconvert_exporter": "python",
   "pygments_lexer": "ipython3",
   "version": "3.9.1"
  }
 },
 "nbformat": 4,
 "nbformat_minor": 1
}
