{
 "cells": [
  {
   "cell_type": "code",
   "execution_count": 3,
   "metadata": {
    "scrolled": false
   },
   "outputs": [
    {
     "name": "stderr",
     "output_type": "stream",
     "text": [
      "|WARNING|2023-02-03 00:31:54,672|Default account set to 1342146, to change use set_default_account().\n"
     ]
    },
    {
     "name": "stdout",
     "output_type": "stream",
     "text": [
      "[{'date': Timestamp('2023-02-02 23:31:00'), 'bidopen': 1.09076, 'bidclose': 1.09071, 'bidhigh': 1.09076, 'bidlow': 1.0907, 'askopen': 1.09083, 'askclose': 1.09078, 'askhigh': 1.09083, 'asklow': 1.09077, 'tickqty': 25}, {'date': Timestamp('2023-02-02 23:30:00'), 'bidopen': 1.09084, 'bidclose': 1.09076, 'bidhigh': 1.0909, 'bidlow': 1.09073, 'askopen': 1.09092, 'askclose': 1.09082, 'askhigh': 1.09101, 'asklow': 1.0908, 'tickqty': 123}, {'date': Timestamp('2023-02-02 23:29:00'), 'bidopen': 1.09079, 'bidclose': 1.09084, 'bidhigh': 1.09084, 'bidlow': 1.09078, 'askopen': 1.09087, 'askclose': 1.0909, 'askhigh': 1.09092, 'asklow': 1.09085, 'tickqty': 48}]\n"
     ]
    }
   ],
   "source": [
    "import fxcmpy\n",
    "\n",
    "con = fxcmpy.fxcmpy(config_file='fxcm.cfg')\n",
    "print(con.get_candles('EUR/USD', period='m1', number=3, with_index=False).to_dict('records')[::-1])\n",
    "\n",
    "\n",
    "con.close()\n"
   ]
  },
  {
   "cell_type": "code",
   "execution_count": 1,
   "metadata": {},
   "outputs": [
    {
     "name": "stdout",
     "output_type": "stream",
     "text": [
      "1.3.3\n"
     ]
    }
   ],
   "source": [
    "import fxcmpy\n",
    "print(fxcmpy.__version__)"
   ]
  },
  {
   "cell_type": "markdown",
   "metadata": {},
   "source": [
    "### get_normalized_periods_fcxm"
   ]
  },
  {
   "cell_type": "code",
   "execution_count": 2,
   "metadata": {},
   "outputs": [
    {
     "name": "stderr",
     "output_type": "stream",
     "text": [
      "|WARNING|2023-02-02 16:55:58,010|Default account set to 1342146, to change use set_default_account().\n"
     ]
    },
    {
     "name": "stdout",
     "output_type": "stream",
     "text": [
      "[[[0.40000000000040004, 1.1875],\n",
      "  [-0.6499999999998174, 1.385],\n",
      "  [-0.40000000000040004, 1.4225],\n",
      "  [0.8500000000000174, 1.4175],\n",
      "  [-1.40000000000029, 1.6825],\n",
      "  [-0.5999999999994898, 1.2925],\n",
      "  [0.4499999999996174, 1.7525],\n",
      "  [-3.4999999999996145, 1.595],\n",
      "  [-0.0999999999995449, 1.2375],\n",
      "  [-1.300000000000745, 1.4475]],\n",
      " [[5.066666666666553, 1.841],\n",
      "  [-1.4333333333331015, 1.8965],\n",
      "  [-7.299999999999715, 1.5445],\n",
      "  [0.7333333333329566, 1.239],\n",
      "  [2.2333333333331615, 1.725],\n",
      "  [-4.833333333333171, 1.195],\n",
      "  [-0.4333333333332116, 1.074],\n",
      "  [-1.1666666666669083, 1.2695],\n",
      "  [-0.80000000000006, 1.512],\n",
      "  [-3.3666666666665184, 0.1765]],\n",
      " [[0.14666666666644326, 0.5018333333333334],\n",
      "  [-1.706666666666597, 0.52375],\n",
      "  [-0.4533333333333426, 1.339],\n",
      "  [0.05333333333338667, 1.2264166666666667],\n",
      "  [1.9733333333332344, 1.8110833333333334],\n",
      "  [1.4800000000002218, 2.004],\n",
      "  [3.6666666666664107, 2.2816666666666667],\n",
      "  [-0.5466666666663992, 2.2005],\n",
      "  [5.879999999999737, 1.8726666666666667],\n",
      "  [0.13333333333331865, 1.1586666666666667]],\n",
      " [[-4.646666666666614, 1.280325],\n",
      "  [-0.6733333333333036, 0.359875],\n",
      "  [-1.6466666666667962, 0.589475],\n",
      "  [-0.05999999999994898, 0.38195],\n",
      "  [-0.27333333333334764, 0.29755],\n",
      "  [-0.1666666666665743, 0.5684],\n",
      "  [1.7733333333332564, 0.855725],\n",
      "  [-0.35999999999998994, 0.656125],\n",
      "  [-0.026666666666693335, 1.91415],\n",
      "  [3.586666666666627, 2.25405]],\n",
      " [[-0.5766666666666698, 0.6830125],\n",
      "  [1.26333333333332, 0.27048125],\n",
      "  [0.4499999999999874, 0.81379375],\n",
      "  [-0.5433333333333401, 0.79414375],\n",
      "  [-0.33000000000001545, 0.18139375],\n",
      "  [-0.3533333333332796, 0.63664375],\n",
      "  [-1.083333333333325, 1.51036875],\n",
      "  [-2.789999999999996, 0.4072125],\n",
      "  [-1.0733333333333335, 0.9986],\n",
      "  [2.4866666666666, 0.5635125]],\n",
      " [[-0.19333333333331698, 0.620635],\n",
      "  [-0.053333333333337334, 0.5802475],\n",
      "  [-0.2911111111110939, 0.587285],\n",
      "  [-0.7466666666666734, 0.60569],\n",
      "  [0.5977777777777465, 0.5041475],\n",
      "  [0.4911111111111212, 0.0004475],\n",
      "  [0.022222222222219777, 0.6669675],\n",
      "  [0.3866666666666833, 0.7513675],\n",
      "  [-0.2822222222222454, 0.9313625],\n",
      "  [-2.817777777777734, 0.78773]]]\n"
     ]
    }
   ],
   "source": [
    "import kragle.kdb as kdb\n",
    "import datetime as dt\n",
    "import pprint as pp\n",
    "\n",
    "date_start = dt.datetime(2021, 1, 1)\n",
    "date_end = dt.datetime(2021, 5, 31,)\n",
    "\n",
    "db = kdb.KragleDB('FX_2020_2021')\n",
    "v = db.get_normalized_periods_fcxm( periods=['m1', 'm5', 'm30', 'H2', 'H8', 'D1'], history_len=10)\n",
    "pp.pprint(v)"
   ]
  },
  {
   "cell_type": "markdown",
   "metadata": {},
   "source": [
    "### get_candles"
   ]
  },
  {
   "cell_type": "code",
   "execution_count": 3,
   "metadata": {},
   "outputs": [
    {
     "name": "stdout",
     "output_type": "stream",
     "text": [
      "[{'askclose': 1.10961,\n",
      "  'askhigh': 1.10964,\n",
      "  'asklow': 1.1095,\n",
      "  'askopen': 1.1095,\n",
      "  'bidclose': 1.10955,\n",
      "  'bidhigh': 1.10958,\n",
      "  'bidlow': 1.10944,\n",
      "  'bidopen': 1.10945,\n",
      "  'date': datetime.datetime(2020, 1, 22, 23, 55),\n",
      "  'tickqty': 283},\n",
      " {'_id': ObjectId('63cb33c63a25a7383d77475d'),\n",
      "  'askclose': 1.1095,\n",
      "  'askhigh': 1.10958,\n",
      "  'asklow': 1.10947,\n",
      "  'askopen': 1.10948,\n",
      "  'bidclose': 1.10945,\n",
      "  'bidhigh': 1.10952,\n",
      "  'bidlow': 1.10939,\n",
      "  'bidopen': 1.10942,\n",
      "  'date': datetime.datetime(2020, 1, 22, 23, 50),\n",
      "  'tickqty': 164}]\n"
     ]
    }
   ],
   "source": [
    "import kragle.kdb as kdb\n",
    "import datetime as dt\n",
    "import pprint as pp\n",
    "\n",
    "date_start = dt.datetime(2020, 1, 22, 23, 50)\n",
    "date_end = dt.datetime(2020, 1, 22, 23, 59)\n",
    "\n",
    "db = kdb.KragleDB('FX_2020_GEN_22')\n",
    "v = db.get_candles('EUR/USD', 'm5', date_end, 2)\n",
    "pp.pprint(v)"
   ]
  },
  {
   "cell_type": "markdown",
   "metadata": {},
   "source": [
    "### calc_mean_stddev"
   ]
  },
  {
   "cell_type": "code",
   "execution_count": 2,
   "metadata": {},
   "outputs": [
    {
     "name": "stdout",
     "output_type": "stream",
     "text": [
      "{'bidopen-mean': 0.00011594279860246181,\n",
      " 'bidopen-stddev': 0.8242580674716756,\n",
      " 'tickqty-mean': 0.40272353284787743,\n",
      " 'tickqty-stddev': 0.3762696817328249}\n"
     ]
    }
   ],
   "source": [
    "import kragle.kdb as kdb\n",
    "import datetime as dt\n",
    "import pprint as pp\n",
    "\n",
    "date_start = dt.datetime(2021, 1, 1)\n",
    "date_end = dt.datetime(2021, 5, 31,)\n",
    "\n",
    "db = kdb.KragleDB('FX_2020_2021')\n",
    "v = db.calc_mean_stddev('EUR/USD', 'm1', date_start, date_end)\n",
    "pp.pprint(v)"
   ]
  },
  {
   "cell_type": "markdown",
   "metadata": {},
   "source": [
    "### get_sample"
   ]
  },
  {
   "cell_type": "code",
   "execution_count": 1,
   "metadata": {},
   "outputs": [
    {
     "name": "stdout",
     "output_type": "stream",
     "text": [
      "{'date': datetime.datetime(2021, 1, 5, 14, 57),\n",
      " 'x': [[[1.4999999999998348, 1.1525],\n",
      "        [-1.9999999999997797, 1.1425],\n",
      "        [-0.5999999999994898, 0.765],\n",
      "        [-2.100000000000435, 1.115],\n",
      "        [-0.2999999999997449, 0.92]],\n",
      "       [[-0.8666666666664232, 1.0075],\n",
      "        [-1.1333333333333566, 1.352],\n",
      "        [-0.3000000000004851, 1.7275],\n",
      "        [-0.23333333333338166, 1.8015],\n",
      "        [-0.4666666666660232, 1.331]],\n",
      "       [[1.4666666666665051, 0.6108333333333333],\n",
      "        [-0.8133333333333326, 0.873],\n",
      "        [-0.5199999999998539, 0.6958333333333333],\n",
      "        [0.10666666666647728, 0.7219166666666667],\n",
      "        [-1.5333333333333126, 0.6241666666666666]],\n",
      "       [[-1.3800000000000108, 0.874475],\n",
      "        [0.7199999999999799, 0.60045],\n",
      "        [0.9333333333333785, 0.865125],\n",
      "        [-0.9266666666666682, 0.54995],\n",
      "        [-0.04666666666667633, 0.35945]],\n",
      "       [[-0.3266666666666603, 0.7225],\n",
      "        [0.963333333333353, 0.3125875],\n",
      "        [-1.8566666666666916, 0.84705625],\n",
      "        [1.4600000000000168, 0.77996875],\n",
      "        [0.5399999999999849, 0.4076375]],\n",
      "       [[0.6133333333333053, 0.0009175],\n",
      "        [-1.7111111111111201, 0.4998325],\n",
      "        [1.0288888888889187, 0.5658225],\n",
      "        [0.7266666666666409, 0.5132],\n",
      "        [0.7622222222222321, 0.53083]]],\n",
      " 'y': 1}\n"
     ]
    }
   ],
   "source": [
    "import kragle.kdb as kdb\n",
    "import datetime as dt\n",
    "import pprint as pp\n",
    "\n",
    "date_end = dt.datetime(2021, 1, 5, 14, 57)\n",
    "\n",
    "db = kdb.KragleDB('FX_2020_2021')\n",
    "v = db.get_sample(to_date = date_end, n= 5)\n",
    "pp.pprint(v)"
   ]
  },
  {
   "cell_type": "markdown",
   "metadata": {},
   "source": [
    "### duplicate_db"
   ]
  },
  {
   "cell_type": "code",
   "execution_count": 3,
   "metadata": {},
   "outputs": [
    {
     "data": {
      "text/plain": [
       "['D1', 'H2', 'm1', 'm30', 'm5', 'H8']"
      ]
     },
     "execution_count": 3,
     "metadata": {},
     "output_type": "execute_result"
    }
   ],
   "source": [
    "import kragle.kdb as kdb\n",
    "import datetime as dt\n",
    "import kragle.utils as kutils\n",
    "\n",
    "date_start = dt.datetime(2019, 1, 1)\n",
    "date_end = dt.datetime(2021, 12, 31)\n",
    "\n",
    "dbname = 'FX_2019_2022'\n",
    "db = kdb.KragleDB('FX_RAW')\n",
    "olddb = kdb.KragleDB(dbname)\n",
    "olddb.drop_db()\n",
    "newdb = db.duplicate_db(dbname, from_date=date_start, to_date=date_end, fields=kutils.FIELDS)\n",
    "newdb.get_periods()"
   ]
  },
  {
   "cell_type": "markdown",
   "metadata": {},
   "source": [
    "## Create Dataset"
   ]
  },
  {
   "cell_type": "code",
   "execution_count": 1,
   "metadata": {},
   "outputs": [
    {
     "name": "stdout",
     "output_type": "stream",
     "text": [
      "rnd 316\n",
      "Dataset len: 0/20\n",
      "rnd 316\n",
      "rnd 316\n",
      "rnd 316\n",
      "rnd 316\n",
      "rnd 316\n",
      "rnd 316\n",
      "rnd 316\n",
      "rnd 316\n",
      "rnd 316\n",
      "rnd 316\n",
      "rnd 316\n",
      "rnd 316\n",
      "rnd 316\n",
      "rnd 316\n",
      "rnd 316\n",
      "rnd 316\n",
      "rnd 316\n",
      "rnd 316\n",
      "rnd 316\n",
      "rnd 316\n",
      "rnd 316\n",
      "rnd 316\n",
      "rnd 316\n",
      "rnd 316\n",
      "rnd 316\n",
      "rnd 316\n",
      "rnd 316\n",
      "rnd 316\n",
      "rnd 316\n",
      "rnd 316\n",
      "rnd 316\n",
      "rnd 316\n",
      "rnd 316\n",
      "END\n"
     ]
    }
   ],
   "source": [
    "import kragle.kdb as kdb\n",
    "import datetime as dt\n",
    "import pprint as pp\n",
    "\n",
    "from_date = dt.datetime(2019, 3, 19, 15, 0)\n",
    "to_date = dt.datetime(2019, 3, 19, 15, 1)\n",
    "periods=['m1', 'm5', 'm30', 'H2', 'H8', 'D1']\n",
    "db = kdb.KragleDB('FX_2019_2022')\n",
    "db.create_dataset( 20, from_date, to_date, \n",
    "                  periods=periods, history_len=10, pips=10, limit_future=500, distribution=[0.7, 0.2, 0.1])\n",
    "print('END')\n"
   ]
  },
  {
   "cell_type": "markdown",
   "metadata": {},
   "source": [
    "### Raw Data from FXCM"
   ]
  },
  {
   "cell_type": "code",
   "execution_count": 2,
   "metadata": {
    "scrolled": true
   },
   "outputs": [
    {
     "name": "stdout",
     "output_type": "stream",
     "text": [
      "WARNING | Default account set to 1342146, to change use set_default_account().\n",
      "ERROR | FXCM Server reports an unknown error: {'executed': False, 'error': ''}.\n",
      "ERROR | Can not parse server answer to json object: {\"response\":{\"executed\":false,\"error\":\"\"},\"instrument_id\":\"1\",\"period_id\":\"m1\",\"candles\":[]}.\n",
      "ERROR | FXCM Server reports an unknown error: {'executed': False, 'error': ''}.\n",
      "ERROR | Can not parse server answer to json object: {\"response\":{\"executed\":false,\"error\":\"\"},\"instrument_id\":\"1\",\"period_id\":\"m1\",\"candles\":[]}.\n",
      "ERROR | FXCM Server reports an unknown error: {'executed': False, 'error': ''}.\n",
      "ERROR | Can not parse server answer to json object: {\"response\":{\"executed\":false,\"error\":\"\"},\"instrument_id\":\"1\",\"period_id\":\"m1\",\"candles\":[]}.\n",
      "ERROR | FXCM Server reports an unknown error: {'executed': False, 'error': ''}.\n",
      "ERROR | Can not parse server answer to json object: {\"response\":{\"executed\":false,\"error\":\"\"},\"instrument_id\":\"1\",\"period_id\":\"m1\",\"candles\":[]}.\n",
      "END\n"
     ]
    }
   ],
   "source": [
    "import kragle.fxcm_utils as fxutils\n",
    "import datetime as dt\n",
    "import logging.config\n",
    "\n",
    "logging.config.fileConfig('log.cfg')\n",
    "\n",
    "start = dt.datetime(2023, 1, 1)\n",
    "end = dt.datetime(2023, 3, 1)\n",
    "\n",
    "\n",
    "m = fxutils.FxcmManager(dbname='FX_RAW')\n",
    "m.fetch_instrument(start, end)\n",
    "m.close()\n",
    "\n",
    "print('END')\n"
   ]
  },
  {
   "cell_type": "markdown",
   "metadata": {},
   "source": [
    "### Tensorflow"
   ]
  },
  {
   "cell_type": "code",
   "execution_count": 1,
   "metadata": {},
   "outputs": [
    {
     "name": "stdout",
     "output_type": "stream",
     "text": [
      "Model: \"sequential\"\n",
      "_________________________________________________________________\n",
      " Layer (type)                Output Shape              Param #   \n",
      "=================================================================\n",
      " conv2d (Conv2D)             (None, 6, 10, 32)         224       \n",
      "                                                                 \n",
      " conv2d_1 (Conv2D)           (None, 6, 10, 32)         9248      \n",
      "                                                                 \n",
      " conv2d_2 (Conv2D)           (None, 6, 10, 64)         18496     \n",
      "                                                                 \n",
      " dropout (Dropout)           (None, 6, 10, 64)         0         \n",
      "                                                                 \n",
      " conv2d_3 (Conv2D)           (None, 6, 10, 64)         36928     \n",
      "                                                                 \n",
      " conv2d_4 (Conv2D)           (None, 6, 10, 64)         36928     \n",
      "                                                                 \n",
      " flatten (Flatten)           (None, 3840)              0         \n",
      "                                                                 \n",
      " dense (Dense)               (None, 64)                245824    \n",
      "                                                                 \n",
      " dense_1 (Dense)             (None, 3)                 195       \n",
      "                                                                 \n",
      "=================================================================\n",
      "Total params: 347,843\n",
      "Trainable params: 347,843\n",
      "Non-trainable params: 0\n",
      "_________________________________________________________________\n"
     ]
    }
   ],
   "source": [
    "import tensorflow as tf\n",
    "\n",
    "from tensorflow.keras import datasets, layers, models\n",
    "\n",
    "\n",
    "model = models.Sequential()\n",
    "model.add(layers.Conv2D(32, (1, 3), activation='relu', input_shape=(6, 10, 2), padding='same'))\n",
    "model.add(layers.Conv2D(32, (3, 3), activation='relu', padding='same'))\n",
    "model.add(layers.Conv2D(64, (3, 3), activation='relu', padding='same'))\n",
    "model.add(layers.Dropout(0.25))\n",
    "model.add(layers.Conv2D(64, (3, 3), activation='relu', padding='same'))\n",
    "model.add(layers.Conv2D(64, (3, 3), activation='relu', padding='same'))\n",
    "#model.add(layers.BatchNormalization())\n",
    "\n",
    "\n",
    "model.add(layers.Flatten())\n",
    "model.add(layers.Dense(64, activation='relu'))\n",
    "model.add(layers.Dense(3, activation='softmax'))\n",
    "\n",
    "model.summary()"
   ]
  },
  {
   "cell_type": "markdown",
   "metadata": {},
   "source": [
    "### Compiling Model"
   ]
  },
  {
   "cell_type": "code",
   "execution_count": 4,
   "metadata": {},
   "outputs": [],
   "source": [
    "model.compile(optimizer='adam',\n",
    "              loss=tf.keras.losses.SparseCategoricalCrossentropy(from_logits=False),\n",
    "              metrics=['accuracy'],\n",
    "              run_eagerly=True)\n",
    "\n"
   ]
  },
  {
   "cell_type": "markdown",
   "metadata": {},
   "source": [
    "### Training Model"
   ]
  },
  {
   "cell_type": "code",
   "execution_count": null,
   "metadata": {},
   "outputs": [
    {
     "name": "stdout",
     "output_type": "stream",
     "text": [
      "Epoch 1/50\n",
      "344/344 [==============================] - 25s 72ms/step - loss: 5.0931 - accuracy: 0.3640 - val_loss: 1.1514 - val_accuracy: 0.3650\n",
      "Epoch 2/50\n",
      "218/344 [==================>...........] - ETA: 8s - loss: 4.9978 - accuracy: 0.3772"
     ]
    }
   ],
   "source": [
    "history = model.fit(train_set, train_labels, epochs=50, validation_data=valid, class_weight={0:8, 1:1, 2:8})"
   ]
  },
  {
   "cell_type": "markdown",
   "metadata": {},
   "source": [
    "### Plotting Accuracy"
   ]
  },
  {
   "cell_type": "code",
   "execution_count": 19,
   "metadata": {},
   "outputs": [
    {
     "name": "stdout",
     "output_type": "stream",
     "text": [
      "49/49 - 1s - loss: 1.1970 - accuracy: 0.6254 - 746ms/epoch - 15ms/step\n",
      "0.6254050731658936\n"
     ]
    },
    {
     "data": {
      "image/png": "[encoded data removed]",
      "text/plain": [
       "<Figure size 640x480 with 1 Axes>"
      ]
     },
     "metadata": {},
     "output_type": "display_data"
    }
   ],
   "source": [
    "import matplotlib.pyplot as plt\n",
    "\n",
    "plt.plot(history.history['loss'], label='loss')\n",
    "plt.plot(history.history['accuracy'], label='accuracy')\n",
    "plt.plot(history.history['val_loss'], label = 'val_loss')\n",
    "plt.plot(history.history['val_accuracy'], label = 'val_accuracy')\n",
    "plt.xlabel('Epoch')\n",
    "plt.ylabel('Accuracy / Loss')\n",
    "plt.ylim([0, 5])\n",
    "plt.legend(loc='lower right')\n",
    "\n",
    "test_loss, test_acc = model.evaluate(test[0],  test[1], verbose=2)\n",
    "\n",
    "print(test_acc)"
   ]
  },
  {
   "cell_type": "code",
   "execution_count": 20,
   "metadata": {},
   "outputs": [
    {
     "name": "stdout",
     "output_type": "stream",
     "text": [
      "Evaluate on test data on BUY\n",
      "19/19 [==============================] - 0s 15ms/step - loss: 1.1964 - accuracy: 0.5942\n",
      "test loss, test acc: [1.1964242458343506, 0.5941780805587769]\n",
      "Evaluate on test data on SELL\n",
      "17/17 [==============================] - 0s 16ms/step - loss: 1.1075 - accuracy: 0.6325\n",
      "test loss, test acc: [1.1075206995010376, 0.6324626803398132]\n",
      "Evaluate on test data on HOLD\n",
      "14/14 [==============================] - 0s 15ms/step - loss: 1.3113 - accuracy: 0.6596\n",
      "test loss, test acc: [1.311302661895752, 0.6595744490623474]\n"
     ]
    }
   ],
   "source": [
    "print(\"Evaluate on test data on BUY\")\n",
    "results = model.evaluate(test_BUY[0],test_BUY[1])\n",
    "print(\"test loss, test acc:\", results)\n",
    "print(\"Evaluate on test data on SELL\")\n",
    "results = model.evaluate(test_SELL[0],test_SELL[1])\n",
    "print(\"test loss, test acc:\", results)\n",
    "print(\"Evaluate on test data on HOLD\")\n",
    "results = model.evaluate(test_HOLD[0],test_HOLD[1])\n",
    "print(\"test loss, test acc:\", results)\n"
   ]
  },
  {
   "cell_type": "markdown",
   "metadata": {},
   "source": [
    "### Load Dataset"
   ]
  },
  {
   "cell_type": "code",
   "execution_count": 5,
   "metadata": {},
   "outputs": [],
   "source": [
    "import numpy\n",
    "\n",
    "import kragle.kdb as kdb\n",
    "import pprint as pp\n",
    "db = kdb.KragleDB('Datasets')\n",
    "(train_set, train_labels), valid, test = db.get_dataset(ds_name='pips12hist10fut300')\n"
   ]
  },
  {
   "cell_type": "code",
   "execution_count": 6,
   "metadata": {},
   "outputs": [
    {
     "name": "stdout",
     "output_type": "stream",
     "text": [
      "10994\n",
      "array([0, 0, 0, ..., 0, 0, 1])\n"
     ]
    }
   ],
   "source": [
    "print(len(train_labels))\n",
    "pp.pprint((train_labels))\n",
    "    "
   ]
  },
  {
   "cell_type": "code",
   "execution_count": 15,
   "metadata": {},
   "outputs": [],
   "source": [
    "import numpy\n",
    "\n",
    "import kragle.kdb as kdb\n",
    "import pprint as pp\n",
    "db = kdb.KragleDB('Datasets')\n",
    "test_SELL = db.get_dataset_bytype(ds_name='pips12hist10fut300', nclass=-1)\n",
    "test_HOLD = db.get_dataset_bytype(ds_name='pips12hist10fut300', nclass=0)\n",
    "test_BUY = db.get_dataset_bytype(ds_name='pips12hist10fut300', nclass=1)\n"
   ]
  },
  {
   "cell_type": "code",
   "execution_count": 16,
   "metadata": {},
   "outputs": [
    {
     "name": "stdout",
     "output_type": "stream",
     "text": [
      "[0 0 0 0 0 0 0 0 0 0 0 0 0 0 0 0 0 0 0 0 0 0 0 0 0 0 0 0 0 0 0 0 0 0 0 0 0\n",
      " 0 0 0 0 0 0 0 0 0 0 0 0 0 0 0 0 0 0 0 0 0 0 0 0 0 0 0 0 0 0 0 0 0 0 0 0 0\n",
      " 0 0 0 0 0 0 0 0 0 0 0 0 0 0 0 0 0 0 0 0 0 0 0 0 0 0 0 0 0 0 0 0 0 0 0 0 0\n",
      " 0 0 0 0 0 0 0 0 0 0 0 0 0 0 0 0 0 0 0 0 0 0 0 0 0 0 0 0 0 0 0 0 0 0 0 0 0\n",
      " 0 0 0 0 0 0 0 0 0 0 0 0 0 0 0 0 0 0 0 0 0 0 0 0 0 0 0 0 0 0 0 0 0 0 0 0 0\n",
      " 0 0 0 0 0 0 0 0 0 0 0 0 0 0 0 0 0 0 0 0 0 0 0 0 0 0 0 0 0 0 0 0 0 0 0 0 0\n",
      " 0 0 0 0 0 0 0 0 0 0 0 0 0 0 0 0 0 0 0 0 0 0 0 0 0 0 0 0 0 0 0 0 0 0 0 0 0\n",
      " 0 0 0 0 0 0 0 0 0 0 0 0 0 0 0 0 0 0 0 0 0 0 0 0 0 0 0 0 0 0 0 0 0 0 0 0 0\n",
      " 0 0 0 0 0 0 0 0 0 0 0 0 0 0 0 0 0 0 0 0 0 0 0 0 0 0 0 0 0 0 0 0 0 0 0 0 0\n",
      " 0 0 0 0 0 0 0 0 0 0 0 0 0 0 0 0 0 0 0 0 0 0 0 0 0 0 0 0 0 0 0 0 0 0 0 0 0\n",
      " 0 0 0 0 0 0 0 0 0 0 0 0 0 0 0 0 0 0 0 0 0 0 0 0 0 0 0 0 0 0 0 0 0 0 0 0 0\n",
      " 0 0 0 0 0 0 0 0 0 0 0 0 0 0 0 0 0 0 0 0 0 0 0 0 0 0 0 0 0 0 0 0 0 0 0 0 0\n",
      " 0 0 0 0 0 0 0 0 0 0 0 0 0 0 0 0 0 0 0 0 0 0 0 0 0 0 0 0 0 0 0 0 0 0 0 0 0\n",
      " 0 0 0 0 0 0 0 0 0 0 0 0 0 0 0 0 0 0 0 0 0 0 0 0 0 0 0 0 0 0 0 0 0 0 0 0 0\n",
      " 0 0 0 0 0 0 0 0 0 0 0 0 0 0 0 0 0 0]\n",
      "[1 1 1 1 1 1 1 1 1 1 1 1 1 1 1 1 1 1 1 1 1 1 1 1 1 1 1 1 1 1 1 1 1 1 1 1 1\n",
      " 1 1 1 1 1 1 1 1 1 1 1 1 1 1 1 1 1 1 1 1 1 1 1 1 1 1 1 1 1 1 1 1 1 1 1 1 1\n",
      " 1 1 1 1 1 1 1 1 1 1 1 1 1 1 1 1 1 1 1 1 1 1 1 1 1 1 1 1 1 1 1 1 1 1 1 1 1\n",
      " 1 1 1 1 1 1 1 1 1 1 1 1 1 1 1 1 1 1 1 1 1 1 1 1 1 1 1 1 1 1 1 1 1 1 1 1 1\n",
      " 1 1 1 1 1 1 1 1 1 1 1 1 1 1 1 1 1 1 1 1 1 1 1 1 1 1 1 1 1 1 1 1 1 1 1 1 1\n",
      " 1 1 1 1 1 1 1 1 1 1 1 1 1 1 1 1 1 1 1 1 1 1 1 1 1 1 1 1 1 1 1 1 1 1 1 1 1\n",
      " 1 1 1 1 1 1 1 1 1 1 1 1 1 1 1 1 1 1 1 1 1 1 1 1 1 1 1 1 1 1 1 1 1 1 1 1 1\n",
      " 1 1 1 1 1 1 1 1 1 1 1 1 1 1 1 1 1 1 1 1 1 1 1 1 1 1 1 1 1 1 1 1 1 1 1 1 1\n",
      " 1 1 1 1 1 1 1 1 1 1 1 1 1 1 1 1 1 1 1 1 1 1 1 1 1 1 1 1 1 1 1 1 1 1 1 1 1\n",
      " 1 1 1 1 1 1 1 1 1 1 1 1 1 1 1 1 1 1 1 1 1 1 1 1 1 1 1 1 1 1 1 1 1 1 1 1 1\n",
      " 1 1 1 1 1 1 1 1 1 1 1 1 1 1 1 1 1 1 1 1 1 1 1 1 1 1 1 1 1 1 1 1 1 1 1 1 1\n",
      " 1 1 1 1 1 1 1 1 1 1 1 1 1 1 1 1]\n",
      "[2 2 2 2 2 2 2 2 2 2 2 2 2 2 2 2 2 2 2 2 2 2 2 2 2 2 2 2 2 2 2 2 2 2 2 2 2\n",
      " 2 2 2 2 2 2 2 2 2 2 2 2 2 2 2 2 2 2 2 2 2 2 2 2 2 2 2 2 2 2 2 2 2 2 2 2 2\n",
      " 2 2 2 2 2 2 2 2 2 2 2 2 2 2 2 2 2 2 2 2 2 2 2 2 2 2 2 2 2 2 2 2 2 2 2 2 2\n",
      " 2 2 2 2 2 2 2 2 2 2 2 2 2 2 2 2 2 2 2 2 2 2 2 2 2 2 2 2 2 2 2 2 2 2 2 2 2\n",
      " 2 2 2 2 2 2 2 2 2 2 2 2 2 2 2 2 2 2 2 2 2 2 2 2 2 2 2 2 2 2 2 2 2 2 2 2 2\n",
      " 2 2 2 2 2 2 2 2 2 2 2 2 2 2 2 2 2 2 2 2 2 2 2 2 2 2 2 2 2 2 2 2 2 2 2 2 2\n",
      " 2 2 2 2 2 2 2 2 2 2 2 2 2 2 2 2 2 2 2 2 2 2 2 2 2 2 2 2 2 2 2 2 2 2 2 2 2\n",
      " 2 2 2 2 2 2 2 2 2 2 2 2 2 2 2 2 2 2 2 2 2 2 2 2 2 2 2 2 2 2 2 2 2 2 2 2 2\n",
      " 2 2 2 2 2 2 2 2 2 2 2 2 2 2 2 2 2 2 2 2 2 2 2 2 2 2 2 2 2 2 2 2 2 2 2 2 2\n",
      " 2 2 2 2 2 2 2 2 2 2 2 2 2 2 2 2 2 2 2 2 2 2 2 2 2 2 2 2 2 2 2 2 2 2 2 2 2\n",
      " 2 2 2 2 2 2 2 2 2 2 2 2 2 2 2 2 2 2 2 2 2 2 2 2 2 2 2 2 2 2 2 2 2 2 2 2 2\n",
      " 2 2 2 2 2 2 2 2 2 2 2 2 2 2 2 2 2 2 2 2 2 2 2 2 2 2 2 2 2 2 2 2 2 2 2 2 2\n",
      " 2 2 2 2 2 2 2 2 2 2 2 2 2 2 2 2 2 2 2 2 2 2 2 2 2 2 2 2 2 2 2 2 2 2 2 2 2\n",
      " 2 2 2 2 2 2 2 2 2 2 2 2 2 2 2 2 2 2 2 2 2 2 2 2 2 2 2 2 2 2 2 2 2 2 2 2 2\n",
      " 2 2 2 2 2 2 2 2 2 2 2 2 2 2 2 2 2 2 2 2 2 2 2 2 2 2 2 2 2 2 2 2 2 2 2 2 2\n",
      " 2 2 2 2 2 2 2 2 2 2 2 2 2 2 2 2 2 2 2 2 2 2 2 2 2 2 2 2 2]\n"
     ]
    }
   ],
   "source": [
    "print(test_SELL[1])\n",
    "print(test_HOLD[1])\n",
    "print(test_BUY[1])"
   ]
  },
  {
   "cell_type": "markdown",
   "metadata": {},
   "source": [
    "### Percentage"
   ]
  },
  {
   "cell_type": "code",
   "execution_count": 2,
   "metadata": {},
   "outputs": [
    {
     "name": "stdout",
     "output_type": "stream",
     "text": [
      "Sell: 35.82089552238806%   Hold: 20.8955223880597%   Buy: 43.28358208955223%\n"
     ]
    }
   ],
   "source": [
    "import kragle.kdb as kdb\n",
    "import pprint as pp\n",
    "db = kdb.KragleDB()\n",
    "\n",
    "s, h, b = db.get_dataset_percentage('pips15hist10fut600', type='test')\n",
    "print('Sell: {}%   Hold: {}%   Buy: {}%'.format(s*100, h*100, b*100))"
   ]
  },
  {
   "cell_type": "markdown",
   "metadata": {},
   "source": [
    "### Tensor from FXCM"
   ]
  },
  {
   "cell_type": "code",
   "execution_count": 1,
   "metadata": {},
   "outputs": [
    {
     "name": "stderr",
     "output_type": "stream",
     "text": [
      "|WARNING|2023-02-03 00:43:45,560|Default account set to 1342146, to change use set_default_account().\n"
     ]
    },
    {
     "name": "stdout",
     "output_type": "stream",
     "text": [
      "Done\n"
     ]
    }
   ],
   "source": [
    "import kragle.kdb as kdb\n",
    "import pprint as pp\n",
    "\n",
    "db = kdb.KragleDB(db_name='TensorSave', instrument='EUR/USD', ds_name='Datasets')\n",
    "\n",
    "    \n",
    "db.fetch_data_tensor_fxcm( periods=['m1', 'm5', 'm30', 'H2', 'H8', 'D1'], history_len=10)\n",
    "print('Done')"
   ]
  },
  {
   "cell_type": "markdown",
   "metadata": {},
   "source": [
    "### Tensor from DB"
   ]
  },
  {
   "cell_type": "code",
   "execution_count": 3,
   "metadata": {},
   "outputs": [
    {
     "data": {
      "text/plain": [
       "[[[datetime.datetime(2023, 2, 2, 23, 43), 1.0905, 14],\n",
       "  [datetime.datetime(2023, 2, 2, 23, 42), 1.09053, 30],\n",
       "  [datetime.datetime(2023, 2, 2, 23, 41), 1.09049, 46],\n",
       "  [datetime.datetime(2023, 2, 2, 23, 40), 1.09054, 59],\n",
       "  [datetime.datetime(2023, 2, 2, 23, 39), 1.09057, 17],\n",
       "  [datetime.datetime(2023, 2, 2, 23, 38), 1.09058, 20],\n",
       "  [datetime.datetime(2023, 2, 2, 23, 37), 1.09061, 31],\n",
       "  [datetime.datetime(2023, 2, 2, 23, 36), 1.09067, 23],\n",
       "  [datetime.datetime(2023, 2, 2, 23, 35), 1.09065, 49],\n",
       "  [datetime.datetime(2023, 2, 2, 23, 34), 1.0907, 48],\n",
       "  [datetime.datetime(2023, 2, 2, 23, 33), 1.09067, 39]],\n",
       " [[datetime.datetime(2023, 2, 2, 23, 40), 1.09054, 149],\n",
       "  [datetime.datetime(2023, 2, 2, 23, 35), 1.09065, 140],\n",
       "  [datetime.datetime(2023, 2, 2, 23, 30), 1.09084, 285],\n",
       "  [datetime.datetime(2023, 2, 2, 23, 25), 1.09088, 271],\n",
       "  [datetime.datetime(2023, 2, 2, 23, 20), 1.09087, 240],\n",
       "  [datetime.datetime(2023, 2, 2, 23, 15), 1.09082, 356],\n",
       "  [datetime.datetime(2023, 2, 2, 23, 10), 1.09085, 340],\n",
       "  [datetime.datetime(2023, 2, 2, 23, 5), 1.09107, 245],\n",
       "  [datetime.datetime(2023, 2, 2, 23, 0), 1.09078, 267],\n",
       "  [datetime.datetime(2023, 2, 2, 22, 55), 1.09065, 237],\n",
       "  [datetime.datetime(2023, 2, 2, 22, 50), 1.0907, 66]],\n",
       " [[datetime.datetime(2023, 2, 2, 23, 30), 1.09084, 574],\n",
       "  [datetime.datetime(2023, 2, 2, 23, 0), 1.09077, 1719],\n",
       "  [datetime.datetime(2023, 2, 2, 22, 30), 1.09084, 809],\n",
       "  [datetime.datetime(2023, 2, 2, 22, 0), 1.09084, 91],\n",
       "  [datetime.datetime(2023, 2, 2, 21, 30), 1.09124, 4351],\n",
       "  [datetime.datetime(2023, 2, 2, 21, 0), 1.09134, 6909],\n",
       "  [datetime.datetime(2023, 2, 2, 20, 30), 1.0908, 7758],\n",
       "  [datetime.datetime(2023, 2, 2, 20, 0), 1.09075, 8459],\n",
       "  [datetime.datetime(2023, 2, 2, 19, 30), 1.09145, 9402],\n",
       "  [datetime.datetime(2023, 2, 2, 19, 0), 1.09189, 7889],\n",
       "  [datetime.datetime(2023, 2, 2, 18, 30), 1.09206, 5137]],\n",
       " [[datetime.datetime(2023, 2, 2, 22, 0), 1.09084, 3187],\n",
       "  [datetime.datetime(2023, 2, 2, 20, 0), 1.09075, 27477],\n",
       "  [datetime.datetime(2023, 2, 2, 18, 0), 1.09082, 28761],\n",
       "  [datetime.datetime(2023, 2, 2, 16, 0), 1.0936, 41445],\n",
       "  [datetime.datetime(2023, 2, 2, 14, 0), 1.09451, 92525],\n",
       "  [datetime.datetime(2023, 2, 2, 12, 0), 1.09989, 76566],\n",
       "  [datetime.datetime(2023, 2, 2, 10, 0), 1.09985, 26245],\n",
       "  [datetime.datetime(2023, 2, 2, 8, 0), 1.09931, 34229],\n",
       "  [datetime.datetime(2023, 2, 2, 6, 0), 1.10197, 22736],\n",
       "  [datetime.datetime(2023, 2, 2, 4, 0), 1.10172, 11902],\n",
       "  [datetime.datetime(2023, 2, 2, 2, 0), 1.10131, 15278]],\n",
       " [[datetime.datetime(2023, 2, 2, 22, 0), 1.09084, 3187],\n",
       "  [datetime.datetime(2023, 2, 2, 14, 0), 1.09451, 190208],\n",
       "  [datetime.datetime(2023, 2, 2, 6, 0), 1.10197, 159776],\n",
       "  [datetime.datetime(2023, 2, 1, 22, 0), 1.09875, 65154],\n",
       "  [datetime.datetime(2023, 2, 1, 14, 0), 1.09038, 241659],\n",
       "  [datetime.datetime(2023, 2, 1, 6, 0), 1.08713, 101863],\n",
       "  [datetime.datetime(2023, 1, 31, 22, 0), 1.08607, 29023],\n",
       "  [datetime.datetime(2023, 1, 31, 14, 0), 1.08508, 127063],\n",
       "  [datetime.datetime(2023, 1, 31, 6, 0), 1.08345, 130207],\n",
       "  [datetime.datetime(2023, 1, 30, 22, 0), 1.0848, 43277],\n",
       "  [datetime.datetime(2023, 1, 30, 14, 0), 1.08859, 109282]],\n",
       " [[datetime.datetime(2023, 2, 2, 22, 0), 1.09084, 3187],\n",
       "  [datetime.datetime(2023, 2, 1, 22, 0), 1.08607, 372545],\n",
       "  [datetime.datetime(2023, 1, 31, 22, 0), 1.0848, 300547],\n",
       "  [datetime.datetime(2023, 1, 30, 22, 0), 1.08654, 266787],\n",
       "  [datetime.datetime(2023, 1, 29, 22, 0), 1.08664, 179],\n",
       "  [datetime.datetime(2023, 1, 27, 22, 0), 1.08885, 201659],\n",
       "  [datetime.datetime(2023, 1, 26, 22, 0), 1.09154, 242276],\n",
       "  [datetime.datetime(2023, 1, 25, 22, 0), 1.08818, 234914],\n",
       "  [datetime.datetime(2023, 1, 24, 22, 0), 1.08687, 232099],\n",
       "  [datetime.datetime(2023, 1, 23, 22, 0), 1.08663, 248254],\n",
       "  [datetime.datetime(2023, 1, 22, 22, 0), 1.08576, 353]]]"
      ]
     },
     "execution_count": 3,
     "metadata": {},
     "output_type": "execute_result"
    }
   ],
   "source": [
    "import kragle.kdb as kdb\n",
    "import pprint as pp\n",
    "import datetime as dt\n",
    "\n",
    "end = dt.datetime(2023, 2, 2, 23, 43)\n",
    "db = kdb.KragleDB('FX_RAW')\n",
    "\n",
    "db.get_data_tensor( periods=['m1', 'm5', 'm30', 'H2', 'H8', 'D1'],to_date=end, history_len=10, normalized=False)"
   ]
  }
 ],
 "metadata": {
  "colab": {
   "name": "forex history.ipynb",
   "provenance": []
  },
  "kernelspec": {
   "display_name": "Python 3 (ipykernel)",
   "language": "python",
   "name": "python3"
  },
  "language_info": {
   "codemirror_mode": {
    "name": "ipython",
    "version": 3
   },
   "file_extension": ".py",
   "mimetype": "text/x-python",
   "name": "python",
   "nbconvert_exporter": "python",
   "pygments_lexer": "ipython3",
   "version": "3.9.1"
  }
 },
 "nbformat": 4,
 "nbformat_minor": 1
}
